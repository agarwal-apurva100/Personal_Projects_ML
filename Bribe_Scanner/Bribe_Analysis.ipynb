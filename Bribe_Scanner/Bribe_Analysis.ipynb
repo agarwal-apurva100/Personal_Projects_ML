{
 "cells": [
  {
   "cell_type": "code",
   "execution_count": null,
   "id": "fbac40e6",
   "metadata": {},
   "outputs": [],
   "source": [
    "### Tasks\n",
    "# Find the following observation: -\n",
    "# 1 - Most Bribes are paid in which cities?\n",
    "# 2- Most Bribes are paid in which states?\n",
    "# 3- Which department gets paid the most bribe?\n",
    "# 4-Departments which take most bribe on average and overall.\n",
    "# 5-Bribes paid by days of the month\n",
    "# 6-Bribes paid by days of the days of week\n",
    "# 7-Bribes paid by Years\n",
    "# 8-Conclusion"
   ]
  },
  {
   "cell_type": "code",
   "execution_count": 4,
   "id": "7a1bef1c",
   "metadata": {},
   "outputs": [],
   "source": [
    "# import the libraries\n",
    "import os,sys\n",
    "import numpy as np\n",
    "import pandas as pd\n",
    "import matplotlib.pyplot as plt\n",
    "%matplotlib inline\n",
    "import seaborn as sns\n",
    "sns.set_style('darkgrid')\n",
    "import warnings\n",
    "warnings.filterwarnings('ignore')"
   ]
  },
  {
   "cell_type": "code",
   "execution_count": 2,
   "id": "6a399d08",
   "metadata": {},
   "outputs": [],
   "source": [
    "plt.rcParams['font.size']=14\n",
    "plt.rcParams['figure.figsize']=(10,6)"
   ]
  },
  {
   "cell_type": "code",
   "execution_count": 5,
   "id": "e49395e0",
   "metadata": {},
   "outputs": [],
   "source": [
    "df1=pd.read_csv('Bribe_report.csv')\n",
    "df=df1.copy()"
   ]
  },
  {
   "cell_type": "code",
   "execution_count": 6,
   "id": "7465820f",
   "metadata": {},
   "outputs": [
    {
     "data": {
      "text/html": [
       "<div>\n",
       "<style scoped>\n",
       "    .dataframe tbody tr th:only-of-type {\n",
       "        vertical-align: middle;\n",
       "    }\n",
       "\n",
       "    .dataframe tbody tr th {\n",
       "        vertical-align: top;\n",
       "    }\n",
       "\n",
       "    .dataframe thead th {\n",
       "        text-align: right;\n",
       "    }\n",
       "</style>\n",
       "<table border=\"1\" class=\"dataframe\">\n",
       "  <thead>\n",
       "    <tr style=\"text-align: right;\">\n",
       "      <th></th>\n",
       "      <th>Title</th>\n",
       "      <th>Date</th>\n",
       "      <th>Location</th>\n",
       "      <th>Department</th>\n",
       "      <th>Views</th>\n",
       "      <th>Amount(INR)</th>\n",
       "    </tr>\n",
       "  </thead>\n",
       "  <tbody>\n",
       "    <tr>\n",
       "      <th>0</th>\n",
       "      <td>They said it is registration fee for birth cer...</td>\n",
       "      <td>14-10-20</td>\n",
       "      <td>Bangalore,Karnataka</td>\n",
       "      <td>Births, Family and Care</td>\n",
       "      <td>1225</td>\n",
       "      <td>400</td>\n",
       "    </tr>\n",
       "    <tr>\n",
       "      <th>1</th>\n",
       "      <td>Paid bribe for not having insurance during pan...</td>\n",
       "      <td>13-10-20</td>\n",
       "      <td>Bangalore,Karnataka</td>\n",
       "      <td>Vehicle Insurance</td>\n",
       "      <td>1158</td>\n",
       "      <td>350</td>\n",
       "    </tr>\n",
       "    <tr>\n",
       "      <th>2</th>\n",
       "      <td>Forced to pay bribe at KR Puram RTO</td>\n",
       "      <td>13-10-20</td>\n",
       "      <td>Bangalore,Karnataka</td>\n",
       "      <td>Driving and Transport Business</td>\n",
       "      <td>1249</td>\n",
       "      <td>100</td>\n",
       "    </tr>\n",
       "    <tr>\n",
       "      <th>3</th>\n",
       "      <td>Forced to pay 100 rupees bribe for LL test</td>\n",
       "      <td>13-10-20</td>\n",
       "      <td>Bangalore,Karnataka</td>\n",
       "      <td>Driving Licenses and Tests</td>\n",
       "      <td>1044</td>\n",
       "      <td>100</td>\n",
       "    </tr>\n",
       "    <tr>\n",
       "      <th>4</th>\n",
       "      <td>Misusing of power and traping people in false ...</td>\n",
       "      <td>13-10-20</td>\n",
       "      <td>Siwan,Bihar</td>\n",
       "      <td>FIR and Complaints</td>\n",
       "      <td>1068</td>\n",
       "      <td>15000</td>\n",
       "    </tr>\n",
       "  </tbody>\n",
       "</table>\n",
       "</div>"
      ],
      "text/plain": [
       "                                               Title      Date  \\\n",
       "0  They said it is registration fee for birth cer...  14-10-20   \n",
       "1  Paid bribe for not having insurance during pan...  13-10-20   \n",
       "2                Forced to pay bribe at KR Puram RTO  13-10-20   \n",
       "3         Forced to pay 100 rupees bribe for LL test  13-10-20   \n",
       "4  Misusing of power and traping people in false ...  13-10-20   \n",
       "\n",
       "              Location                      Department  Views  Amount(INR)  \n",
       "0  Bangalore,Karnataka         Births, Family and Care   1225          400  \n",
       "1  Bangalore,Karnataka               Vehicle Insurance   1158          350  \n",
       "2  Bangalore,Karnataka  Driving and Transport Business   1249          100  \n",
       "3  Bangalore,Karnataka      Driving Licenses and Tests   1044          100  \n",
       "4          Siwan,Bihar              FIR and Complaints   1068        15000  "
      ]
     },
     "execution_count": 6,
     "metadata": {},
     "output_type": "execute_result"
    }
   ],
   "source": [
    "df.head()"
   ]
  },
  {
   "cell_type": "code",
   "execution_count": null,
   "id": "eef945c6",
   "metadata": {},
   "outputs": [],
   "source": [
    "# Data"
   ]
  },
  {
   "cell_type": "code",
   "execution_count": 7,
   "id": "a06288e6",
   "metadata": {},
   "outputs": [
    {
     "name": "stdout",
     "output_type": "stream",
     "text": [
      "<class 'pandas.core.frame.DataFrame'>\n",
      "RangeIndex: 3473 entries, 0 to 3472\n",
      "Data columns (total 6 columns):\n",
      " #   Column       Non-Null Count  Dtype \n",
      "---  ------       --------------  ----- \n",
      " 0   Title        3473 non-null   object\n",
      " 1   Date         3473 non-null   object\n",
      " 2   Location     3473 non-null   object\n",
      " 3   Department   3429 non-null   object\n",
      " 4   Views        3473 non-null   int64 \n",
      " 5   Amount(INR)  3473 non-null   int64 \n",
      "dtypes: int64(2), object(4)\n",
      "memory usage: 162.9+ KB\n"
     ]
    }
   ],
   "source": [
    "df.info()\n",
    "# we have 4 categorical variable and 2 numerical problems"
   ]
  },
  {
   "cell_type": "code",
   "execution_count": 8,
   "id": "101b1d24",
   "metadata": {},
   "outputs": [
    {
     "name": "stdout",
     "output_type": "stream",
     "text": [
      "The dataset have 3473 rows and 6 columns\n"
     ]
    }
   ],
   "source": [
    "r,c=df.shape\n",
    "print('The dataset have',r,'rows','and',c,'columns')"
   ]
  },
  {
   "cell_type": "code",
   "execution_count": 9,
   "id": "62f35d9a",
   "metadata": {},
   "outputs": [
    {
     "data": {
      "text/plain": [
       "Title           0\n",
       "Date            0\n",
       "Location        0\n",
       "Department     44\n",
       "Views           0\n",
       "Amount(INR)     0\n",
       "dtype: int64"
      ]
     },
     "execution_count": 9,
     "metadata": {},
     "output_type": "execute_result"
    }
   ],
   "source": [
    "# check for null values\n",
    "df.isnull().sum()\n",
    "# we can see that there are 44 null values in Department column"
   ]
  },
  {
   "cell_type": "code",
   "execution_count": 14,
   "id": "9cb66c80",
   "metadata": {},
   "outputs": [
    {
     "name": "stdout",
     "output_type": "stream",
     "text": [
      "(44, 6)\n"
     ]
    },
    {
     "data": {
      "text/html": [
       "<div>\n",
       "<style scoped>\n",
       "    .dataframe tbody tr th:only-of-type {\n",
       "        vertical-align: middle;\n",
       "    }\n",
       "\n",
       "    .dataframe tbody tr th {\n",
       "        vertical-align: top;\n",
       "    }\n",
       "\n",
       "    .dataframe thead th {\n",
       "        text-align: right;\n",
       "    }\n",
       "</style>\n",
       "<table border=\"1\" class=\"dataframe\">\n",
       "  <thead>\n",
       "    <tr style=\"text-align: right;\">\n",
       "      <th></th>\n",
       "      <th>Title</th>\n",
       "      <th>Date</th>\n",
       "      <th>Location</th>\n",
       "      <th>Department</th>\n",
       "      <th>Views</th>\n",
       "      <th>Amount(INR)</th>\n",
       "    </tr>\n",
       "  </thead>\n",
       "  <tbody>\n",
       "    <tr>\n",
       "      <th>34</th>\n",
       "      <td>I paid 500rs bribe for passport police verific...</td>\n",
       "      <td>2/10/2020</td>\n",
       "      <td>NewDelhi,Delhi</td>\n",
       "      <td>NaN</td>\n",
       "      <td>1451</td>\n",
       "      <td>500</td>\n",
       "    </tr>\n",
       "    <tr>\n",
       "      <th>38</th>\n",
       "      <td>For clearing papers in survey for SRA</td>\n",
       "      <td>25-09-20</td>\n",
       "      <td>Mumbai,Maharashtra</td>\n",
       "      <td>NaN</td>\n",
       "      <td>1760</td>\n",
       "      <td>500000</td>\n",
       "    </tr>\n",
       "    <tr>\n",
       "      <th>74</th>\n",
       "      <td>I paid 500rs bribe for passport police verific...</td>\n",
       "      <td>2/10/2020</td>\n",
       "      <td>NewDelhi,Delhi</td>\n",
       "      <td>NaN</td>\n",
       "      <td>1451</td>\n",
       "      <td>500</td>\n",
       "    </tr>\n",
       "    <tr>\n",
       "      <th>78</th>\n",
       "      <td>For clearing papers in survey for SRA</td>\n",
       "      <td>25-09-20</td>\n",
       "      <td>Mumbai,Maharashtra</td>\n",
       "      <td>NaN</td>\n",
       "      <td>1760</td>\n",
       "      <td>500000</td>\n",
       "    </tr>\n",
       "    <tr>\n",
       "      <th>144</th>\n",
       "      <td>Bribe taken by pollution office of Raipur (CG)</td>\n",
       "      <td>15-05-20</td>\n",
       "      <td>Raipur,Chhattisgarh</td>\n",
       "      <td>NaN</td>\n",
       "      <td>1565</td>\n",
       "      <td>200000</td>\n",
       "    </tr>\n",
       "    <tr>\n",
       "      <th>202</th>\n",
       "      <td>Reg Husband mohamed asik given amount to socia...</td>\n",
       "      <td>25-02-20</td>\n",
       "      <td>Madurai,TamilNadu</td>\n",
       "      <td>NaN</td>\n",
       "      <td>1848</td>\n",
       "      <td>5000</td>\n",
       "    </tr>\n",
       "    <tr>\n",
       "      <th>230</th>\n",
       "      <td>For Staying on the road side with motorcycle</td>\n",
       "      <td>5/2/2020</td>\n",
       "      <td>Bangalore,Karnataka</td>\n",
       "      <td>NaN</td>\n",
       "      <td>1816</td>\n",
       "      <td>200</td>\n",
       "    </tr>\n",
       "    <tr>\n",
       "      <th>260</th>\n",
       "      <td>Paid 500 Rs bribe at Nizamuddin Station Saraik...</td>\n",
       "      <td>10/1/2020</td>\n",
       "      <td>NewDelhi,Delhi</td>\n",
       "      <td>NaN</td>\n",
       "      <td>1926</td>\n",
       "      <td>500</td>\n",
       "    </tr>\n",
       "    <tr>\n",
       "      <th>278</th>\n",
       "      <td>FSO demanded for bribe through his helper</td>\n",
       "      <td>31-12-19</td>\n",
       "      <td>Silvassa,DadraandNagarHaveli</td>\n",
       "      <td>NaN</td>\n",
       "      <td>881</td>\n",
       "      <td>15000</td>\n",
       "    </tr>\n",
       "    <tr>\n",
       "      <th>300</th>\n",
       "      <td>Bribe for online motation</td>\n",
       "      <td>10/12/2019</td>\n",
       "      <td>Gaya,Bihar</td>\n",
       "      <td>NaN</td>\n",
       "      <td>2138</td>\n",
       "      <td>30000</td>\n",
       "    </tr>\n",
       "    <tr>\n",
       "      <th>314</th>\n",
       "      <td>Registration of flat</td>\n",
       "      <td>1/12/2019</td>\n",
       "      <td>Bangalore,Karnataka</td>\n",
       "      <td>NaN</td>\n",
       "      <td>1620</td>\n",
       "      <td>11000</td>\n",
       "    </tr>\n",
       "    <tr>\n",
       "      <th>319</th>\n",
       "      <td>House no is not mentioned in address that reasons</td>\n",
       "      <td>29-11-19</td>\n",
       "      <td>Pune,Maharashtra</td>\n",
       "      <td>NaN</td>\n",
       "      <td>2591</td>\n",
       "      <td>1000</td>\n",
       "    </tr>\n",
       "    <tr>\n",
       "      <th>356</th>\n",
       "      <td>Ticket checker take 200</td>\n",
       "      <td>13-11-19</td>\n",
       "      <td>Rewari,Haryana</td>\n",
       "      <td>NaN</td>\n",
       "      <td>1094</td>\n",
       "      <td>200</td>\n",
       "    </tr>\n",
       "    <tr>\n",
       "      <th>381</th>\n",
       "      <td>Found Theft bike</td>\n",
       "      <td>29-10-19</td>\n",
       "      <td>Chitradurga,Karnataka</td>\n",
       "      <td>NaN</td>\n",
       "      <td>1648</td>\n",
       "      <td>7000</td>\n",
       "    </tr>\n",
       "    <tr>\n",
       "      <th>426</th>\n",
       "      <td>I am a cha in custom the babu of custom office...</td>\n",
       "      <td>11/10/2019</td>\n",
       "      <td>Jaipur,Rajasthan</td>\n",
       "      <td>NaN</td>\n",
       "      <td>1467</td>\n",
       "      <td>10000</td>\n",
       "    </tr>\n",
       "    <tr>\n",
       "      <th>452</th>\n",
       "      <td>Bribe for adhar correction</td>\n",
       "      <td>4/10/2019</td>\n",
       "      <td>Faizabad,UttarPradesh</td>\n",
       "      <td>NaN</td>\n",
       "      <td>981</td>\n",
       "      <td>250</td>\n",
       "    </tr>\n",
       "    <tr>\n",
       "      <th>486</th>\n",
       "      <td>For Death claim</td>\n",
       "      <td>22-09-19</td>\n",
       "      <td>NewDelhi,Delhi</td>\n",
       "      <td>NaN</td>\n",
       "      <td>1274</td>\n",
       "      <td>7000</td>\n",
       "    </tr>\n",
       "    <tr>\n",
       "      <th>519</th>\n",
       "      <td>Bribe taken for issueing PUC certificate for car</td>\n",
       "      <td>11/9/2019</td>\n",
       "      <td>Tezpur,Assam</td>\n",
       "      <td>NaN</td>\n",
       "      <td>1178</td>\n",
       "      <td>100</td>\n",
       "    </tr>\n",
       "    <tr>\n",
       "      <th>663</th>\n",
       "      <td>Bribe for international driving licence</td>\n",
       "      <td>20-07-19</td>\n",
       "      <td>Bangalore,Karnataka</td>\n",
       "      <td>NaN</td>\n",
       "      <td>1534</td>\n",
       "      <td>1500</td>\n",
       "    </tr>\n",
       "    <tr>\n",
       "      <th>664</th>\n",
       "      <td>Gst registration</td>\n",
       "      <td>20-07-19</td>\n",
       "      <td>Kanpur,UttarPradesh</td>\n",
       "      <td>NaN</td>\n",
       "      <td>2999</td>\n",
       "      <td>5000</td>\n",
       "    </tr>\n",
       "    <tr>\n",
       "      <th>666</th>\n",
       "      <td>Bribe to esi c inspection officer</td>\n",
       "      <td>19-07-19</td>\n",
       "      <td>Raipur,Chhattisgarh</td>\n",
       "      <td>NaN</td>\n",
       "      <td>2411</td>\n",
       "      <td>50000</td>\n",
       "    </tr>\n",
       "    <tr>\n",
       "      <th>675</th>\n",
       "      <td>Silver Bullet BULLET for HPI BAJA - Polished</td>\n",
       "      <td>17-07-19</td>\n",
       "      <td>Adilabad,Telangana</td>\n",
       "      <td>NaN</td>\n",
       "      <td>1629</td>\n",
       "      <td>1200</td>\n",
       "    </tr>\n",
       "    <tr>\n",
       "      <th>684</th>\n",
       "      <td>KR Puram RTO office is collecting an additiona...</td>\n",
       "      <td>14-07-19</td>\n",
       "      <td>Bangalore,Karnataka</td>\n",
       "      <td>NaN</td>\n",
       "      <td>1470</td>\n",
       "      <td>10</td>\n",
       "    </tr>\n",
       "    <tr>\n",
       "      <th>701</th>\n",
       "      <td>Issuance of marriage certificate</td>\n",
       "      <td>8/7/2019</td>\n",
       "      <td>Bangalore,Karnataka</td>\n",
       "      <td>NaN</td>\n",
       "      <td>1571</td>\n",
       "      <td>2500</td>\n",
       "    </tr>\n",
       "    <tr>\n",
       "      <th>748</th>\n",
       "      <td>Bill jyada nikal rahe hai</td>\n",
       "      <td>22-06-19</td>\n",
       "      <td>Aligarh,UttarPradesh</td>\n",
       "      <td>NaN</td>\n",
       "      <td>2351</td>\n",
       "      <td>500</td>\n",
       "    </tr>\n",
       "    <tr>\n",
       "      <th>797</th>\n",
       "      <td>Againest flat purchase by ida</td>\n",
       "      <td>6/6/2019</td>\n",
       "      <td>Indore,MadhyaPradesh</td>\n",
       "      <td>NaN</td>\n",
       "      <td>2496</td>\n",
       "      <td>25000</td>\n",
       "    </tr>\n",
       "    <tr>\n",
       "      <th>942</th>\n",
       "      <td>Bribe for Passport verification</td>\n",
       "      <td>7/4/2019</td>\n",
       "      <td>Gulbarga,Karnataka</td>\n",
       "      <td>NaN</td>\n",
       "      <td>2561</td>\n",
       "      <td>600</td>\n",
       "    </tr>\n",
       "    <tr>\n",
       "      <th>984</th>\n",
       "      <td>I was asked to pay for Fire NOC for a Marriage...</td>\n",
       "      <td>27-03-19</td>\n",
       "      <td>Thoothukudi,TamilNadu</td>\n",
       "      <td>NaN</td>\n",
       "      <td>1265</td>\n",
       "      <td>20000</td>\n",
       "    </tr>\n",
       "    <tr>\n",
       "      <th>994</th>\n",
       "      <td>Mental harrassment for bribe and gifts</td>\n",
       "      <td>24-03-19</td>\n",
       "      <td>Nagpur,Maharashtra</td>\n",
       "      <td>NaN</td>\n",
       "      <td>2382</td>\n",
       "      <td>15000</td>\n",
       "    </tr>\n",
       "    <tr>\n",
       "      <th>1030</th>\n",
       "      <td>They asked me 10000 k for carrying weed</td>\n",
       "      <td>10/3/2019</td>\n",
       "      <td>Ghaziabad,UttarPradesh</td>\n",
       "      <td>NaN</td>\n",
       "      <td>3452</td>\n",
       "      <td>1300</td>\n",
       "    </tr>\n",
       "    <tr>\n",
       "      <th>1041</th>\n",
       "      <td>Police Officer Came For Passport Verification</td>\n",
       "      <td>5/3/2019</td>\n",
       "      <td>Bangalore,Karnataka</td>\n",
       "      <td>NaN</td>\n",
       "      <td>1762</td>\n",
       "      <td>500</td>\n",
       "    </tr>\n",
       "    <tr>\n",
       "      <th>1140</th>\n",
       "      <td>Aadhar phone number update</td>\n",
       "      <td>22-01-19</td>\n",
       "      <td>Gandhinagar,Gujarat</td>\n",
       "      <td>NaN</td>\n",
       "      <td>2340</td>\n",
       "      <td>500</td>\n",
       "    </tr>\n",
       "    <tr>\n",
       "      <th>1192</th>\n",
       "      <td>Charged 300 rs of amount and gave a chalan of ...</td>\n",
       "      <td>25-12-18</td>\n",
       "      <td>NewDelhi,Delhi</td>\n",
       "      <td>NaN</td>\n",
       "      <td>1927</td>\n",
       "      <td>300</td>\n",
       "    </tr>\n",
       "    <tr>\n",
       "      <th>1200</th>\n",
       "      <td>My passport was used as ransom</td>\n",
       "      <td>19-12-18</td>\n",
       "      <td>Ahmedabad,Gujarat</td>\n",
       "      <td>NaN</td>\n",
       "      <td>3929</td>\n",
       "      <td>7000</td>\n",
       "    </tr>\n",
       "    <tr>\n",
       "      <th>1238</th>\n",
       "      <td>For Public Smoking</td>\n",
       "      <td>21-11-18</td>\n",
       "      <td>Bangalore,Karnataka</td>\n",
       "      <td>NaN</td>\n",
       "      <td>2175</td>\n",
       "      <td>20000</td>\n",
       "    </tr>\n",
       "    <tr>\n",
       "      <th>1906</th>\n",
       "      <td>Subregistrar office Shivaji nagar</td>\n",
       "      <td>4/7/2017</td>\n",
       "      <td>Bangalore,Karnataka</td>\n",
       "      <td>NaN</td>\n",
       "      <td>4361</td>\n",
       "      <td>15000</td>\n",
       "    </tr>\n",
       "    <tr>\n",
       "      <th>2100</th>\n",
       "      <td>Rampant corruption in passport verification</td>\n",
       "      <td>28-02-17</td>\n",
       "      <td>Bilaspur,Chhattisgarh</td>\n",
       "      <td>NaN</td>\n",
       "      <td>3159</td>\n",
       "      <td>1000</td>\n",
       "    </tr>\n",
       "    <tr>\n",
       "      <th>2300</th>\n",
       "      <td>I paid bribe for getting TIN NO to my client</td>\n",
       "      <td>8/12/2016</td>\n",
       "      <td>Chennai,TamilNadu</td>\n",
       "      <td>NaN</td>\n",
       "      <td>2569</td>\n",
       "      <td>5000</td>\n",
       "    </tr>\n",
       "    <tr>\n",
       "      <th>2351</th>\n",
       "      <td>Marriage registration</td>\n",
       "      <td>21-11-16</td>\n",
       "      <td>Visakhapatnam,AndhraPradesh</td>\n",
       "      <td>NaN</td>\n",
       "      <td>4119</td>\n",
       "      <td>700</td>\n",
       "    </tr>\n",
       "    <tr>\n",
       "      <th>2402</th>\n",
       "      <td>Paid 4000 in bribe in Kothrud Police Station f...</td>\n",
       "      <td>4/11/2016</td>\n",
       "      <td>Pune,Maharashtra</td>\n",
       "      <td>NaN</td>\n",
       "      <td>5571</td>\n",
       "      <td>4000</td>\n",
       "    </tr>\n",
       "    <tr>\n",
       "      <th>2705</th>\n",
       "      <td>Fules India Distributor collected money by for...</td>\n",
       "      <td>21-06-16</td>\n",
       "      <td>Chennai,TamilNadu</td>\n",
       "      <td>NaN</td>\n",
       "      <td>2190</td>\n",
       "      <td>500</td>\n",
       "    </tr>\n",
       "    <tr>\n",
       "      <th>2832</th>\n",
       "      <td>Canara Bank (Vadapalani) Branch Manager (Mr. D...</td>\n",
       "      <td>5/5/2016</td>\n",
       "      <td>Chennai,TamilNadu</td>\n",
       "      <td>NaN</td>\n",
       "      <td>2363</td>\n",
       "      <td>60000</td>\n",
       "    </tr>\n",
       "    <tr>\n",
       "      <th>3017</th>\n",
       "      <td>Paid a bribe to clear my file to on police ver...</td>\n",
       "      <td>8/3/2016</td>\n",
       "      <td>Asansol,WestBengal</td>\n",
       "      <td>NaN</td>\n",
       "      <td>4126</td>\n",
       "      <td>500</td>\n",
       "    </tr>\n",
       "    <tr>\n",
       "      <th>3295</th>\n",
       "      <td>I Paid Rs. 479 to  in .</td>\n",
       "      <td>7/11/2015</td>\n",
       "      <td>,</td>\n",
       "      <td>NaN</td>\n",
       "      <td>12213</td>\n",
       "      <td>479</td>\n",
       "    </tr>\n",
       "  </tbody>\n",
       "</table>\n",
       "</div>"
      ],
      "text/plain": [
       "                                                  Title        Date  \\\n",
       "34    I paid 500rs bribe for passport police verific...   2/10/2020   \n",
       "38                For clearing papers in survey for SRA    25-09-20   \n",
       "74    I paid 500rs bribe for passport police verific...   2/10/2020   \n",
       "78                For clearing papers in survey for SRA    25-09-20   \n",
       "144      Bribe taken by pollution office of Raipur (CG)    15-05-20   \n",
       "202   Reg Husband mohamed asik given amount to socia...    25-02-20   \n",
       "230        For Staying on the road side with motorcycle    5/2/2020   \n",
       "260   Paid 500 Rs bribe at Nizamuddin Station Saraik...   10/1/2020   \n",
       "278           FSO demanded for bribe through his helper    31-12-19   \n",
       "300                           Bribe for online motation  10/12/2019   \n",
       "314                                Registration of flat   1/12/2019   \n",
       "319   House no is not mentioned in address that reasons    29-11-19   \n",
       "356                             Ticket checker take 200    13-11-19   \n",
       "381                                    Found Theft bike    29-10-19   \n",
       "426   I am a cha in custom the babu of custom office...  11/10/2019   \n",
       "452                          Bribe for adhar correction   4/10/2019   \n",
       "486                                     For Death claim    22-09-19   \n",
       "519    Bribe taken for issueing PUC certificate for car   11/9/2019   \n",
       "663             Bribe for international driving licence    20-07-19   \n",
       "664                                    Gst registration    20-07-19   \n",
       "666                   Bribe to esi c inspection officer    19-07-19   \n",
       "675        Silver Bullet BULLET for HPI BAJA - Polished    17-07-19   \n",
       "684   KR Puram RTO office is collecting an additiona...    14-07-19   \n",
       "701                    Issuance of marriage certificate    8/7/2019   \n",
       "748                           Bill jyada nikal rahe hai    22-06-19   \n",
       "797                       Againest flat purchase by ida    6/6/2019   \n",
       "942                     Bribe for Passport verification    7/4/2019   \n",
       "984   I was asked to pay for Fire NOC for a Marriage...    27-03-19   \n",
       "994              Mental harrassment for bribe and gifts    24-03-19   \n",
       "1030            They asked me 10000 k for carrying weed   10/3/2019   \n",
       "1041      Police Officer Came For Passport Verification    5/3/2019   \n",
       "1140                         Aadhar phone number update    22-01-19   \n",
       "1192  Charged 300 rs of amount and gave a chalan of ...    25-12-18   \n",
       "1200                     My passport was used as ransom    19-12-18   \n",
       "1238                                 For Public Smoking    21-11-18   \n",
       "1906                  Subregistrar office Shivaji nagar    4/7/2017   \n",
       "2100        Rampant corruption in passport verification    28-02-17   \n",
       "2300       I paid bribe for getting TIN NO to my client   8/12/2016   \n",
       "2351                              Marriage registration    21-11-16   \n",
       "2402  Paid 4000 in bribe in Kothrud Police Station f...   4/11/2016   \n",
       "2705  Fules India Distributor collected money by for...    21-06-16   \n",
       "2832  Canara Bank (Vadapalani) Branch Manager (Mr. D...    5/5/2016   \n",
       "3017  Paid a bribe to clear my file to on police ver...    8/3/2016   \n",
       "3295                            I Paid Rs. 479 to  in .   7/11/2015   \n",
       "\n",
       "                          Location Department  Views  Amount(INR)  \n",
       "34                  NewDelhi,Delhi        NaN   1451          500  \n",
       "38              Mumbai,Maharashtra        NaN   1760       500000  \n",
       "74                  NewDelhi,Delhi        NaN   1451          500  \n",
       "78              Mumbai,Maharashtra        NaN   1760       500000  \n",
       "144            Raipur,Chhattisgarh        NaN   1565       200000  \n",
       "202              Madurai,TamilNadu        NaN   1848         5000  \n",
       "230            Bangalore,Karnataka        NaN   1816          200  \n",
       "260                 NewDelhi,Delhi        NaN   1926          500  \n",
       "278   Silvassa,DadraandNagarHaveli        NaN    881        15000  \n",
       "300                     Gaya,Bihar        NaN   2138        30000  \n",
       "314            Bangalore,Karnataka        NaN   1620        11000  \n",
       "319               Pune,Maharashtra        NaN   2591         1000  \n",
       "356                 Rewari,Haryana        NaN   1094          200  \n",
       "381          Chitradurga,Karnataka        NaN   1648         7000  \n",
       "426               Jaipur,Rajasthan        NaN   1467        10000  \n",
       "452          Faizabad,UttarPradesh        NaN    981          250  \n",
       "486                 NewDelhi,Delhi        NaN   1274         7000  \n",
       "519                   Tezpur,Assam        NaN   1178          100  \n",
       "663            Bangalore,Karnataka        NaN   1534         1500  \n",
       "664            Kanpur,UttarPradesh        NaN   2999         5000  \n",
       "666            Raipur,Chhattisgarh        NaN   2411        50000  \n",
       "675             Adilabad,Telangana        NaN   1629         1200  \n",
       "684            Bangalore,Karnataka        NaN   1470           10  \n",
       "701            Bangalore,Karnataka        NaN   1571         2500  \n",
       "748           Aligarh,UttarPradesh        NaN   2351          500  \n",
       "797           Indore,MadhyaPradesh        NaN   2496        25000  \n",
       "942             Gulbarga,Karnataka        NaN   2561          600  \n",
       "984          Thoothukudi,TamilNadu        NaN   1265        20000  \n",
       "994             Nagpur,Maharashtra        NaN   2382        15000  \n",
       "1030        Ghaziabad,UttarPradesh        NaN   3452         1300  \n",
       "1041           Bangalore,Karnataka        NaN   1762          500  \n",
       "1140           Gandhinagar,Gujarat        NaN   2340          500  \n",
       "1192                NewDelhi,Delhi        NaN   1927          300  \n",
       "1200             Ahmedabad,Gujarat        NaN   3929         7000  \n",
       "1238           Bangalore,Karnataka        NaN   2175        20000  \n",
       "1906           Bangalore,Karnataka        NaN   4361        15000  \n",
       "2100         Bilaspur,Chhattisgarh        NaN   3159         1000  \n",
       "2300             Chennai,TamilNadu        NaN   2569         5000  \n",
       "2351   Visakhapatnam,AndhraPradesh        NaN   4119          700  \n",
       "2402              Pune,Maharashtra        NaN   5571         4000  \n",
       "2705             Chennai,TamilNadu        NaN   2190          500  \n",
       "2832             Chennai,TamilNadu        NaN   2363        60000  \n",
       "3017            Asansol,WestBengal        NaN   4126          500  \n",
       "3295                             ,        NaN  12213          479  "
      ]
     },
     "execution_count": 14,
     "metadata": {},
     "output_type": "execute_result"
    }
   ],
   "source": [
    "# checking the null records for departments\n",
    "print(df[df['Department'].isnull()].shape)  # we can see that 44 are null\n",
    "df[df['Department'].isnull()]"
   ]
  },
  {
   "cell_type": "code",
   "execution_count": 15,
   "id": "159f400d",
   "metadata": {},
   "outputs": [
    {
     "data": {
      "text/plain": [
       "Others                                    472\n",
       "Police Verification for Passport          266\n",
       "Traffic Violations                        236\n",
       "Birth Certificate                         155\n",
       "Traffic Fines, Penalties, Rules           101\n",
       "                                         ... \n",
       "Inspection of Vehicles after Accidents      1\n",
       "License Renewal                             1\n",
       "Title Deed                                  1\n",
       "Extra Charges                               1\n",
       "Enrolment for Aadhaar Card                  1\n",
       "Name: Department, Length: 367, dtype: int64"
      ]
     },
     "execution_count": 15,
     "metadata": {},
     "output_type": "execute_result"
    }
   ],
   "source": [
    "df['Department'].value_counts()\n",
    "# we can see that 472 are null values"
   ]
  },
  {
   "cell_type": "code",
   "execution_count": 17,
   "id": "c9a617be",
   "metadata": {},
   "outputs": [
    {
     "data": {
      "text/plain": [
       "Title          0\n",
       "Date           0\n",
       "Location       0\n",
       "Department     0\n",
       "Views          0\n",
       "Amount(INR)    0\n",
       "dtype: int64"
      ]
     },
     "execution_count": 17,
     "metadata": {},
     "output_type": "execute_result"
    }
   ],
   "source": [
    "#  So we will fill the missing valus with others\n",
    "df['Department'].fillna('Others',inplace=True)\n",
    "df.isnull().sum()"
   ]
  },
  {
   "cell_type": "code",
   "execution_count": 18,
   "id": "3604386d",
   "metadata": {},
   "outputs": [
    {
     "data": {
      "text/html": [
       "<div>\n",
       "<style scoped>\n",
       "    .dataframe tbody tr th:only-of-type {\n",
       "        vertical-align: middle;\n",
       "    }\n",
       "\n",
       "    .dataframe tbody tr th {\n",
       "        vertical-align: top;\n",
       "    }\n",
       "\n",
       "    .dataframe thead th {\n",
       "        text-align: right;\n",
       "    }\n",
       "</style>\n",
       "<table border=\"1\" class=\"dataframe\">\n",
       "  <thead>\n",
       "    <tr style=\"text-align: right;\">\n",
       "      <th></th>\n",
       "      <th>Views</th>\n",
       "      <th>Amount(INR)</th>\n",
       "    </tr>\n",
       "  </thead>\n",
       "  <tbody>\n",
       "    <tr>\n",
       "      <th>count</th>\n",
       "      <td>3473.000000</td>\n",
       "      <td>3.473000e+03</td>\n",
       "    </tr>\n",
       "    <tr>\n",
       "      <th>mean</th>\n",
       "      <td>3379.405701</td>\n",
       "      <td>3.331083e+04</td>\n",
       "    </tr>\n",
       "    <tr>\n",
       "      <th>std</th>\n",
       "      <td>1540.854884</td>\n",
       "      <td>1.508203e+05</td>\n",
       "    </tr>\n",
       "    <tr>\n",
       "      <th>min</th>\n",
       "      <td>463.000000</td>\n",
       "      <td>1.000000e+00</td>\n",
       "    </tr>\n",
       "    <tr>\n",
       "      <th>25%</th>\n",
       "      <td>2081.000000</td>\n",
       "      <td>3.300000e+02</td>\n",
       "    </tr>\n",
       "    <tr>\n",
       "      <th>50%</th>\n",
       "      <td>3272.000000</td>\n",
       "      <td>1.200000e+03</td>\n",
       "    </tr>\n",
       "    <tr>\n",
       "      <th>75%</th>\n",
       "      <td>4522.000000</td>\n",
       "      <td>8.000000e+03</td>\n",
       "    </tr>\n",
       "    <tr>\n",
       "      <th>max</th>\n",
       "      <td>20450.000000</td>\n",
       "      <td>2.185000e+06</td>\n",
       "    </tr>\n",
       "  </tbody>\n",
       "</table>\n",
       "</div>"
      ],
      "text/plain": [
       "              Views   Amount(INR)\n",
       "count   3473.000000  3.473000e+03\n",
       "mean    3379.405701  3.331083e+04\n",
       "std     1540.854884  1.508203e+05\n",
       "min      463.000000  1.000000e+00\n",
       "25%     2081.000000  3.300000e+02\n",
       "50%     3272.000000  1.200000e+03\n",
       "75%     4522.000000  8.000000e+03\n",
       "max    20450.000000  2.185000e+06"
      ]
     },
     "execution_count": 18,
     "metadata": {},
     "output_type": "execute_result"
    }
   ],
   "source": [
    "df.describe()"
   ]
  },
  {
   "cell_type": "code",
   "execution_count": 19,
   "id": "ecaeb243",
   "metadata": {},
   "outputs": [
    {
     "data": {
      "text/html": [
       "<div>\n",
       "<style scoped>\n",
       "    .dataframe tbody tr th:only-of-type {\n",
       "        vertical-align: middle;\n",
       "    }\n",
       "\n",
       "    .dataframe tbody tr th {\n",
       "        vertical-align: top;\n",
       "    }\n",
       "\n",
       "    .dataframe thead th {\n",
       "        text-align: right;\n",
       "    }\n",
       "</style>\n",
       "<table border=\"1\" class=\"dataframe\">\n",
       "  <thead>\n",
       "    <tr style=\"text-align: right;\">\n",
       "      <th></th>\n",
       "      <th>Title</th>\n",
       "      <th>Date</th>\n",
       "      <th>Location</th>\n",
       "      <th>Department</th>\n",
       "      <th>Views</th>\n",
       "      <th>Amount(INR)</th>\n",
       "    </tr>\n",
       "  </thead>\n",
       "  <tbody>\n",
       "    <tr>\n",
       "      <th>count</th>\n",
       "      <td>3473</td>\n",
       "      <td>3473</td>\n",
       "      <td>3473</td>\n",
       "      <td>3473</td>\n",
       "      <td>3473.000000</td>\n",
       "      <td>3.473000e+03</td>\n",
       "    </tr>\n",
       "    <tr>\n",
       "      <th>unique</th>\n",
       "      <td>3282</td>\n",
       "      <td>1334</td>\n",
       "      <td>510</td>\n",
       "      <td>367</td>\n",
       "      <td>NaN</td>\n",
       "      <td>NaN</td>\n",
       "    </tr>\n",
       "    <tr>\n",
       "      <th>top</th>\n",
       "      <td>Passport verification</td>\n",
       "      <td>7/11/2015</td>\n",
       "      <td>Bangalore,Karnataka</td>\n",
       "      <td>Others</td>\n",
       "      <td>NaN</td>\n",
       "      <td>NaN</td>\n",
       "    </tr>\n",
       "    <tr>\n",
       "      <th>freq</th>\n",
       "      <td>10</td>\n",
       "      <td>37</td>\n",
       "      <td>769</td>\n",
       "      <td>516</td>\n",
       "      <td>NaN</td>\n",
       "      <td>NaN</td>\n",
       "    </tr>\n",
       "    <tr>\n",
       "      <th>mean</th>\n",
       "      <td>NaN</td>\n",
       "      <td>NaN</td>\n",
       "      <td>NaN</td>\n",
       "      <td>NaN</td>\n",
       "      <td>3379.405701</td>\n",
       "      <td>3.331083e+04</td>\n",
       "    </tr>\n",
       "    <tr>\n",
       "      <th>std</th>\n",
       "      <td>NaN</td>\n",
       "      <td>NaN</td>\n",
       "      <td>NaN</td>\n",
       "      <td>NaN</td>\n",
       "      <td>1540.854884</td>\n",
       "      <td>1.508203e+05</td>\n",
       "    </tr>\n",
       "    <tr>\n",
       "      <th>min</th>\n",
       "      <td>NaN</td>\n",
       "      <td>NaN</td>\n",
       "      <td>NaN</td>\n",
       "      <td>NaN</td>\n",
       "      <td>463.000000</td>\n",
       "      <td>1.000000e+00</td>\n",
       "    </tr>\n",
       "    <tr>\n",
       "      <th>25%</th>\n",
       "      <td>NaN</td>\n",
       "      <td>NaN</td>\n",
       "      <td>NaN</td>\n",
       "      <td>NaN</td>\n",
       "      <td>2081.000000</td>\n",
       "      <td>3.300000e+02</td>\n",
       "    </tr>\n",
       "    <tr>\n",
       "      <th>50%</th>\n",
       "      <td>NaN</td>\n",
       "      <td>NaN</td>\n",
       "      <td>NaN</td>\n",
       "      <td>NaN</td>\n",
       "      <td>3272.000000</td>\n",
       "      <td>1.200000e+03</td>\n",
       "    </tr>\n",
       "    <tr>\n",
       "      <th>75%</th>\n",
       "      <td>NaN</td>\n",
       "      <td>NaN</td>\n",
       "      <td>NaN</td>\n",
       "      <td>NaN</td>\n",
       "      <td>4522.000000</td>\n",
       "      <td>8.000000e+03</td>\n",
       "    </tr>\n",
       "    <tr>\n",
       "      <th>max</th>\n",
       "      <td>NaN</td>\n",
       "      <td>NaN</td>\n",
       "      <td>NaN</td>\n",
       "      <td>NaN</td>\n",
       "      <td>20450.000000</td>\n",
       "      <td>2.185000e+06</td>\n",
       "    </tr>\n",
       "  </tbody>\n",
       "</table>\n",
       "</div>"
      ],
      "text/plain": [
       "                        Title       Date             Location Department  \\\n",
       "count                    3473       3473                 3473       3473   \n",
       "unique                   3282       1334                  510        367   \n",
       "top     Passport verification  7/11/2015  Bangalore,Karnataka     Others   \n",
       "freq                       10         37                  769        516   \n",
       "mean                      NaN        NaN                  NaN        NaN   \n",
       "std                       NaN        NaN                  NaN        NaN   \n",
       "min                       NaN        NaN                  NaN        NaN   \n",
       "25%                       NaN        NaN                  NaN        NaN   \n",
       "50%                       NaN        NaN                  NaN        NaN   \n",
       "75%                       NaN        NaN                  NaN        NaN   \n",
       "max                       NaN        NaN                  NaN        NaN   \n",
       "\n",
       "               Views   Amount(INR)  \n",
       "count    3473.000000  3.473000e+03  \n",
       "unique           NaN           NaN  \n",
       "top              NaN           NaN  \n",
       "freq             NaN           NaN  \n",
       "mean     3379.405701  3.331083e+04  \n",
       "std      1540.854884  1.508203e+05  \n",
       "min       463.000000  1.000000e+00  \n",
       "25%      2081.000000  3.300000e+02  \n",
       "50%      3272.000000  1.200000e+03  \n",
       "75%      4522.000000  8.000000e+03  \n",
       "max     20450.000000  2.185000e+06  "
      ]
     },
     "execution_count": 19,
     "metadata": {},
     "output_type": "execute_result"
    }
   ],
   "source": [
    "# we want to see the stat for all columns\n",
    "df.describe(include='all')"
   ]
  },
  {
   "cell_type": "code",
   "execution_count": 22,
   "id": "33581980",
   "metadata": {},
   "outputs": [
    {
     "data": {
      "text/plain": [
       "count       3473\n",
       "unique       367\n",
       "top       Others\n",
       "freq         516\n",
       "Name: Department, dtype: object"
      ]
     },
     "execution_count": 22,
     "metadata": {},
     "output_type": "execute_result"
    }
   ],
   "source": [
    "df['Department'].describe()"
   ]
  },
  {
   "cell_type": "code",
   "execution_count": 25,
   "id": "f8d94678",
   "metadata": {},
   "outputs": [
    {
     "data": {
      "text/plain": [
       "<AxesSubplot: xlabel='Amount(INR)', ylabel='Count'>"
      ]
     },
     "execution_count": 25,
     "metadata": {},
     "output_type": "execute_result"
    },
    {
     "data": {
      "image/png": "[encoded data removed]",
      "text/plain": [
       "<Figure size 1000x600 with 1 Axes>"
      ]
     },
     "metadata": {},
     "output_type": "display_data"
    }
   ],
   "source": [
    "#plot a histogram for bribr amount\n",
    "sns.histplot(df['Amount(INR)'],kde=True,bins=10)"
   ]
  },
  {
   "cell_type": "code",
   "execution_count": 30,
   "id": "c5875dcb",
   "metadata": {},
   "outputs": [
    {
     "data": {
      "text/plain": [
       "<AxesSubplot: xlabel='Amount(INR)'>"
      ]
     },
     "execution_count": 30,
     "metadata": {},
     "output_type": "execute_result"
    },
    {
     "data": {
      "image/png": "[encoded data removed]",
      "text/plain": [
       "<Figure size 1000x600 with 1 Axes>"
      ]
     },
     "metadata": {},
     "output_type": "display_data"
    }
   ],
   "source": [
    "sns.distplot(df['Amount(INR)'],kde=False)"
   ]
  },
  {
   "cell_type": "code",
   "execution_count": 31,
   "id": "f9002c95",
   "metadata": {},
   "outputs": [
    {
     "data": {
      "text/plain": [
       "<AxesSubplot: xlabel='Amount(INR)', ylabel='Density'>"
      ]
     },
     "execution_count": 31,
     "metadata": {},
     "output_type": "execute_result"
    },
    {
     "data": {
      "image/png": "[encoded data removed]",
      "text/plain": [
       "<Figure size 1000x600 with 1 Axes>"
      ]
     },
     "metadata": {},
     "output_type": "display_data"
    }
   ],
   "source": [
    "sns.distplot(df['Amount(INR)'],kde=True)"
   ]
  },
  {
   "cell_type": "code",
   "execution_count": 34,
   "id": "90c6bb7c",
   "metadata": {},
   "outputs": [
    {
     "data": {
      "text/plain": [
       "<AxesSubplot: xlabel='Amount(INR)', ylabel='Proportion'>"
      ]
     },
     "execution_count": 34,
     "metadata": {},
     "output_type": "execute_result"
    },
    {
     "data": {
      "image/png": "[encoded data removed]",
      "text/plain": [
       "<Figure size 1000x600 with 1 Axes>"
      ]
     },
     "metadata": {},
     "output_type": "display_data"
    }
   ],
   "source": [
    "# ecdf plot sns-- empirical cumulative distribution function\n",
    "sns.ecdfplot(df['Amount(INR)'])"
   ]
  },
  {
   "cell_type": "code",
   "execution_count": 41,
   "id": "c92e2b97",
   "metadata": {},
   "outputs": [
    {
     "data": {
      "text/plain": [
       "<AxesSubplot: >"
      ]
     },
     "execution_count": 41,
     "metadata": {},
     "output_type": "execute_result"
    },
    {
     "data": {
      "image/png": "[encoded data removed]",
      "text/plain": [
       "<Figure size 1000x600 with 1 Axes>"
      ]
     },
     "metadata": {},
     "output_type": "display_data"
    }
   ],
   "source": [
    "sns.boxplot(df['Amount(INR)'])"
   ]
  },
  {
   "cell_type": "code",
   "execution_count": 35,
   "id": "79e245e1",
   "metadata": {},
   "outputs": [
    {
     "data": {
      "text/plain": [
       "1"
      ]
     },
     "execution_count": 35,
     "metadata": {},
     "output_type": "execute_result"
    }
   ],
   "source": [
    "df['Amount(INR)'].min()"
   ]
  },
  {
   "cell_type": "code",
   "execution_count": 36,
   "id": "6ba6ba83",
   "metadata": {},
   "outputs": [
    {
     "data": {
      "text/plain": [
       "2185000"
      ]
     },
     "execution_count": 36,
     "metadata": {},
     "output_type": "execute_result"
    }
   ],
   "source": [
    "df['Amount(INR)'].max()"
   ]
  },
  {
   "cell_type": "code",
   "execution_count": null,
   "id": "bf57290d",
   "metadata": {},
   "outputs": [],
   "source": []
  },
  {
   "cell_type": "code",
   "execution_count": 37,
   "id": "ce3da929",
   "metadata": {},
   "outputs": [
    {
     "data": {
      "text/plain": [
       "45363.200000000084"
      ]
     },
     "execution_count": 37,
     "metadata": {},
     "output_type": "execute_result"
    }
   ],
   "source": [
    "df['Amount(INR)'].quantile(.9)"
   ]
  },
  {
   "cell_type": "code",
   "execution_count": 38,
   "id": "344556e6",
   "metadata": {},
   "outputs": [
    {
     "data": {
      "text/plain": [
       "(3125, 6)"
      ]
     },
     "execution_count": 38,
     "metadata": {},
     "output_type": "execute_result"
    }
   ],
   "source": [
    "df=df[df['Amount(INR)']<df['Amount(INR)'].quantile(.9)]\n",
    "df.shape"
   ]
  },
  {
   "cell_type": "code",
   "execution_count": 39,
   "id": "c39506ba",
   "metadata": {},
   "outputs": [
    {
     "data": {
      "text/html": [
       "<div>\n",
       "<style scoped>\n",
       "    .dataframe tbody tr th:only-of-type {\n",
       "        vertical-align: middle;\n",
       "    }\n",
       "\n",
       "    .dataframe tbody tr th {\n",
       "        vertical-align: top;\n",
       "    }\n",
       "\n",
       "    .dataframe thead th {\n",
       "        text-align: right;\n",
       "    }\n",
       "</style>\n",
       "<table border=\"1\" class=\"dataframe\">\n",
       "  <thead>\n",
       "    <tr style=\"text-align: right;\">\n",
       "      <th></th>\n",
       "      <th>Title</th>\n",
       "      <th>Date</th>\n",
       "      <th>Location</th>\n",
       "      <th>Department</th>\n",
       "      <th>Views</th>\n",
       "      <th>Amount(INR)</th>\n",
       "    </tr>\n",
       "  </thead>\n",
       "  <tbody>\n",
       "    <tr>\n",
       "      <th>0</th>\n",
       "      <td>They said it is registration fee for birth cer...</td>\n",
       "      <td>14-10-20</td>\n",
       "      <td>Bangalore,Karnataka</td>\n",
       "      <td>Births, Family and Care</td>\n",
       "      <td>1225</td>\n",
       "      <td>400</td>\n",
       "    </tr>\n",
       "    <tr>\n",
       "      <th>1</th>\n",
       "      <td>Paid bribe for not having insurance during pan...</td>\n",
       "      <td>13-10-20</td>\n",
       "      <td>Bangalore,Karnataka</td>\n",
       "      <td>Vehicle Insurance</td>\n",
       "      <td>1158</td>\n",
       "      <td>350</td>\n",
       "    </tr>\n",
       "    <tr>\n",
       "      <th>2</th>\n",
       "      <td>Forced to pay bribe at KR Puram RTO</td>\n",
       "      <td>13-10-20</td>\n",
       "      <td>Bangalore,Karnataka</td>\n",
       "      <td>Driving and Transport Business</td>\n",
       "      <td>1249</td>\n",
       "      <td>100</td>\n",
       "    </tr>\n",
       "    <tr>\n",
       "      <th>3</th>\n",
       "      <td>Forced to pay 100 rupees bribe for LL test</td>\n",
       "      <td>13-10-20</td>\n",
       "      <td>Bangalore,Karnataka</td>\n",
       "      <td>Driving Licenses and Tests</td>\n",
       "      <td>1044</td>\n",
       "      <td>100</td>\n",
       "    </tr>\n",
       "    <tr>\n",
       "      <th>4</th>\n",
       "      <td>Misusing of power and traping people in false ...</td>\n",
       "      <td>13-10-20</td>\n",
       "      <td>Siwan,Bihar</td>\n",
       "      <td>FIR and Complaints</td>\n",
       "      <td>1068</td>\n",
       "      <td>15000</td>\n",
       "    </tr>\n",
       "  </tbody>\n",
       "</table>\n",
       "</div>"
      ],
      "text/plain": [
       "                                               Title      Date  \\\n",
       "0  They said it is registration fee for birth cer...  14-10-20   \n",
       "1  Paid bribe for not having insurance during pan...  13-10-20   \n",
       "2                Forced to pay bribe at KR Puram RTO  13-10-20   \n",
       "3         Forced to pay 100 rupees bribe for LL test  13-10-20   \n",
       "4  Misusing of power and traping people in false ...  13-10-20   \n",
       "\n",
       "              Location                      Department  Views  Amount(INR)  \n",
       "0  Bangalore,Karnataka         Births, Family and Care   1225          400  \n",
       "1  Bangalore,Karnataka               Vehicle Insurance   1158          350  \n",
       "2  Bangalore,Karnataka  Driving and Transport Business   1249          100  \n",
       "3  Bangalore,Karnataka      Driving Licenses and Tests   1044          100  \n",
       "4          Siwan,Bihar              FIR and Complaints   1068        15000  "
      ]
     },
     "execution_count": 39,
     "metadata": {},
     "output_type": "execute_result"
    }
   ],
   "source": [
    "df.head()"
   ]
  },
  {
   "cell_type": "code",
   "execution_count": 40,
   "id": "504837ea",
   "metadata": {},
   "outputs": [
    {
     "data": {
      "text/plain": [
       "(3125, 6)"
      ]
     },
     "execution_count": 40,
     "metadata": {},
     "output_type": "execute_result"
    }
   ],
   "source": [
    "df.shape"
   ]
  },
  {
   "cell_type": "code",
   "execution_count": 42,
   "id": "4ce04b33",
   "metadata": {},
   "outputs": [
    {
     "name": "stdout",
     "output_type": "stream",
     "text": [
      "<class 'pandas.core.frame.DataFrame'>\n",
      "Int64Index: 3125 entries, 0 to 3472\n",
      "Data columns (total 6 columns):\n",
      " #   Column       Non-Null Count  Dtype \n",
      "---  ------       --------------  ----- \n",
      " 0   Title        3125 non-null   object\n",
      " 1   Date         3125 non-null   object\n",
      " 2   Location     3125 non-null   object\n",
      " 3   Department   3125 non-null   object\n",
      " 4   Views        3125 non-null   int64 \n",
      " 5   Amount(INR)  3125 non-null   int64 \n",
      "dtypes: int64(2), object(4)\n",
      "memory usage: 235.4+ KB\n"
     ]
    }
   ],
   "source": [
    "df.info()"
   ]
  },
  {
   "cell_type": "code",
   "execution_count": 44,
   "id": "b4505c9c",
   "metadata": {},
   "outputs": [
    {
     "data": {
      "text/plain": [
       "array(['Births, Family and Care', 'Vehicle Insurance',\n",
       "       'Driving and Transport Business', 'Driving Licenses and Tests',\n",
       "       'FIR and Complaints', 'Policies and Procedures', 'Others',\n",
       "       'Police Clearance Certificate', 'Registrations and Licenses',\n",
       "       'Building and Housing', 'Traffic Fines, Penalties, Rules',\n",
       "       'Excise', 'Property Registration', 'Loan Sanctioning',\n",
       "       'Court Related', 'Verification and Certificates', 'Drugs License',\n",
       "       'Visa', 'Khata', 'College Leaving Certificate', 'Tax and Permits',\n",
       "       'Autorickshaws', 'Certificates', 'Caste Certificate',\n",
       "       'Dates for Hearing', 'Aadhaar Card Process', 'Excess Baggage',\n",
       "       'Traffic Violations', 'Bill Payment', 'Water Connection',\n",
       "       'Passport Status and Delivery', 'Land Registration',\n",
       "       'Government Personnel', 'Government Schemes', 'Loans',\n",
       "       'Marriage Certificate and Registration', 'Police Harassment',\n",
       "       'Background Verification', 'Services',\n",
       "       'Change of Tariff in Domestic to Commercial',\n",
       "       'Traveling without Ticket', 'Disability Certificate',\n",
       "       'Pension Processing', 'Entry Tax',\n",
       "       'Number Plates and Vehicle Registration', 'False Allegations',\n",
       "       'Tax', 'Fire License', 'Notary', 'Issue and Renewal of Passport',\n",
       "       'Hospitals and Medical Care', 'Customs Check and Clearance',\n",
       "       'Savings Scheme', 'Customs', 'LPG Gas Cylinder', 'Aadhaar Card',\n",
       "       'Public Works', 'Domestic', 'Filing FIR',\n",
       "       'Money Order and Passbook', 'School or College Related',\n",
       "       'Professional Tax', 'Bills and Payment', 'Food License',\n",
       "       'License for Sale of Drugs', 'Ticket and Seat Related',\n",
       "       'Vehicle Fitness', 'Payment and Arrears',\n",
       "       'Building Construction Approval',\n",
       "       'Telephone and Internet Connection', 'Sales Tax',\n",
       "       'Electricity Connection', 'Police Verification for Passport',\n",
       "       'Duplicate Driving License', 'Pharmacy', 'Income Tax',\n",
       "       'Ration Card', 'Driving licence Process', 'Contract Work',\n",
       "       'Post and Parcel', 'Birth Certificate',\n",
       "       'Protected Forest and Sanctuaries', 'Employee Grievances',\n",
       "       'Service Tax', 'Encumbrance Certificate',\n",
       "       'Fines, Penalties and Rules', 'Transport of Luggage and Goods',\n",
       "       'PAN', 'Health Services', 'Caste, Community and Income',\n",
       "       'Timber Related', 'Commercial and Industrial', 'Transformers',\n",
       "       'Assessment', 'Employee State Insurance', 'Migration Certificate',\n",
       "       'Land Related', 'Health and Family', 'Domicile and Residence',\n",
       "       'Lodging Police Complaint', 'Importer Exporter Code',\n",
       "       'Money Order', 'Business Visa', 'VAT', 'Voter Registration',\n",
       "       'Registration of Property', 'Public Transport',\n",
       "       'Illegal Power Theft', 'Disability Related',\n",
       "       'Religious Institutions', 'Background or Personal Verification',\n",
       "       'Food and Supply', 'Learners License', 'Electric Meters',\n",
       "       'Registration of Flat or Apartment', 'Motor Vehicle Tax',\n",
       "       'Activities on Beat', 'Property Tax', 'Community Certificate',\n",
       "       'Admission to School', 'Khata Transfer',\n",
       "       'Transfer of Residence (TR)', 'IT Clearance Certificate',\n",
       "       'Registration of Partition Deed',\n",
       "       'Travelling in the wrong compartment', 'Ticket Booking',\n",
       "       'Renewal of Passport', 'Attestation', 'Pension Settlement',\n",
       "       'Vehicle Transport Booking', 'For Seeking Relevant Information',\n",
       "       'Registration of Vehicle', 'Passport Delivery',\n",
       "       'Original Marks Card', 'VAT Refund', 'Affidavit',\n",
       "       'Urban Land Ceiling Clearance Certificate', 'Berth Allocation',\n",
       "       'Retrieval of lost items', 'Character Certificate',\n",
       "       'Obtaining Transcripts', 'Change of Tariff',\n",
       "       'Police Investigation', 'Reconnection of Electricity',\n",
       "       '7/12 Extract', 'Registration of House',\n",
       "       'Change or Correction of Name in License',\n",
       "       'Registration of Sale Deed',\n",
       "       'Change of Name in Property documents', 'Marriage Certificate',\n",
       "       'Bribing of Government Officers', 'Demonetisation',\n",
       "       'Patta Document', 'Meter Reading and Checking', 'Crime Incident',\n",
       "       'School or College Related Activities', 'Change of Faulty Meter',\n",
       "       'Income Tax Refund', 'Land or Housing Site Allotment',\n",
       "       'Customs Clearance of Import Shipment', 'Family Certificate',\n",
       "       'Permission to sell Wood', 'Building Completion Certificate',\n",
       "       'Registration of Mortgage Deed', 'Medical Certificate',\n",
       "       'Speed Post', 'Recruitment', 'Restore Power Supply',\n",
       "       'General RTO related', 'Transfer of Property',\n",
       "       'Arrested by Police', 'Railway Police',\n",
       "       'NOC for Transfer of Vehicle Registration', 'Government Hospital',\n",
       "       'Admission to College', 'Garbage Collection', 'C Form',\n",
       "       'Seat Reservation', 'New Passport Application',\n",
       "       'Delivery of Letters and other Post', 'Extra Charges',\n",
       "       'Airport facilities', 'Marriage Registration',\n",
       "       'Transfer of Alloted Sites', 'Housing Plan Approval',\n",
       "       'Advocate or Legal Services', 'Registration of Land',\n",
       "       'Trade License', 'Immigration Check', 'Title Deed', 'House Tax',\n",
       "       'Passport Status Enquiry', 'New Domestic Driving License',\n",
       "       'Death certificate', 'Residence Certificate', 'Provident Fund',\n",
       "       'Change of Address', 'Construction Permit', 'Subversion of norms',\n",
       "       'License Renewal', 'Labour License Renewal', 'Filing Tax Returns',\n",
       "       'New Connection for Houses', 'Adding Name to Ration Card',\n",
       "       'Land Acquisition', 'Change of Address in Driving License',\n",
       "       'Inspection of Vehicles after Accidents',\n",
       "       'Foreigner Registration and Verification', 'Fitness Certificate',\n",
       "       'Check Post', 'Property Tax Assessment', 'Food Supply',\n",
       "       'Khata Certificate', 'New Borewell connection',\n",
       "       'To prevent shutdown of premises',\n",
       "       'Transfer of Vehicle Registration', 'New Khata Certificate',\n",
       "       'Excise Tax Collection', 'Non Availability Certificate',\n",
       "       'New Labour License and Registration', 'Meter Replacement',\n",
       "       'Services like Movement of Poles and Wires', 'Smartcard License',\n",
       "       'License Plate', 'Arms License', 'Sales Tax Payment',\n",
       "       'Residence certificate', 'Reissue of Passport',\n",
       "       'Power of Attorney Registration', 'Emission Check Certificate',\n",
       "       'Partition of Property', 'Pension Transfer',\n",
       "       'Domicile Certificate', 'Register as Principal Employer',\n",
       "       'IT scrutiny', 'Change of Name in Records',\n",
       "       'Electrical Inspection', 'Transformer Maintenance',\n",
       "       'Building Plan Approval',\n",
       "       'Additional power for High Tension installations',\n",
       "       'Meter Transfer', 'Stamp Duty', 'Application for TDR',\n",
       "       'New Company or Business Registration', 'VAT Registration',\n",
       "       'Tax Clearance Certificate', 'Filing Taxes',\n",
       "       'Renewal of Domestic Driving License', 'Salary Related',\n",
       "       'New International Driving License', 'Proof of Export',\n",
       "       'Leave and License Agreement', 'Salary Withdrawal',\n",
       "       'Change of Name in Birth Certificate', 'Cremation',\n",
       "       'Tenant Verification', 'Vehicle Registration Extract',\n",
       "       'Sales Tax Clearance Certificate', 'Services at Station',\n",
       "       'Updating Passport', 'Changes in RC Book', 'Gas Cylinder Supply',\n",
       "       'Liquor License', 'Post Delivery', 'Subversion of Financial Norms',\n",
       "       'Re registration of Vehicle', 'Road Permit',\n",
       "       'Service Tax Registration', 'Aadhaar or UID Related',\n",
       "       'Excess Luggage', 'Filing Petition',\n",
       "       'Fitness Certificate for Vehicles', 'Patient Care',\n",
       "       'Food Safety Licence',\n",
       "       'Repair of Telephone or Internet Connection',\n",
       "       'Land or Building Survey', 'VAT Certificate', 'PAN Card Issues',\n",
       "       'Medical Reimbursement claim', 'Issue of Ration Card', 'TDS',\n",
       "       'PWD Officers', 'Repair of Water and Sewage Connection',\n",
       "       'Reconnection of Disconnected Installations', 'Meter Installation',\n",
       "       'Road Tax', 'Change of Name in Property Documents', 'TTE',\n",
       "       'Railway Parking', 'Confirmation Report',\n",
       "       'Water Connection under Sajala', 'Billing or Invoice Errors',\n",
       "       'Voter ID Card', 'Change of Address in Registration Certificate',\n",
       "       'Transferring Name for Inherited Property',\n",
       "       'Franking of Sale and Construction Agreement', 'Shop Act License',\n",
       "       'Transport of Goods', 'Change or correction of name in bill',\n",
       "       'Service Tax Return', 'Railway Personnel',\n",
       "       'Cleaning Blocked Sewage Line', 'TIN Application and Number',\n",
       "       'Pharmacy Registration and License', 'SSA Related',\n",
       "       'Original Degree Certificate',\n",
       "       'Verification of property documents', 'Export Inspection',\n",
       "       'Survival Certificate', 'Health Certificate',\n",
       "       'Regular Supply of Water', 'Business License Renewal',\n",
       "       'Lost or Damaged Passport', 'Change of Name in Passport',\n",
       "       'ECNR Stamp', 'Attendance', 'Incorrect Bill', 'Platform ticket',\n",
       "       'Temporary Connection', 'RTI Application',\n",
       "       'Shop Establishment License', 'Motor Vehicle Inspection',\n",
       "       'Duplicate PAN Card', 'Transfer Certificate',\n",
       "       'Sales Tax Registration', 'Inspection of Office or Factories',\n",
       "       'Temporary Vehicle Permit', 'Duplicate Registration Certificate',\n",
       "       'Lease Registration', 'Police Protection', 'Nativity Certificate',\n",
       "       'Transfer PF to New Employer', 'New PAN Card',\n",
       "       'Procuring Medical Equipment/Medicines', 'Medical Treatment',\n",
       "       'New internet connection', 'Unfair Legal Proceedings',\n",
       "       'TIN Number', 'Medical Professional',\n",
       "       'WayBill against Imported Goods', 'Regularising Service',\n",
       "       'Transfer of Ration Card', 'Bill or Arrears or Payment',\n",
       "       'Tatkal Passport', 'Change of Tariff in Commercial to Domestic',\n",
       "       'Allowances', 'Commercial Tax Payment',\n",
       "       'Permission to Open School', 'Enrolment for Aadhaar Card'],\n",
       "      dtype=object)"
      ]
     },
     "execution_count": 44,
     "metadata": {},
     "output_type": "execute_result"
    }
   ],
   "source": [
    "# finding the departments\n",
    "df['Department'].unique()"
   ]
  },
  {
   "cell_type": "code",
   "execution_count": 45,
   "id": "e61c130a",
   "metadata": {},
   "outputs": [
    {
     "data": {
      "text/html": [
       "<div>\n",
       "<style scoped>\n",
       "    .dataframe tbody tr th:only-of-type {\n",
       "        vertical-align: middle;\n",
       "    }\n",
       "\n",
       "    .dataframe tbody tr th {\n",
       "        vertical-align: top;\n",
       "    }\n",
       "\n",
       "    .dataframe thead th {\n",
       "        text-align: right;\n",
       "    }\n",
       "</style>\n",
       "<table border=\"1\" class=\"dataframe\">\n",
       "  <thead>\n",
       "    <tr style=\"text-align: right;\">\n",
       "      <th></th>\n",
       "      <th>Title</th>\n",
       "      <th>Date</th>\n",
       "      <th>Location</th>\n",
       "      <th>Department</th>\n",
       "      <th>Views</th>\n",
       "      <th>Amount(INR)</th>\n",
       "      <th>City</th>\n",
       "      <th>Province</th>\n",
       "    </tr>\n",
       "  </thead>\n",
       "  <tbody>\n",
       "    <tr>\n",
       "      <th>0</th>\n",
       "      <td>They said it is registration fee for birth cer...</td>\n",
       "      <td>14-10-20</td>\n",
       "      <td>Bangalore,Karnataka</td>\n",
       "      <td>Births, Family and Care</td>\n",
       "      <td>1225</td>\n",
       "      <td>400</td>\n",
       "      <td>Bangalore</td>\n",
       "      <td>Karnataka</td>\n",
       "    </tr>\n",
       "    <tr>\n",
       "      <th>1</th>\n",
       "      <td>Paid bribe for not having insurance during pan...</td>\n",
       "      <td>13-10-20</td>\n",
       "      <td>Bangalore,Karnataka</td>\n",
       "      <td>Vehicle Insurance</td>\n",
       "      <td>1158</td>\n",
       "      <td>350</td>\n",
       "      <td>Bangalore</td>\n",
       "      <td>Karnataka</td>\n",
       "    </tr>\n",
       "    <tr>\n",
       "      <th>2</th>\n",
       "      <td>Forced to pay bribe at KR Puram RTO</td>\n",
       "      <td>13-10-20</td>\n",
       "      <td>Bangalore,Karnataka</td>\n",
       "      <td>Driving and Transport Business</td>\n",
       "      <td>1249</td>\n",
       "      <td>100</td>\n",
       "      <td>Bangalore</td>\n",
       "      <td>Karnataka</td>\n",
       "    </tr>\n",
       "    <tr>\n",
       "      <th>3</th>\n",
       "      <td>Forced to pay 100 rupees bribe for LL test</td>\n",
       "      <td>13-10-20</td>\n",
       "      <td>Bangalore,Karnataka</td>\n",
       "      <td>Driving Licenses and Tests</td>\n",
       "      <td>1044</td>\n",
       "      <td>100</td>\n",
       "      <td>Bangalore</td>\n",
       "      <td>Karnataka</td>\n",
       "    </tr>\n",
       "    <tr>\n",
       "      <th>4</th>\n",
       "      <td>Misusing of power and traping people in false ...</td>\n",
       "      <td>13-10-20</td>\n",
       "      <td>Siwan,Bihar</td>\n",
       "      <td>FIR and Complaints</td>\n",
       "      <td>1068</td>\n",
       "      <td>15000</td>\n",
       "      <td>Siwan</td>\n",
       "      <td>Bihar</td>\n",
       "    </tr>\n",
       "  </tbody>\n",
       "</table>\n",
       "</div>"
      ],
      "text/plain": [
       "                                               Title      Date  \\\n",
       "0  They said it is registration fee for birth cer...  14-10-20   \n",
       "1  Paid bribe for not having insurance during pan...  13-10-20   \n",
       "2                Forced to pay bribe at KR Puram RTO  13-10-20   \n",
       "3         Forced to pay 100 rupees bribe for LL test  13-10-20   \n",
       "4  Misusing of power and traping people in false ...  13-10-20   \n",
       "\n",
       "              Location                      Department  Views  Amount(INR)  \\\n",
       "0  Bangalore,Karnataka         Births, Family and Care   1225          400   \n",
       "1  Bangalore,Karnataka               Vehicle Insurance   1158          350   \n",
       "2  Bangalore,Karnataka  Driving and Transport Business   1249          100   \n",
       "3  Bangalore,Karnataka      Driving Licenses and Tests   1044          100   \n",
       "4          Siwan,Bihar              FIR and Complaints   1068        15000   \n",
       "\n",
       "        City   Province  \n",
       "0  Bangalore  Karnataka  \n",
       "1  Bangalore  Karnataka  \n",
       "2  Bangalore  Karnataka  \n",
       "3  Bangalore  Karnataka  \n",
       "4      Siwan      Bihar  "
      ]
     },
     "execution_count": 45,
     "metadata": {},
     "output_type": "execute_result"
    }
   ],
   "source": [
    "# split with city and prvoince from loacation feature\n",
    "df[['City','Province']]=df['Location'].str.split(\",\",expand=True)\n",
    "df.head()"
   ]
  },
  {
   "cell_type": "code",
   "execution_count": 47,
   "id": "ae7f57cb",
   "metadata": {},
   "outputs": [
    {
     "data": {
      "text/plain": [
       "Bangalore                  720\n",
       "NewDelhi                   210\n",
       "Chennai                    142\n",
       "Pune                       117\n",
       "Mumbai                     101\n",
       "                          ... \n",
       "Mirzapur                     1\n",
       "Chhapra                      1\n",
       "SantRavidasNagarBhadohi      1\n",
       "Shamli                       1\n",
       "Kozhikode                    1\n",
       "Name: City, Length: 483, dtype: int64"
      ]
     },
     "execution_count": 47,
     "metadata": {},
     "output_type": "execute_result"
    }
   ],
   "source": [
    "df['City'].value_counts()"
   ]
  },
  {
   "cell_type": "code",
   "execution_count": 52,
   "id": "200ec5f8",
   "metadata": {},
   "outputs": [
    {
     "data": {
      "text/html": [
       "<div>\n",
       "<style scoped>\n",
       "    .dataframe tbody tr th:only-of-type {\n",
       "        vertical-align: middle;\n",
       "    }\n",
       "\n",
       "    .dataframe tbody tr th {\n",
       "        vertical-align: top;\n",
       "    }\n",
       "\n",
       "    .dataframe thead th {\n",
       "        text-align: right;\n",
       "    }\n",
       "</style>\n",
       "<table border=\"1\" class=\"dataframe\">\n",
       "  <thead>\n",
       "    <tr style=\"text-align: right;\">\n",
       "      <th></th>\n",
       "      <th>count</th>\n",
       "      <th>sum</th>\n",
       "    </tr>\n",
       "    <tr>\n",
       "      <th>City</th>\n",
       "      <th></th>\n",
       "      <th></th>\n",
       "    </tr>\n",
       "  </thead>\n",
       "  <tbody>\n",
       "    <tr>\n",
       "      <th>Bangalore</th>\n",
       "      <td>720</td>\n",
       "      <td>3659321</td>\n",
       "    </tr>\n",
       "    <tr>\n",
       "      <th>NewDelhi</th>\n",
       "      <td>210</td>\n",
       "      <td>626320</td>\n",
       "    </tr>\n",
       "    <tr>\n",
       "      <th>Chennai</th>\n",
       "      <td>142</td>\n",
       "      <td>664328</td>\n",
       "    </tr>\n",
       "    <tr>\n",
       "      <th>Pune</th>\n",
       "      <td>117</td>\n",
       "      <td>299812</td>\n",
       "    </tr>\n",
       "    <tr>\n",
       "      <th>Mumbai</th>\n",
       "      <td>101</td>\n",
       "      <td>512496</td>\n",
       "    </tr>\n",
       "  </tbody>\n",
       "</table>\n",
       "</div>"
      ],
      "text/plain": [
       "           count      sum\n",
       "City                     \n",
       "Bangalore    720  3659321\n",
       "NewDelhi     210   626320\n",
       "Chennai      142   664328\n",
       "Pune         117   299812\n",
       "Mumbai       101   512496"
      ]
     },
     "execution_count": 52,
     "metadata": {},
     "output_type": "execute_result"
    }
   ],
   "source": [
    "#Q1- MOst bibes are from whcih city\n",
    "most_bribe_city=df.groupby('City',)[\"Amount(INR)\"].agg([\"count\",'sum'])\n",
    "most_bribe_city.sort_values(by='count',ascending=False,inplace=True)\n",
    "most_bribe_city.head()\n",
    "# Bangalore is the most bribed city"
   ]
  },
  {
   "cell_type": "code",
   "execution_count": 53,
   "id": "59fb482d",
   "metadata": {},
   "outputs": [
    {
     "data": {
      "text/html": [
       "<div>\n",
       "<style scoped>\n",
       "    .dataframe tbody tr th:only-of-type {\n",
       "        vertical-align: middle;\n",
       "    }\n",
       "\n",
       "    .dataframe tbody tr th {\n",
       "        vertical-align: top;\n",
       "    }\n",
       "\n",
       "    .dataframe thead th {\n",
       "        text-align: right;\n",
       "    }\n",
       "</style>\n",
       "<table border=\"1\" class=\"dataframe\">\n",
       "  <thead>\n",
       "    <tr style=\"text-align: right;\">\n",
       "      <th></th>\n",
       "      <th>City</th>\n",
       "      <th>count</th>\n",
       "      <th>sum</th>\n",
       "    </tr>\n",
       "  </thead>\n",
       "  <tbody>\n",
       "    <tr>\n",
       "      <th>0</th>\n",
       "      <td>Bangalore</td>\n",
       "      <td>720</td>\n",
       "      <td>3659321</td>\n",
       "    </tr>\n",
       "    <tr>\n",
       "      <th>1</th>\n",
       "      <td>NewDelhi</td>\n",
       "      <td>210</td>\n",
       "      <td>626320</td>\n",
       "    </tr>\n",
       "    <tr>\n",
       "      <th>2</th>\n",
       "      <td>Chennai</td>\n",
       "      <td>142</td>\n",
       "      <td>664328</td>\n",
       "    </tr>\n",
       "    <tr>\n",
       "      <th>3</th>\n",
       "      <td>Pune</td>\n",
       "      <td>117</td>\n",
       "      <td>299812</td>\n",
       "    </tr>\n",
       "    <tr>\n",
       "      <th>4</th>\n",
       "      <td>Mumbai</td>\n",
       "      <td>101</td>\n",
       "      <td>512496</td>\n",
       "    </tr>\n",
       "  </tbody>\n",
       "</table>\n",
       "</div>"
      ],
      "text/plain": [
       "        City  count      sum\n",
       "0  Bangalore    720  3659321\n",
       "1   NewDelhi    210   626320\n",
       "2    Chennai    142   664328\n",
       "3       Pune    117   299812\n",
       "4     Mumbai    101   512496"
      ]
     },
     "execution_count": 53,
     "metadata": {},
     "output_type": "execute_result"
    }
   ],
   "source": [
    "most_bribe_city.reset_index(inplace=True)\n",
    "most_bribe_city.head()"
   ]
  },
  {
   "cell_type": "code",
   "execution_count": 62,
   "id": "5fbf1460",
   "metadata": {},
   "outputs": [
    {
     "data": {
      "text/plain": [
       "<AxesSubplot: xlabel='City', ylabel='count'>"
      ]
     },
     "execution_count": 62,
     "metadata": {},
     "output_type": "execute_result"
    },
    {
     "data": {
      "image/png": "[encoded data removed]",
      "text/plain": [
       "<Figure size 1000x600 with 1 Axes>"
      ]
     },
     "metadata": {},
     "output_type": "display_data"
    }
   ],
   "source": [
    "sns.barplot(x=most_bribe_city.head().City,y=most_bribe_city.head()['count'])"
   ]
  },
  {
   "cell_type": "code",
   "execution_count": 63,
   "id": "56b119c5",
   "metadata": {},
   "outputs": [
    {
     "data": {
      "text/html": [
       "<div>\n",
       "<style scoped>\n",
       "    .dataframe tbody tr th:only-of-type {\n",
       "        vertical-align: middle;\n",
       "    }\n",
       "\n",
       "    .dataframe tbody tr th {\n",
       "        vertical-align: top;\n",
       "    }\n",
       "\n",
       "    .dataframe thead th {\n",
       "        text-align: right;\n",
       "    }\n",
       "</style>\n",
       "<table border=\"1\" class=\"dataframe\">\n",
       "  <thead>\n",
       "    <tr style=\"text-align: right;\">\n",
       "      <th></th>\n",
       "      <th>Title</th>\n",
       "      <th>Date</th>\n",
       "      <th>Location</th>\n",
       "      <th>Department</th>\n",
       "      <th>Views</th>\n",
       "      <th>Amount(INR)</th>\n",
       "      <th>City</th>\n",
       "      <th>Province</th>\n",
       "    </tr>\n",
       "  </thead>\n",
       "  <tbody>\n",
       "    <tr>\n",
       "      <th>0</th>\n",
       "      <td>They said it is registration fee for birth cer...</td>\n",
       "      <td>14-10-20</td>\n",
       "      <td>Bangalore,Karnataka</td>\n",
       "      <td>Births, Family and Care</td>\n",
       "      <td>1225</td>\n",
       "      <td>400</td>\n",
       "      <td>Bangalore</td>\n",
       "      <td>Karnataka</td>\n",
       "    </tr>\n",
       "    <tr>\n",
       "      <th>1</th>\n",
       "      <td>Paid bribe for not having insurance during pan...</td>\n",
       "      <td>13-10-20</td>\n",
       "      <td>Bangalore,Karnataka</td>\n",
       "      <td>Vehicle Insurance</td>\n",
       "      <td>1158</td>\n",
       "      <td>350</td>\n",
       "      <td>Bangalore</td>\n",
       "      <td>Karnataka</td>\n",
       "    </tr>\n",
       "  </tbody>\n",
       "</table>\n",
       "</div>"
      ],
      "text/plain": [
       "                                               Title      Date  \\\n",
       "0  They said it is registration fee for birth cer...  14-10-20   \n",
       "1  Paid bribe for not having insurance during pan...  13-10-20   \n",
       "\n",
       "              Location               Department  Views  Amount(INR)  \\\n",
       "0  Bangalore,Karnataka  Births, Family and Care   1225          400   \n",
       "1  Bangalore,Karnataka        Vehicle Insurance   1158          350   \n",
       "\n",
       "        City   Province  \n",
       "0  Bangalore  Karnataka  \n",
       "1  Bangalore  Karnataka  "
      ]
     },
     "execution_count": 63,
     "metadata": {},
     "output_type": "execute_result"
    }
   ],
   "source": [
    "df.head(2)"
   ]
  },
  {
   "cell_type": "code",
   "execution_count": 64,
   "id": "0e103688",
   "metadata": {},
   "outputs": [
    {
     "data": {
      "text/html": [
       "<div>\n",
       "<style scoped>\n",
       "    .dataframe tbody tr th:only-of-type {\n",
       "        vertical-align: middle;\n",
       "    }\n",
       "\n",
       "    .dataframe tbody tr th {\n",
       "        vertical-align: top;\n",
       "    }\n",
       "\n",
       "    .dataframe thead th {\n",
       "        text-align: right;\n",
       "    }\n",
       "</style>\n",
       "<table border=\"1\" class=\"dataframe\">\n",
       "  <thead>\n",
       "    <tr style=\"text-align: right;\">\n",
       "      <th></th>\n",
       "      <th>count</th>\n",
       "      <th>sum</th>\n",
       "    </tr>\n",
       "    <tr>\n",
       "      <th>Province</th>\n",
       "      <th></th>\n",
       "      <th></th>\n",
       "    </tr>\n",
       "  </thead>\n",
       "  <tbody>\n",
       "    <tr>\n",
       "      <th>Karnataka</th>\n",
       "      <td>838</td>\n",
       "      <td>4124357</td>\n",
       "    </tr>\n",
       "    <tr>\n",
       "      <th>UttarPradesh</th>\n",
       "      <td>357</td>\n",
       "      <td>1170341</td>\n",
       "    </tr>\n",
       "    <tr>\n",
       "      <th>Maharashtra</th>\n",
       "      <td>350</td>\n",
       "      <td>1454076</td>\n",
       "    </tr>\n",
       "    <tr>\n",
       "      <th>TamilNadu</th>\n",
       "      <td>299</td>\n",
       "      <td>1335778</td>\n",
       "    </tr>\n",
       "    <tr>\n",
       "      <th>Delhi</th>\n",
       "      <td>210</td>\n",
       "      <td>626320</td>\n",
       "    </tr>\n",
       "  </tbody>\n",
       "</table>\n",
       "</div>"
      ],
      "text/plain": [
       "              count      sum\n",
       "Province                    \n",
       "Karnataka       838  4124357\n",
       "UttarPradesh    357  1170341\n",
       "Maharashtra     350  1454076\n",
       "TamilNadu       299  1335778\n",
       "Delhi           210   626320"
      ]
     },
     "execution_count": 64,
     "metadata": {},
     "output_type": "execute_result"
    }
   ],
   "source": [
    "#Q2- Which state has the highest bribe\n",
    "most_bribe_state=df.groupby('Province',)[\"Amount(INR)\"].agg([\"count\",'sum'])\n",
    "most_bribe_state.sort_values(by='count',ascending=False,inplace=True)\n",
    "most_bribe_state.head()"
   ]
  },
  {
   "cell_type": "code",
   "execution_count": 65,
   "id": "7ae73bca",
   "metadata": {},
   "outputs": [],
   "source": [
    "most_bribe_state.reset_index(inplace=True)"
   ]
  },
  {
   "cell_type": "code",
   "execution_count": 66,
   "id": "f75746ae",
   "metadata": {},
   "outputs": [
    {
     "data": {
      "text/html": [
       "<div>\n",
       "<style scoped>\n",
       "    .dataframe tbody tr th:only-of-type {\n",
       "        vertical-align: middle;\n",
       "    }\n",
       "\n",
       "    .dataframe tbody tr th {\n",
       "        vertical-align: top;\n",
       "    }\n",
       "\n",
       "    .dataframe thead th {\n",
       "        text-align: right;\n",
       "    }\n",
       "</style>\n",
       "<table border=\"1\" class=\"dataframe\">\n",
       "  <thead>\n",
       "    <tr style=\"text-align: right;\">\n",
       "      <th></th>\n",
       "      <th>Province</th>\n",
       "      <th>count</th>\n",
       "      <th>sum</th>\n",
       "    </tr>\n",
       "  </thead>\n",
       "  <tbody>\n",
       "    <tr>\n",
       "      <th>0</th>\n",
       "      <td>Karnataka</td>\n",
       "      <td>838</td>\n",
       "      <td>4124357</td>\n",
       "    </tr>\n",
       "    <tr>\n",
       "      <th>1</th>\n",
       "      <td>UttarPradesh</td>\n",
       "      <td>357</td>\n",
       "      <td>1170341</td>\n",
       "    </tr>\n",
       "    <tr>\n",
       "      <th>2</th>\n",
       "      <td>Maharashtra</td>\n",
       "      <td>350</td>\n",
       "      <td>1454076</td>\n",
       "    </tr>\n",
       "    <tr>\n",
       "      <th>3</th>\n",
       "      <td>TamilNadu</td>\n",
       "      <td>299</td>\n",
       "      <td>1335778</td>\n",
       "    </tr>\n",
       "    <tr>\n",
       "      <th>4</th>\n",
       "      <td>Delhi</td>\n",
       "      <td>210</td>\n",
       "      <td>626320</td>\n",
       "    </tr>\n",
       "  </tbody>\n",
       "</table>\n",
       "</div>"
      ],
      "text/plain": [
       "       Province  count      sum\n",
       "0     Karnataka    838  4124357\n",
       "1  UttarPradesh    357  1170341\n",
       "2   Maharashtra    350  1454076\n",
       "3     TamilNadu    299  1335778\n",
       "4         Delhi    210   626320"
      ]
     },
     "execution_count": 66,
     "metadata": {},
     "output_type": "execute_result"
    }
   ],
   "source": [
    "most_bribe_state.head()"
   ]
  },
  {
   "cell_type": "code",
   "execution_count": 67,
   "id": "5ff4fb76",
   "metadata": {},
   "outputs": [
    {
     "data": {
      "text/plain": [
       "<AxesSubplot: xlabel='Province', ylabel='count'>"
      ]
     },
     "execution_count": 67,
     "metadata": {},
     "output_type": "execute_result"
    },
    {
     "data": {
      "image/png": "[encoded data removed]",
      "text/plain": [
       "<Figure size 1000x600 with 1 Axes>"
      ]
     },
     "metadata": {},
     "output_type": "display_data"
    }
   ],
   "source": [
    "sns.barplot(x=most_bribe_state.head().Province,y=most_bribe_state.head()['count'])"
   ]
  },
  {
   "cell_type": "code",
   "execution_count": 77,
   "id": "0a61d917",
   "metadata": {},
   "outputs": [
    {
     "data": {
      "text/html": [
       "<div>\n",
       "<style scoped>\n",
       "    .dataframe tbody tr th:only-of-type {\n",
       "        vertical-align: middle;\n",
       "    }\n",
       "\n",
       "    .dataframe tbody tr th {\n",
       "        vertical-align: top;\n",
       "    }\n",
       "\n",
       "    .dataframe thead th {\n",
       "        text-align: right;\n",
       "    }\n",
       "</style>\n",
       "<table border=\"1\" class=\"dataframe\">\n",
       "  <thead>\n",
       "    <tr style=\"text-align: right;\">\n",
       "      <th></th>\n",
       "      <th>count</th>\n",
       "      <th>sum</th>\n",
       "    </tr>\n",
       "    <tr>\n",
       "      <th>Department</th>\n",
       "      <th></th>\n",
       "      <th></th>\n",
       "    </tr>\n",
       "  </thead>\n",
       "  <tbody>\n",
       "    <tr>\n",
       "      <th>Others</th>\n",
       "      <td>477</td>\n",
       "      <td>1787443</td>\n",
       "    </tr>\n",
       "    <tr>\n",
       "      <th>Police Verification for Passport</th>\n",
       "      <td>264</td>\n",
       "      <td>242827</td>\n",
       "    </tr>\n",
       "    <tr>\n",
       "      <th>Traffic Violations</th>\n",
       "      <td>236</td>\n",
       "      <td>189459</td>\n",
       "    </tr>\n",
       "    <tr>\n",
       "      <th>Birth Certificate</th>\n",
       "      <td>144</td>\n",
       "      <td>232212</td>\n",
       "    </tr>\n",
       "    <tr>\n",
       "      <th>Traffic Fines, Penalties, Rules</th>\n",
       "      <td>101</td>\n",
       "      <td>141369</td>\n",
       "    </tr>\n",
       "  </tbody>\n",
       "</table>\n",
       "</div>"
      ],
      "text/plain": [
       "                                  count      sum\n",
       "Department                                      \n",
       "Others                              477  1787443\n",
       "Police Verification for Passport    264   242827\n",
       "Traffic Violations                  236   189459\n",
       "Birth Certificate                   144   232212\n",
       "Traffic Fines, Penalties, Rules     101   141369"
      ]
     },
     "execution_count": 77,
     "metadata": {},
     "output_type": "execute_result"
    }
   ],
   "source": [
    "#  3- Which department gets paid the most bribe?\n",
    "most_bribe_dept=df.groupby(['Department'])[\"Amount(INR)\"].agg([\"count\",'sum']).sort_values(by='count',ascending=False)\n",
    "most_bribe_dept.head()"
   ]
  },
  {
   "cell_type": "code",
   "execution_count": 84,
   "id": "b20dddff",
   "metadata": {},
   "outputs": [
    {
     "data": {
      "text/plain": [
       "<AxesSubplot: xlabel='count', ylabel='Department'>"
      ]
     },
     "execution_count": 84,
     "metadata": {},
     "output_type": "execute_result"
    },
    {
     "data": {
      "image/png": "[encoded data removed]",
      "text/plain": [
       "<Figure size 1000x600 with 1 Axes>"
      ]
     },
     "metadata": {},
     "output_type": "display_data"
    }
   ],
   "source": [
    "sns.barplot(y=most_bribe_dept.head(10).index,x=most_bribe_dept.head(10)['count'])"
   ]
  },
  {
   "cell_type": "code",
   "execution_count": 86,
   "id": "32faa761",
   "metadata": {},
   "outputs": [
    {
     "data": {
      "text/html": [
       "<div>\n",
       "<style scoped>\n",
       "    .dataframe tbody tr th:only-of-type {\n",
       "        vertical-align: middle;\n",
       "    }\n",
       "\n",
       "    .dataframe tbody tr th {\n",
       "        vertical-align: top;\n",
       "    }\n",
       "\n",
       "    .dataframe thead th {\n",
       "        text-align: right;\n",
       "    }\n",
       "</style>\n",
       "<table border=\"1\" class=\"dataframe\">\n",
       "  <thead>\n",
       "    <tr style=\"text-align: right;\">\n",
       "      <th></th>\n",
       "      <th>count</th>\n",
       "      <th>sum</th>\n",
       "      <th>mean</th>\n",
       "    </tr>\n",
       "    <tr>\n",
       "      <th>Department</th>\n",
       "      <th></th>\n",
       "      <th></th>\n",
       "      <th></th>\n",
       "    </tr>\n",
       "  </thead>\n",
       "  <tbody>\n",
       "    <tr>\n",
       "      <th>Income Tax</th>\n",
       "      <td>1</td>\n",
       "      <td>40000</td>\n",
       "      <td>40000.0</td>\n",
       "    </tr>\n",
       "    <tr>\n",
       "      <th>Filing Tax Returns</th>\n",
       "      <td>1</td>\n",
       "      <td>40000</td>\n",
       "      <td>40000.0</td>\n",
       "    </tr>\n",
       "    <tr>\n",
       "      <th>Migration Certificate</th>\n",
       "      <td>1</td>\n",
       "      <td>40000</td>\n",
       "      <td>40000.0</td>\n",
       "    </tr>\n",
       "    <tr>\n",
       "      <th>Drugs License</th>\n",
       "      <td>2</td>\n",
       "      <td>80000</td>\n",
       "      <td>40000.0</td>\n",
       "    </tr>\n",
       "    <tr>\n",
       "      <th>Service Tax Return</th>\n",
       "      <td>1</td>\n",
       "      <td>32000</td>\n",
       "      <td>32000.0</td>\n",
       "    </tr>\n",
       "    <tr>\n",
       "      <th>Land Related</th>\n",
       "      <td>1</td>\n",
       "      <td>32000</td>\n",
       "      <td>32000.0</td>\n",
       "    </tr>\n",
       "    <tr>\n",
       "      <th>Medical Professional</th>\n",
       "      <td>1</td>\n",
       "      <td>30000</td>\n",
       "      <td>30000.0</td>\n",
       "    </tr>\n",
       "    <tr>\n",
       "      <th>Housing Plan Approval</th>\n",
       "      <td>2</td>\n",
       "      <td>60000</td>\n",
       "      <td>30000.0</td>\n",
       "    </tr>\n",
       "    <tr>\n",
       "      <th>Building Plan Approval</th>\n",
       "      <td>5</td>\n",
       "      <td>140000</td>\n",
       "      <td>28000.0</td>\n",
       "    </tr>\n",
       "    <tr>\n",
       "      <th>To prevent shutdown of premises</th>\n",
       "      <td>1</td>\n",
       "      <td>25000</td>\n",
       "      <td>25000.0</td>\n",
       "    </tr>\n",
       "  </tbody>\n",
       "</table>\n",
       "</div>"
      ],
      "text/plain": [
       "                                 count     sum     mean\n",
       "Department                                             \n",
       "Income Tax                           1   40000  40000.0\n",
       "Filing Tax Returns                   1   40000  40000.0\n",
       "Migration Certificate                1   40000  40000.0\n",
       "Drugs License                        2   80000  40000.0\n",
       "Service Tax Return                   1   32000  32000.0\n",
       "Land Related                         1   32000  32000.0\n",
       "Medical Professional                 1   30000  30000.0\n",
       "Housing Plan Approval                2   60000  30000.0\n",
       "Building Plan Approval               5  140000  28000.0\n",
       "To prevent shutdown of premises      1   25000  25000.0"
      ]
     },
     "execution_count": 86,
     "metadata": {},
     "output_type": "execute_result"
    }
   ],
   "source": [
    "## 4-Departments which take most bribe on average and overall.\n",
    "most_bribe_dept_sum=df.groupby(['Department'])[\"Amount(INR)\"].agg([\"count\",'sum','mean']).sort_values(by='sum',ascending=False).head(10)\n",
    "most_bribe_dept_mean=df.groupby(['Department'])[\"Amount(INR)\"].agg([\"count\",'sum','mean']).sort_values(by='mean',ascending=False).head(10)\n",
    "most_bribe_dept_mean"
   ]
  },
  {
   "cell_type": "code",
   "execution_count": 90,
   "id": "3c9d2287",
   "metadata": {},
   "outputs": [
    {
     "data": {
      "text/plain": [
       "<AxesSubplot: xlabel='sum', ylabel='Department'>"
      ]
     },
     "execution_count": 90,
     "metadata": {},
     "output_type": "execute_result"
    },
    {
     "data": {
      "image/png": "[encoded data removed]",
      "text/plain": [
       "<Figure size 1000x600 with 1 Axes>"
      ]
     },
     "metadata": {},
     "output_type": "display_data"
    }
   ],
   "source": [
    "sns.barplot(y=most_bribe_dept_sum.index,x=most_bribe_dept_sum['sum'])"
   ]
  },
  {
   "cell_type": "code",
   "execution_count": 91,
   "id": "a22f83a3",
   "metadata": {},
   "outputs": [
    {
     "data": {
      "text/plain": [
       "<AxesSubplot: xlabel='mean', ylabel='Department'>"
      ]
     },
     "execution_count": 91,
     "metadata": {},
     "output_type": "execute_result"
    },
    {
     "data": {
      "image/png": "[encoded data removed]",
      "text/plain": [
       "<Figure size 1000x600 with 1 Axes>"
      ]
     },
     "metadata": {},
     "output_type": "display_data"
    }
   ],
   "source": [
    "sns.barplot(y=most_bribe_dept_mean.index,x=most_bribe_dept_mean['mean'])"
   ]
  },
  {
   "cell_type": "code",
   "execution_count": null,
   "id": "e58f1cea",
   "metadata": {},
   "outputs": [],
   "source": [
    "# 5-Bribes paid by days of the month\n",
    "# 6-Bribes paid by days of the days of week\n",
    "# 7-Bribes paid by Years"
   ]
  },
  {
   "cell_type": "code",
   "execution_count": 94,
   "id": "77f65efd",
   "metadata": {},
   "outputs": [
    {
     "name": "stdout",
     "output_type": "stream",
     "text": [
      "<class 'pandas.core.frame.DataFrame'>\n",
      "Int64Index: 3125 entries, 0 to 3472\n",
      "Data columns (total 8 columns):\n",
      " #   Column       Non-Null Count  Dtype         \n",
      "---  ------       --------------  -----         \n",
      " 0   Title        3125 non-null   object        \n",
      " 1   Date         3125 non-null   datetime64[ns]\n",
      " 2   Location     3125 non-null   object        \n",
      " 3   Department   3125 non-null   object        \n",
      " 4   Views        3125 non-null   int64         \n",
      " 5   Amount(INR)  3125 non-null   int64         \n",
      " 6   City         3125 non-null   object        \n",
      " 7   Province     3125 non-null   object        \n",
      "dtypes: datetime64[ns](1), int64(2), object(5)\n",
      "memory usage: 284.3+ KB\n",
      "<class 'pandas.core.frame.DataFrame'>\n",
      "Int64Index: 3125 entries, 0 to 3472\n",
      "Data columns (total 8 columns):\n",
      " #   Column       Non-Null Count  Dtype         \n",
      "---  ------       --------------  -----         \n",
      " 0   Title        3125 non-null   object        \n",
      " 1   Date         3125 non-null   datetime64[ns]\n",
      " 2   Location     3125 non-null   object        \n",
      " 3   Department   3125 non-null   object        \n",
      " 4   Views        3125 non-null   int64         \n",
      " 5   Amount(INR)  3125 non-null   int64         \n",
      " 6   City         3125 non-null   object        \n",
      " 7   Province     3125 non-null   object        \n",
      "dtypes: datetime64[ns](1), int64(2), object(5)\n",
      "memory usage: 284.3+ KB\n"
     ]
    }
   ],
   "source": [
    "df.info()\n",
    "# we can see that the data column is object type but we need to convert to date\n",
    "df['Date']=pd.to_datetime(df['Date'])\n",
    "df.info()"
   ]
  },
  {
   "cell_type": "code",
   "execution_count": 97,
   "id": "6adb53c4",
   "metadata": {},
   "outputs": [
    {
     "data": {
      "text/html": [
       "<div>\n",
       "<style scoped>\n",
       "    .dataframe tbody tr th:only-of-type {\n",
       "        vertical-align: middle;\n",
       "    }\n",
       "\n",
       "    .dataframe tbody tr th {\n",
       "        vertical-align: top;\n",
       "    }\n",
       "\n",
       "    .dataframe thead th {\n",
       "        text-align: right;\n",
       "    }\n",
       "</style>\n",
       "<table border=\"1\" class=\"dataframe\">\n",
       "  <thead>\n",
       "    <tr style=\"text-align: right;\">\n",
       "      <th></th>\n",
       "      <th>Date</th>\n",
       "      <th>Amount(INR)</th>\n",
       "    </tr>\n",
       "  </thead>\n",
       "  <tbody>\n",
       "    <tr>\n",
       "      <th>0</th>\n",
       "      <td>2020-10-14</td>\n",
       "      <td>400</td>\n",
       "    </tr>\n",
       "    <tr>\n",
       "      <th>1</th>\n",
       "      <td>2020-10-13</td>\n",
       "      <td>350</td>\n",
       "    </tr>\n",
       "    <tr>\n",
       "      <th>2</th>\n",
       "      <td>2020-10-13</td>\n",
       "      <td>100</td>\n",
       "    </tr>\n",
       "    <tr>\n",
       "      <th>3</th>\n",
       "      <td>2020-10-13</td>\n",
       "      <td>100</td>\n",
       "    </tr>\n",
       "    <tr>\n",
       "      <th>4</th>\n",
       "      <td>2020-10-13</td>\n",
       "      <td>15000</td>\n",
       "    </tr>\n",
       "  </tbody>\n",
       "</table>\n",
       "</div>"
      ],
      "text/plain": [
       "        Date  Amount(INR)\n",
       "0 2020-10-14          400\n",
       "1 2020-10-13          350\n",
       "2 2020-10-13          100\n",
       "3 2020-10-13          100\n",
       "4 2020-10-13        15000"
      ]
     },
     "execution_count": 97,
     "metadata": {},
     "output_type": "execute_result"
    }
   ],
   "source": [
    "df_day=df[['Date',\"Amount(INR)\"]]\n",
    "df_day.head()"
   ]
  },
  {
   "cell_type": "code",
   "execution_count": 99,
   "id": "42f2c641",
   "metadata": {},
   "outputs": [
    {
     "data": {
      "text/plain": [
       "'\\ndt.day_name()\\ndt.week\\ndt.year\\ndt.month\\ndt.dayofweek\\n\\n'"
      ]
     },
     "execution_count": 99,
     "metadata": {},
     "output_type": "execute_result"
    }
   ],
   "source": [
    "# extract the information for date\n",
    "import datetime as dt\n",
    "\n",
    "\"\"\"\n",
    "dt.day_name()\n",
    "dt.week\n",
    "dt.year\n",
    "dt.month\n",
    "dt.dayofweek\n",
    "\n",
    "\"\"\""
   ]
  },
  {
   "cell_type": "code",
   "execution_count": 100,
   "id": "a3702d11",
   "metadata": {},
   "outputs": [
    {
     "data": {
      "text/html": [
       "<div>\n",
       "<style scoped>\n",
       "    .dataframe tbody tr th:only-of-type {\n",
       "        vertical-align: middle;\n",
       "    }\n",
       "\n",
       "    .dataframe tbody tr th {\n",
       "        vertical-align: top;\n",
       "    }\n",
       "\n",
       "    .dataframe thead th {\n",
       "        text-align: right;\n",
       "    }\n",
       "</style>\n",
       "<table border=\"1\" class=\"dataframe\">\n",
       "  <thead>\n",
       "    <tr style=\"text-align: right;\">\n",
       "      <th></th>\n",
       "      <th>Date</th>\n",
       "      <th>Amount(INR)</th>\n",
       "      <th>Day</th>\n",
       "      <th>DayOfWeek</th>\n",
       "      <th>Month</th>\n",
       "      <th>Year</th>\n",
       "    </tr>\n",
       "  </thead>\n",
       "  <tbody>\n",
       "    <tr>\n",
       "      <th>0</th>\n",
       "      <td>2020-10-14</td>\n",
       "      <td>400</td>\n",
       "      <td>14</td>\n",
       "      <td>2</td>\n",
       "      <td>10</td>\n",
       "      <td>2020</td>\n",
       "    </tr>\n",
       "    <tr>\n",
       "      <th>1</th>\n",
       "      <td>2020-10-13</td>\n",
       "      <td>350</td>\n",
       "      <td>13</td>\n",
       "      <td>1</td>\n",
       "      <td>10</td>\n",
       "      <td>2020</td>\n",
       "    </tr>\n",
       "    <tr>\n",
       "      <th>2</th>\n",
       "      <td>2020-10-13</td>\n",
       "      <td>100</td>\n",
       "      <td>13</td>\n",
       "      <td>1</td>\n",
       "      <td>10</td>\n",
       "      <td>2020</td>\n",
       "    </tr>\n",
       "    <tr>\n",
       "      <th>3</th>\n",
       "      <td>2020-10-13</td>\n",
       "      <td>100</td>\n",
       "      <td>13</td>\n",
       "      <td>1</td>\n",
       "      <td>10</td>\n",
       "      <td>2020</td>\n",
       "    </tr>\n",
       "    <tr>\n",
       "      <th>4</th>\n",
       "      <td>2020-10-13</td>\n",
       "      <td>15000</td>\n",
       "      <td>13</td>\n",
       "      <td>1</td>\n",
       "      <td>10</td>\n",
       "      <td>2020</td>\n",
       "    </tr>\n",
       "  </tbody>\n",
       "</table>\n",
       "</div>"
      ],
      "text/plain": [
       "        Date  Amount(INR)  Day  DayOfWeek  Month  Year\n",
       "0 2020-10-14          400   14          2     10  2020\n",
       "1 2020-10-13          350   13          1     10  2020\n",
       "2 2020-10-13          100   13          1     10  2020\n",
       "3 2020-10-13          100   13          1     10  2020\n",
       "4 2020-10-13        15000   13          1     10  2020"
      ]
     },
     "execution_count": 100,
     "metadata": {},
     "output_type": "execute_result"
    }
   ],
   "source": [
    "df_day[\"Day\"]=df_day[\"Date\"].dt.day\n",
    "df_day[\"DayOfWeek\"]=df_day[\"Date\"].dt.dayofweek\n",
    "df_day[\"Month\"]=df_day[\"Date\"].dt.month\n",
    "df_day[\"Year\"]=df_day[\"Date\"].dt.year\n",
    "df_day.head()"
   ]
  },
  {
   "cell_type": "code",
   "execution_count": 105,
   "id": "3020f8a2",
   "metadata": {},
   "outputs": [],
   "source": [
    "most_bribe_day=df_day.groupby(['Day'])[\"Amount(INR)\"].agg([\"count\",'sum'])\n",
    "most_bribe_dayofweek=df_day.groupby(['DayOfWeek'])[\"Amount(INR)\"].agg([\"count\",'sum'])\n",
    "most_bribe_year=df_day.groupby(['Year'])[\"Amount(INR)\"].agg([\"count\",'sum'])\n"
   ]
  },
  {
   "cell_type": "code",
   "execution_count": 106,
   "id": "d0ab6f79",
   "metadata": {},
   "outputs": [
    {
     "data": {
      "text/html": [
       "<div>\n",
       "<style scoped>\n",
       "    .dataframe tbody tr th:only-of-type {\n",
       "        vertical-align: middle;\n",
       "    }\n",
       "\n",
       "    .dataframe tbody tr th {\n",
       "        vertical-align: top;\n",
       "    }\n",
       "\n",
       "    .dataframe thead th {\n",
       "        text-align: right;\n",
       "    }\n",
       "</style>\n",
       "<table border=\"1\" class=\"dataframe\">\n",
       "  <thead>\n",
       "    <tr style=\"text-align: right;\">\n",
       "      <th></th>\n",
       "      <th>count</th>\n",
       "      <th>sum</th>\n",
       "    </tr>\n",
       "    <tr>\n",
       "      <th>Day</th>\n",
       "      <th></th>\n",
       "      <th></th>\n",
       "    </tr>\n",
       "  </thead>\n",
       "  <tbody>\n",
       "    <tr>\n",
       "      <th>1</th>\n",
       "      <td>107</td>\n",
       "      <td>397106</td>\n",
       "    </tr>\n",
       "    <tr>\n",
       "      <th>2</th>\n",
       "      <td>86</td>\n",
       "      <td>338911</td>\n",
       "    </tr>\n",
       "    <tr>\n",
       "      <th>3</th>\n",
       "      <td>114</td>\n",
       "      <td>468748</td>\n",
       "    </tr>\n",
       "    <tr>\n",
       "      <th>4</th>\n",
       "      <td>94</td>\n",
       "      <td>440724</td>\n",
       "    </tr>\n",
       "    <tr>\n",
       "      <th>5</th>\n",
       "      <td>80</td>\n",
       "      <td>270402</td>\n",
       "    </tr>\n",
       "    <tr>\n",
       "      <th>6</th>\n",
       "      <td>87</td>\n",
       "      <td>332049</td>\n",
       "    </tr>\n",
       "    <tr>\n",
       "      <th>7</th>\n",
       "      <td>92</td>\n",
       "      <td>458437</td>\n",
       "    </tr>\n",
       "    <tr>\n",
       "      <th>8</th>\n",
       "      <td>98</td>\n",
       "      <td>406199</td>\n",
       "    </tr>\n",
       "    <tr>\n",
       "      <th>9</th>\n",
       "      <td>91</td>\n",
       "      <td>536490</td>\n",
       "    </tr>\n",
       "    <tr>\n",
       "      <th>10</th>\n",
       "      <td>96</td>\n",
       "      <td>463096</td>\n",
       "    </tr>\n",
       "    <tr>\n",
       "      <th>11</th>\n",
       "      <td>224</td>\n",
       "      <td>751450</td>\n",
       "    </tr>\n",
       "    <tr>\n",
       "      <th>12</th>\n",
       "      <td>100</td>\n",
       "      <td>619575</td>\n",
       "    </tr>\n",
       "    <tr>\n",
       "      <th>13</th>\n",
       "      <td>98</td>\n",
       "      <td>454949</td>\n",
       "    </tr>\n",
       "    <tr>\n",
       "      <th>14</th>\n",
       "      <td>104</td>\n",
       "      <td>349460</td>\n",
       "    </tr>\n",
       "    <tr>\n",
       "      <th>15</th>\n",
       "      <td>85</td>\n",
       "      <td>396682</td>\n",
       "    </tr>\n",
       "    <tr>\n",
       "      <th>16</th>\n",
       "      <td>91</td>\n",
       "      <td>370596</td>\n",
       "    </tr>\n",
       "    <tr>\n",
       "      <th>17</th>\n",
       "      <td>93</td>\n",
       "      <td>388927</td>\n",
       "    </tr>\n",
       "    <tr>\n",
       "      <th>18</th>\n",
       "      <td>77</td>\n",
       "      <td>220068</td>\n",
       "    </tr>\n",
       "    <tr>\n",
       "      <th>19</th>\n",
       "      <td>91</td>\n",
       "      <td>235114</td>\n",
       "    </tr>\n",
       "    <tr>\n",
       "      <th>20</th>\n",
       "      <td>94</td>\n",
       "      <td>325442</td>\n",
       "    </tr>\n",
       "    <tr>\n",
       "      <th>21</th>\n",
       "      <td>101</td>\n",
       "      <td>405997</td>\n",
       "    </tr>\n",
       "    <tr>\n",
       "      <th>22</th>\n",
       "      <td>123</td>\n",
       "      <td>448218</td>\n",
       "    </tr>\n",
       "    <tr>\n",
       "      <th>23</th>\n",
       "      <td>107</td>\n",
       "      <td>392898</td>\n",
       "    </tr>\n",
       "    <tr>\n",
       "      <th>24</th>\n",
       "      <td>92</td>\n",
       "      <td>383730</td>\n",
       "    </tr>\n",
       "    <tr>\n",
       "      <th>25</th>\n",
       "      <td>108</td>\n",
       "      <td>602779</td>\n",
       "    </tr>\n",
       "    <tr>\n",
       "      <th>26</th>\n",
       "      <td>103</td>\n",
       "      <td>459333</td>\n",
       "    </tr>\n",
       "    <tr>\n",
       "      <th>27</th>\n",
       "      <td>115</td>\n",
       "      <td>492519</td>\n",
       "    </tr>\n",
       "    <tr>\n",
       "      <th>28</th>\n",
       "      <td>102</td>\n",
       "      <td>290122</td>\n",
       "    </tr>\n",
       "    <tr>\n",
       "      <th>29</th>\n",
       "      <td>92</td>\n",
       "      <td>419239</td>\n",
       "    </tr>\n",
       "    <tr>\n",
       "      <th>30</th>\n",
       "      <td>94</td>\n",
       "      <td>424127</td>\n",
       "    </tr>\n",
       "    <tr>\n",
       "      <th>31</th>\n",
       "      <td>86</td>\n",
       "      <td>266125</td>\n",
       "    </tr>\n",
       "  </tbody>\n",
       "</table>\n",
       "</div>"
      ],
      "text/plain": [
       "     count     sum\n",
       "Day               \n",
       "1      107  397106\n",
       "2       86  338911\n",
       "3      114  468748\n",
       "4       94  440724\n",
       "5       80  270402\n",
       "6       87  332049\n",
       "7       92  458437\n",
       "8       98  406199\n",
       "9       91  536490\n",
       "10      96  463096\n",
       "11     224  751450\n",
       "12     100  619575\n",
       "13      98  454949\n",
       "14     104  349460\n",
       "15      85  396682\n",
       "16      91  370596\n",
       "17      93  388927\n",
       "18      77  220068\n",
       "19      91  235114\n",
       "20      94  325442\n",
       "21     101  405997\n",
       "22     123  448218\n",
       "23     107  392898\n",
       "24      92  383730\n",
       "25     108  602779\n",
       "26     103  459333\n",
       "27     115  492519\n",
       "28     102  290122\n",
       "29      92  419239\n",
       "30      94  424127\n",
       "31      86  266125"
      ]
     },
     "execution_count": 106,
     "metadata": {},
     "output_type": "execute_result"
    }
   ],
   "source": [
    "most_bribe_day"
   ]
  },
  {
   "cell_type": "code",
   "execution_count": 107,
   "id": "42bcad27",
   "metadata": {},
   "outputs": [
    {
     "data": {
      "text/html": [
       "<div>\n",
       "<style scoped>\n",
       "    .dataframe tbody tr th:only-of-type {\n",
       "        vertical-align: middle;\n",
       "    }\n",
       "\n",
       "    .dataframe tbody tr th {\n",
       "        vertical-align: top;\n",
       "    }\n",
       "\n",
       "    .dataframe thead th {\n",
       "        text-align: right;\n",
       "    }\n",
       "</style>\n",
       "<table border=\"1\" class=\"dataframe\">\n",
       "  <thead>\n",
       "    <tr style=\"text-align: right;\">\n",
       "      <th></th>\n",
       "      <th>count</th>\n",
       "      <th>sum</th>\n",
       "    </tr>\n",
       "    <tr>\n",
       "      <th>DayOfWeek</th>\n",
       "      <th></th>\n",
       "      <th></th>\n",
       "    </tr>\n",
       "  </thead>\n",
       "  <tbody>\n",
       "    <tr>\n",
       "      <th>0</th>\n",
       "      <td>439</td>\n",
       "      <td>1871951</td>\n",
       "    </tr>\n",
       "    <tr>\n",
       "      <th>1</th>\n",
       "      <td>520</td>\n",
       "      <td>2125361</td>\n",
       "    </tr>\n",
       "    <tr>\n",
       "      <th>2</th>\n",
       "      <td>513</td>\n",
       "      <td>1981031</td>\n",
       "    </tr>\n",
       "    <tr>\n",
       "      <th>3</th>\n",
       "      <td>423</td>\n",
       "      <td>1715406</td>\n",
       "    </tr>\n",
       "    <tr>\n",
       "      <th>4</th>\n",
       "      <td>425</td>\n",
       "      <td>1947879</td>\n",
       "    </tr>\n",
       "    <tr>\n",
       "      <th>5</th>\n",
       "      <td>498</td>\n",
       "      <td>1900388</td>\n",
       "    </tr>\n",
       "    <tr>\n",
       "      <th>6</th>\n",
       "      <td>307</td>\n",
       "      <td>1267496</td>\n",
       "    </tr>\n",
       "  </tbody>\n",
       "</table>\n",
       "</div>"
      ],
      "text/plain": [
       "           count      sum\n",
       "DayOfWeek                \n",
       "0            439  1871951\n",
       "1            520  2125361\n",
       "2            513  1981031\n",
       "3            423  1715406\n",
       "4            425  1947879\n",
       "5            498  1900388\n",
       "6            307  1267496"
      ]
     },
     "execution_count": 107,
     "metadata": {},
     "output_type": "execute_result"
    }
   ],
   "source": [
    "most_bribe_dayofweek"
   ]
  },
  {
   "cell_type": "code",
   "execution_count": 108,
   "id": "7b0f9b3b",
   "metadata": {},
   "outputs": [
    {
     "data": {
      "text/html": [
       "<div>\n",
       "<style scoped>\n",
       "    .dataframe tbody tr th:only-of-type {\n",
       "        vertical-align: middle;\n",
       "    }\n",
       "\n",
       "    .dataframe tbody tr th {\n",
       "        vertical-align: top;\n",
       "    }\n",
       "\n",
       "    .dataframe thead th {\n",
       "        text-align: right;\n",
       "    }\n",
       "</style>\n",
       "<table border=\"1\" class=\"dataframe\">\n",
       "  <thead>\n",
       "    <tr style=\"text-align: right;\">\n",
       "      <th></th>\n",
       "      <th>count</th>\n",
       "      <th>sum</th>\n",
       "    </tr>\n",
       "    <tr>\n",
       "      <th>Year</th>\n",
       "      <th></th>\n",
       "      <th></th>\n",
       "    </tr>\n",
       "  </thead>\n",
       "  <tbody>\n",
       "    <tr>\n",
       "      <th>2015</th>\n",
       "      <td>255</td>\n",
       "      <td>818983</td>\n",
       "    </tr>\n",
       "    <tr>\n",
       "      <th>2016</th>\n",
       "      <td>870</td>\n",
       "      <td>3197636</td>\n",
       "    </tr>\n",
       "    <tr>\n",
       "      <th>2017</th>\n",
       "      <td>505</td>\n",
       "      <td>2034136</td>\n",
       "    </tr>\n",
       "    <tr>\n",
       "      <th>2018</th>\n",
       "      <td>454</td>\n",
       "      <td>2188335</td>\n",
       "    </tr>\n",
       "    <tr>\n",
       "      <th>2019</th>\n",
       "      <td>805</td>\n",
       "      <td>3435002</td>\n",
       "    </tr>\n",
       "    <tr>\n",
       "      <th>2020</th>\n",
       "      <td>236</td>\n",
       "      <td>1135420</td>\n",
       "    </tr>\n",
       "  </tbody>\n",
       "</table>\n",
       "</div>"
      ],
      "text/plain": [
       "      count      sum\n",
       "Year                \n",
       "2015    255   818983\n",
       "2016    870  3197636\n",
       "2017    505  2034136\n",
       "2018    454  2188335\n",
       "2019    805  3435002\n",
       "2020    236  1135420"
      ]
     },
     "execution_count": 108,
     "metadata": {},
     "output_type": "execute_result"
    }
   ],
   "source": [
    "most_bribe_year"
   ]
  },
  {
   "cell_type": "code",
   "execution_count": 111,
   "id": "49af1bc6",
   "metadata": {},
   "outputs": [
    {
     "data": {
      "text/plain": [
       "<AxesSubplot: xlabel='Day', ylabel='sum'>"
      ]
     },
     "execution_count": 111,
     "metadata": {},
     "output_type": "execute_result"
    },
    {
     "data": {
      "image/png": "[encoded data removed]",
      "text/plain": [
       "<Figure size 1600x1000 with 1 Axes>"
      ]
     },
     "metadata": {},
     "output_type": "display_data"
    }
   ],
   "source": [
    "plt.figure(figsize=(16,10))\n",
    "sns.barplot(x=most_bribe_day.index,y=most_bribe_day['sum'])"
   ]
  },
  {
   "cell_type": "code",
   "execution_count": 114,
   "id": "3cfecb20",
   "metadata": {},
   "outputs": [
    {
     "data": {
      "text/plain": [
       "<AxesSubplot: xlabel='Year', ylabel='sum'>"
      ]
     },
     "execution_count": 114,
     "metadata": {},
     "output_type": "execute_result"
    },
    {
     "data": {
      "image/png": "[encoded data removed]",
      "text/plain": [
       "<Figure size 1000x600 with 1 Axes>"
      ]
     },
     "metadata": {},
     "output_type": "display_data"
    }
   ],
   "source": [
    "sns.barplot(x=most_bribe_year.index,y=most_bribe_year['sum'])"
   ]
  },
  {
   "cell_type": "code",
   "execution_count": 115,
   "id": "7c1042a1",
   "metadata": {},
   "outputs": [
    {
     "data": {
      "text/plain": [
       "<AxesSubplot: xlabel='DayOfWeek', ylabel='sum'>"
      ]
     },
     "execution_count": 115,
     "metadata": {},
     "output_type": "execute_result"
    },
    {
     "data": {
      "image/png": "[encoded data removed]",
      "text/plain": [
       "<Figure size 1000x600 with 1 Axes>"
      ]
     },
     "metadata": {},
     "output_type": "display_data"
    }
   ],
   "source": [
    "sns.barplot(x=most_bribe_dayofweek.index,y=most_bribe_dayofweek['sum'])"
   ]
  },
  {
   "cell_type": "code",
   "execution_count": null,
   "id": "64d87a88",
   "metadata": {},
   "outputs": [],
   "source": []
  }
 ],
 "metadata": {
  "kernelspec": {
   "display_name": "Python 3 (ipykernel)",
   "language": "python",
   "name": "python3"
  },
  "language_info": {
   "codemirror_mode": {
    "name": "ipython",
    "version": 3
   },
   "file_extension": ".py",
   "mimetype": "text/x-python",
   "name": "python",
   "nbconvert_exporter": "python",
   "pygments_lexer": "ipython3",
   "version": "3.10.9"
  }
 },
 "nbformat": 4,
 "nbformat_minor": 5
}
