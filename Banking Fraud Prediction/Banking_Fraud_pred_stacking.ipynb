{
 "cells": [
  {
   "cell_type": "code",
   "execution_count": null,
   "metadata": {},
   "outputs": [],
   "source": [
    "# Problem Statement:\n",
    "#Your job is to build this fraud detection & prevention predictive model in the first step. \n",
    "#The challenging part of the problem is that the data contains very few fraud instances in comparison\n",
    "#to the overall population. To give more edge to the solution they have also collected data\n",
    "#regarding location [geo_scores] of the transactions, their own proprietary index [Lambda_wts], \n",
    "#on network turn around times [Qset_tats] and vulnerability qualification score [instance_scores]. \n",
    "#Training data contains masked variables pertaining to each transaction id . \n",
    "#Your prediction target here is 'Target' \n",
    "# 1: Fraudulent transactions\n",
    "# 0: Clean transactions"
   ]
  },
  {
   "cell_type": "code",
   "execution_count": 1,
   "metadata": {
    "id": "UtAO6g5zz_Y0"
   },
   "outputs": [],
   "source": [
    "# Import required libraries\n",
    "import numpy as np\n",
    "import pandas as pd\n",
    "import matplotlib.pyplot as plt\n",
    "%matplotlib inline\n",
    "import seaborn as sns\n",
    "sns.set()\n",
    "import warnings\n",
    "warnings.filterwarnings('ignore')\n",
    "import sklearn"
   ]
  },
  {
   "cell_type": "code",
   "execution_count": 2,
   "metadata": {
    "id": "WQdyCjft1fUg"
   },
   "outputs": [],
   "source": [
    "# geo=pd.read_csv('/content/Geo_scores.csv')\n",
    "# instance=pd.read_csv('/content/instance_scores.csv')\n",
    "# lambda_wts=pd.read_csv('/content/Lambda_wts.csv')\n",
    "# qset=pd.read_csv('/content/Qset_tats.csv')\n",
    "# test=pd.read_csv('/content/test_share.csv')\n",
    "# train=pd.read_csv('/content/train.csv')\n",
    "\n",
    "geo=pd.read_csv('Geo_scores.csv')\n",
    "instance=pd.read_csv('instance_scores.csv')\n",
    "lambda_wts=pd.read_csv('Lambda_wts.csv')\n",
    "qset=pd.read_csv('Qset_tats.csv')\n",
    "test=pd.read_csv('test_share.csv')\n",
    "train=pd.read_csv('train.csv')\n"
   ]
  },
  {
   "cell_type": "code",
   "execution_count": 3,
   "metadata": {
    "colab": {
     "base_uri": "https://localhost:8080/"
    },
    "id": "ONv2Ap-a4OeG",
    "outputId": "b4368d14-bd78-4c0f-c7ab-c5dfbda7d436"
   },
   "outputs": [
    {
     "name": "stdout",
     "output_type": "stream",
     "text": [
      "       id  geo_score\n",
      "0   26674       4.48\n",
      "1  204314       4.48\n",
      "**************************************\n",
      "       id  instance_scores\n",
      "0  173444            -0.88\n",
      "1  259378             1.50\n",
      "**************************************\n",
      "    Group  lambda_wt\n",
      "0  Grp936       3.41\n",
      "1  Grp347      -2.88\n",
      "**************************************\n",
      "       id  qsets_normalized_tat\n",
      "0    9983                  2.41\n",
      "1  266000                  3.10\n",
      "**************************************\n",
      "       id   Group      Per1      Per2  Per3      Per4  Per5      Per6  Per7  \\\n",
      "0  146574  Grp229 -0.300000  1.540000  0.22 -0.280000  0.57  0.260000  0.70   \n",
      "1  268759  Grp141  0.633333  0.953333  0.81  0.466667  0.91  0.253333  1.04   \n",
      "\n",
      "       Per8  ...      Dem7      Dem8      Dem9     Cred1     Cred2     Cred3  \\\n",
      "0  1.076667  ...  0.786667  0.546667  0.313333  0.703333  0.813333  0.776667   \n",
      "1  0.550000  ...  0.636667  0.770000  0.993333  0.536667  0.703333  0.806667   \n",
      "\n",
      "      Cred4     Cred5     Cred6  Normalised_FNT  \n",
      "0  0.796667  0.823333  0.783333       -249.7500  \n",
      "1  0.630000  0.673333  0.673333       -249.8125  \n",
      "\n",
      "[2 rows x 27 columns]\n",
      "**************************************\n",
      "       id   Group      Per1      Per2      Per3      Per4      Per5      Per6  \\\n",
      "0  112751  Grp169  1.070000  0.580000  0.480000  0.766667  1.233333  1.993333   \n",
      "1   18495  Grp161  0.473333  1.206667  0.883333  1.430000  0.726667  0.626667   \n",
      "\n",
      "   Per7      Per8  ...      Dem8      Dem9     Cred1  Cred2     Cred3  \\\n",
      "0  0.34  1.010000  ...  0.680000  0.726667  0.606667   1.01  0.933333   \n",
      "1  0.81  0.783333  ...  0.716667  0.743333  0.680000   0.69  0.560000   \n",
      "\n",
      "      Cred4     Cred5     Cred6  Normalised_FNT  Target  \n",
      "0  0.603333  0.686667  0.673333         -245.75       0  \n",
      "1  0.670000  0.553333  0.653333         -248.00       0  \n",
      "\n",
      "[2 rows x 28 columns]\n",
      "**************************************\n"
     ]
    }
   ],
   "source": [
    "print(geo.head(2))\n",
    "print('**************************************')\n",
    "print(instance.head(2))\n",
    "print('**************************************')\n",
    "print(lambda_wts.head(2))\n",
    "print('**************************************')\n",
    "print(qset.head(2))\n",
    "print('**************************************')\n",
    "print(test.head(2))\n",
    "print('**************************************')\n",
    "print(train.head(2))\n",
    "print('**************************************')"
   ]
  },
  {
   "cell_type": "code",
   "execution_count": 4,
   "metadata": {
    "colab": {
     "base_uri": "https://localhost:8080/"
    },
    "id": "-NWZ6Nfk4bO2",
    "outputId": "6837c94d-74fc-4c9c-c28c-31c0b9c56f56"
   },
   "outputs": [
    {
     "name": "stdout",
     "output_type": "stream",
     "text": [
      "id               0\n",
      "geo_score    71543\n",
      "dtype: int64\n",
      "**************************************\n",
      "id                 0\n",
      "instance_scores    0\n",
      "dtype: int64\n",
      "**************************************\n",
      "Group        0\n",
      "lambda_wt    0\n",
      "dtype: int64\n",
      "**************************************\n",
      "id                           0\n",
      "qsets_normalized_tat    103201\n",
      "dtype: int64\n",
      "**************************************\n",
      "id                0\n",
      "Group             0\n",
      "Per1              0\n",
      "Per2              0\n",
      "Per3              0\n",
      "Per4              0\n",
      "Per5              0\n",
      "Per6              0\n",
      "Per7              0\n",
      "Per8              0\n",
      "Per9              0\n",
      "Dem1              0\n",
      "Dem2              0\n",
      "Dem3              0\n",
      "Dem4              0\n",
      "Dem5              0\n",
      "Dem6              0\n",
      "Dem7              0\n",
      "Dem8              0\n",
      "Dem9              0\n",
      "Cred1             0\n",
      "Cred2             0\n",
      "Cred3             0\n",
      "Cred4             0\n",
      "Cred5             0\n",
      "Cred6             0\n",
      "Normalised_FNT    0\n",
      "dtype: int64\n",
      "**************************************\n",
      "id                0\n",
      "Group             0\n",
      "Per1              0\n",
      "Per2              0\n",
      "Per3              0\n",
      "Per4              0\n",
      "Per5              0\n",
      "Per6              0\n",
      "Per7              0\n",
      "Per8              0\n",
      "Per9              0\n",
      "Dem1              0\n",
      "Dem2              0\n",
      "Dem3              0\n",
      "Dem4              0\n",
      "Dem5              0\n",
      "Dem6              0\n",
      "Dem7              0\n",
      "Dem8              0\n",
      "Dem9              0\n",
      "Cred1             0\n",
      "Cred2             0\n",
      "Cred3             0\n",
      "Cred4             0\n",
      "Cred5             0\n",
      "Cred6             0\n",
      "Normalised_FNT    0\n",
      "Target            0\n",
      "dtype: int64\n",
      "**************************************\n"
     ]
    }
   ],
   "source": [
    "print(geo.isnull().sum())\n",
    "print('**************************************')\n",
    "print(instance.isnull().sum())\n",
    "print('**************************************')\n",
    "print(lambda_wts.isnull().sum())\n",
    "print('**************************************')\n",
    "print(qset.isnull().sum())\n",
    "print('**************************************')\n",
    "print(test.isnull().sum())\n",
    "print('**************************************')\n",
    "print(train.isnull().sum())\n",
    "print('**************************************')\n",
    "\n",
    "# we have missing data ingeo and qset "
   ]
  },
  {
   "cell_type": "code",
   "execution_count": 5,
   "metadata": {
    "colab": {
     "base_uri": "https://localhost:8080/"
    },
    "id": "d3rPjOiL5bAV",
    "outputId": "5b0cbbc7-5d44-4e9b-f5bf-2cc2c3ebfaae"
   },
   "outputs": [
    {
     "name": "stdout",
     "output_type": "stream",
     "text": [
      "id           0.000000\n",
      "geo_score    5.023964\n",
      "dtype: float64\n",
      "**************************************\n",
      "id                      0.000000\n",
      "qsets_normalized_tat    7.247083\n",
      "dtype: float64\n"
     ]
    }
   ],
   "source": [
    "print(geo.isnull().sum()/len(geo)*100)\n",
    "print('**************************************')\n",
    "print(qset.isnull().sum()/len(qset)*100)\n",
    "# only 5 % data missing in geo \n",
    "#7% data missing in qset \n",
    "# so we will handle it"
   ]
  },
  {
   "cell_type": "code",
   "execution_count": 6,
   "metadata": {
    "colab": {
     "base_uri": "https://localhost:8080/"
    },
    "id": "vpCab7BZ5ssb",
    "outputId": "6ec872eb-15c8-49c9-8ea3-f0c1afac324d"
   },
   "outputs": [
    {
     "name": "stdout",
     "output_type": "stream",
     "text": [
      "(1424035, 2)\n",
      "**************************************\n",
      "(1424035, 2)\n",
      "**************************************\n",
      "(1400, 2)\n",
      "**************************************\n",
      "(1424035, 2)\n",
      "**************************************\n",
      "(56962, 27)\n",
      "**************************************\n",
      "(227845, 28)\n",
      "**************************************\n"
     ]
    }
   ],
   "source": [
    "print(geo.shape)\n",
    "print('**************************************')\n",
    "print(instance.shape)\n",
    "print('**************************************')\n",
    "print(lambda_wts.shape)\n",
    "print('**************************************')\n",
    "print(qset.shape)\n",
    "print('**************************************')\n",
    "print(test.shape)\n",
    "print('**************************************')\n",
    "print(train.shape)\n",
    "print('**************************************')"
   ]
  },
  {
   "cell_type": "code",
   "execution_count": 7,
   "metadata": {
    "colab": {
     "base_uri": "https://localhost:8080/"
    },
    "id": "9RyfGeFP7Tnc",
    "outputId": "68e7f890-9f53-40db-99c3-22daeb447508"
   },
   "outputs": [
    {
     "name": "stdout",
     "output_type": "stream",
     "text": [
      "284807\n",
      "**************************************\n",
      "284807\n",
      "**************************************\n",
      "1400\n",
      "**************************************\n",
      "284807\n",
      "**************************************\n",
      "56962\n",
      "915\n",
      "**************************************\n",
      "227845\n",
      "1301\n",
      "**************************************\n"
     ]
    }
   ],
   "source": [
    "print(geo['id'].nunique())\n",
    "print('**************************************')\n",
    "print(instance['id'].nunique())\n",
    "print('**************************************')\n",
    "print(lambda_wts['Group'].nunique())\n",
    "print('**************************************')\n",
    "print(qset['id'].nunique())\n",
    "print('**************************************')\n",
    "print(test['id'].nunique())\n",
    "print(test['Group'].nunique())\n",
    "print('**************************************')\n",
    "print(train['id'].nunique())\n",
    "print(train['Group'].nunique())\n",
    "print('**************************************')"
   ]
  },
  {
   "cell_type": "code",
   "execution_count": 8,
   "metadata": {
    "id": "Z9ORtEYa8CSk"
   },
   "outputs": [],
   "source": [
    " #227845+56962==284807:: exact ID's\n",
    " # 1301+915-- groups is not matching 1400 groups that means we have commen groups  in both train and test"
   ]
  },
  {
   "cell_type": "code",
   "execution_count": 9,
   "metadata": {
    "colab": {
     "base_uri": "https://localhost:8080/"
    },
    "id": "iP8UOLLI8TKr",
    "outputId": "98b31cdb-8d0d-454f-b03f-9f9464cca020"
   },
   "outputs": [
    {
     "name": "stdout",
     "output_type": "stream",
     "text": [
      "<class 'pandas.core.frame.DataFrame'>\n",
      "RangeIndex: 1424035 entries, 0 to 1424034\n",
      "Data columns (total 2 columns):\n",
      " #   Column     Non-Null Count    Dtype  \n",
      "---  ------     --------------    -----  \n",
      " 0   id         1424035 non-null  int64  \n",
      " 1   geo_score  1352492 non-null  float64\n",
      "dtypes: float64(1), int64(1)\n",
      "memory usage: 21.7 MB\n",
      "None\n",
      "**************************************\n",
      "<class 'pandas.core.frame.DataFrame'>\n",
      "RangeIndex: 1424035 entries, 0 to 1424034\n",
      "Data columns (total 2 columns):\n",
      " #   Column                Non-Null Count    Dtype  \n",
      "---  ------                --------------    -----  \n",
      " 0   id                    1424035 non-null  int64  \n",
      " 1   qsets_normalized_tat  1320834 non-null  float64\n",
      "dtypes: float64(1), int64(1)\n",
      "memory usage: 21.7 MB\n",
      "None\n"
     ]
    }
   ],
   "source": [
    "# First we wil handle missing values\n",
    "print(geo.info())\n",
    "print('**************************************')\n",
    "print(qset.info())\n",
    "\n",
    "# both have float values- so we shud go by mean/median"
   ]
  },
  {
   "cell_type": "code",
   "execution_count": 10,
   "metadata": {
    "colab": {
     "base_uri": "https://localhost:8080/"
    },
    "id": "E2JVqO-Q-hC3",
    "outputId": "13d027f9-9fe9-4908-f1c3-73971048e172"
   },
   "outputs": [
    {
     "name": "stdout",
     "output_type": "stream",
     "text": [
      "                 id     geo_score\n",
      "count  1.424035e+06  1.352492e+06\n",
      "mean   1.424030e+05 -9.279168e-06\n",
      "std    8.221673e+04  7.827199e+00\n",
      "min    0.000000e+00 -1.093900e+02\n",
      "25%    7.120100e+04 -5.860000e+00\n",
      "50%    1.424030e+05  1.800000e-01\n",
      "75%    2.136050e+05  5.860000e+00\n",
      "max    2.848060e+05  4.581000e+01\n",
      "**************************************\n",
      "                 id  qsets_normalized_tat\n",
      "count  1.424035e+06          1.320834e+06\n",
      "mean   1.424030e+05          1.094006e-05\n",
      "std    8.221673e+04          7.731794e+00\n",
      "min    0.000000e+00         -1.404400e+02\n",
      "25%    7.120100e+04         -5.860000e+00\n",
      "50%    1.424030e+05          2.000000e-02\n",
      "75%    2.136050e+05          5.860000e+00\n",
      "max    2.848060e+05          6.110000e+01\n"
     ]
    }
   ],
   "source": [
    "print(geo.describe())\n",
    "print('**************************************')\n",
    "print(qset.describe())"
   ]
  },
  {
   "cell_type": "code",
   "execution_count": 11,
   "metadata": {
    "colab": {
     "base_uri": "https://localhost:8080/",
     "height": 423
    },
    "id": "Whc1yy5H-vsn",
    "outputId": "2fbd5ee0-c116-4e97-9b27-a851dc993a97"
   },
   "outputs": [
    {
     "data": {
      "text/plain": [
       "<Axes: ylabel='geo_score'>"
      ]
     },
     "execution_count": 11,
     "metadata": {},
     "output_type": "execute_result"
    },
    {
     "data": {
      "image/png": "[encoded data removed]",
      "text/plain": [
       "<Figure size 640x480 with 1 Axes>"
      ]
     },
     "metadata": {},
     "output_type": "display_data"
    }
   ],
   "source": [
    "sns.boxplot(y='geo_score',data=geo)"
   ]
  },
  {
   "cell_type": "code",
   "execution_count": 12,
   "metadata": {
    "colab": {
     "base_uri": "https://localhost:8080/",
     "height": 431
    },
    "id": "llHTxG5q-9W1",
    "outputId": "2c5d0819-d15d-4e3d-e2e3-c312c4ae3397"
   },
   "outputs": [
    {
     "data": {
      "text/plain": [
       "<Axes: ylabel='qsets_normalized_tat'>"
      ]
     },
     "execution_count": 12,
     "metadata": {},
     "output_type": "execute_result"
    },
    {
     "data": {
      "image/png": "[encoded data removed]",
      "text/plain": [
       "<Figure size 640x480 with 1 Axes>"
      ]
     },
     "metadata": {},
     "output_type": "display_data"
    }
   ],
   "source": [
    "sns.boxplot(y='qsets_normalized_tat',data=qset)\n",
    "# we have lots of outliers, we will go by median approach "
   ]
  },
  {
   "cell_type": "code",
   "execution_count": 13,
   "metadata": {
    "colab": {
     "base_uri": "https://localhost:8080/"
    },
    "id": "NpVE8pmW_DDx",
    "outputId": "488ffdb7-cdd6-4e18-e959-1706cd41d7ed"
   },
   "outputs": [
    {
     "data": {
      "text/plain": [
       "-9.279167640176816e-06"
      ]
     },
     "execution_count": 13,
     "metadata": {},
     "output_type": "execute_result"
    }
   ],
   "source": [
    "geo['geo_score'].mean()\n",
    "# its very less"
   ]
  },
  {
   "cell_type": "code",
   "execution_count": 14,
   "metadata": {
    "colab": {
     "base_uri": "https://localhost:8080/"
    },
    "id": "7kgSB39A_oTk",
    "outputId": "ab4c648e-91a0-4f35-b94c-5ddecce99783"
   },
   "outputs": [
    {
     "data": {
      "text/plain": [
       "0.18"
      ]
     },
     "execution_count": 14,
     "metadata": {},
     "output_type": "execute_result"
    }
   ],
   "source": [
    "geo['geo_score'].median()"
   ]
  },
  {
   "cell_type": "code",
   "execution_count": 15,
   "metadata": {
    "colab": {
     "base_uri": "https://localhost:8080/"
    },
    "id": "KN-y8sRZ_pPS",
    "outputId": "991560c8-af87-43ea-b93a-7cf51f867ac2"
   },
   "outputs": [
    {
     "data": {
      "text/plain": [
       "1.094005756968642e-05"
      ]
     },
     "execution_count": 15,
     "metadata": {},
     "output_type": "execute_result"
    }
   ],
   "source": [
    "qset['qsets_normalized_tat'].mean()"
   ]
  },
  {
   "cell_type": "code",
   "execution_count": 16,
   "metadata": {
    "colab": {
     "base_uri": "https://localhost:8080/"
    },
    "id": "qQUPyFeJ_ue7",
    "outputId": "922da213-9b62-4b7f-8b88-3e8cbafa6757"
   },
   "outputs": [
    {
     "data": {
      "text/plain": [
       "0.0199999999999997"
      ]
     },
     "execution_count": 16,
     "metadata": {},
     "output_type": "execute_result"
    }
   ],
   "source": [
    "qset['qsets_normalized_tat'].median()"
   ]
  },
  {
   "cell_type": "code",
   "execution_count": 17,
   "metadata": {
    "id": "X14ZjIMF_vhk"
   },
   "outputs": [],
   "source": [
    "# we will take median approach\n",
    "geo.fillna(0.18,inplace=True)\n",
    "qset.fillna(0.019,inplace=True)"
   ]
  },
  {
   "cell_type": "code",
   "execution_count": 18,
   "metadata": {
    "colab": {
     "base_uri": "https://localhost:8080/"
    },
    "id": "aRR5QjmgABLh",
    "outputId": "28bee595-0170-411b-dd85-b1eb057e48e6"
   },
   "outputs": [
    {
     "name": "stdout",
     "output_type": "stream",
     "text": [
      "id           0.0\n",
      "geo_score    0.0\n",
      "dtype: float64\n",
      "**************************************\n",
      "id                      0.0\n",
      "qsets_normalized_tat    0.0\n",
      "dtype: float64\n"
     ]
    }
   ],
   "source": [
    "print(geo.isnull().sum()/len(geo)*100)\n",
    "print('**************************************')\n",
    "print(qset.isnull().sum()/len(qset)*100)\n",
    "\n",
    "# now no missing data"
   ]
  },
  {
   "cell_type": "code",
   "execution_count": 19,
   "metadata": {
    "colab": {
     "base_uri": "https://localhost:8080/"
    },
    "id": "GwNXwfRQAEjG",
    "outputId": "d0ab7c8b-da08-4d02-a835-b9bc6bdda554"
   },
   "outputs": [
    {
     "name": "stdout",
     "output_type": "stream",
     "text": [
      "284807\n",
      "**************************************\n",
      "284807\n",
      "**************************************\n",
      "1400\n",
      "**************************************\n",
      "284807\n",
      "**************************************\n",
      "56962\n",
      "915\n",
      "**************************************\n",
      "227845\n",
      "1301\n",
      "**************************************\n"
     ]
    }
   ],
   "source": [
    "print(geo['id'].nunique())\n",
    "print('**************************************')\n",
    "print(instance['id'].nunique())\n",
    "print('**************************************')\n",
    "print(lambda_wts['Group'].nunique())\n",
    "print('**************************************')\n",
    "print(qset['id'].nunique())\n",
    "print('**************************************')\n",
    "print(test['id'].nunique())\n",
    "print(test['Group'].nunique())\n",
    "print('**************************************')\n",
    "print(train['id'].nunique())\n",
    "print(train['Group'].nunique())\n",
    "print('**************************************')"
   ]
  },
  {
   "cell_type": "code",
   "execution_count": 20,
   "metadata": {
    "colab": {
     "base_uri": "https://localhost:8080/"
    },
    "id": "0irMQST6Awpa",
    "outputId": "153a4794-8f9e-44f0-d2fb-72d5bd07a98e"
   },
   "outputs": [
    {
     "data": {
      "text/plain": [
       "(1424035, 2)"
      ]
     },
     "execution_count": 20,
     "metadata": {},
     "output_type": "execute_result"
    }
   ],
   "source": [
    "geo.shape  #- but unique customer id is only 284807\n",
    "# so we will do groupby\n",
    "#train.shape"
   ]
  },
  {
   "cell_type": "code",
   "execution_count": 21,
   "metadata": {
    "id": "AulFQIFdAY98"
   },
   "outputs": [],
   "source": [
    "geo=geo.groupby('id').mean()\n",
    "instance=instance.groupby('id').mean()\n",
    "qset=qset.groupby('id').mean()"
   ]
  },
  {
   "cell_type": "code",
   "execution_count": 22,
   "metadata": {
    "colab": {
     "base_uri": "https://localhost:8080/"
    },
    "id": "DO12FpkUEsyx",
    "outputId": "31d1d07a-ca26-45a5-d119-3d33d8139a51"
   },
   "outputs": [
    {
     "name": "stdout",
     "output_type": "stream",
     "text": [
      "(284807, 1)\n",
      "**************************************\n",
      "(284807, 1)\n",
      "**************************************\n",
      "(1400, 2)\n",
      "**************************************\n",
      "(284807, 1)\n",
      "**************************************\n",
      "(56962, 27)\n",
      "**************************************\n",
      "(227845, 28)\n",
      "**************************************\n"
     ]
    }
   ],
   "source": [
    "print(geo.shape)\n",
    "print('**************************************')\n",
    "print(instance.shape)\n",
    "print('**************************************')\n",
    "print(lambda_wts.shape)\n",
    "print('**************************************')\n",
    "print(qset.shape)\n",
    "print('**************************************')\n",
    "print(test.shape)\n",
    "print('**************************************')\n",
    "print(train.shape)\n",
    "print('**************************************')"
   ]
  },
  {
   "cell_type": "code",
   "execution_count": 23,
   "metadata": {
    "colab": {
     "base_uri": "https://localhost:8080/"
    },
    "id": "fzgIFuXUEyLo",
    "outputId": "e1b760ae-5648-4e92-e4da-a606501a0bc3"
   },
   "outputs": [
    {
     "name": "stdout",
     "output_type": "stream",
     "text": [
      "(227845, 28)\n"
     ]
    }
   ],
   "source": [
    "from pandas.core.arrays.sparse.array import printing\n",
    "# Merge the data\n",
    "print(train.shape)\n",
    "# we have 27 and 28 in train and test"
   ]
  },
  {
   "cell_type": "code",
   "execution_count": 24,
   "metadata": {
    "colab": {
     "base_uri": "https://localhost:8080/"
    },
    "id": "MHfhqG3bFNEB",
    "outputId": "93adae0d-a126-4dac-919d-129ef5bdf4c7"
   },
   "outputs": [
    {
     "name": "stdout",
     "output_type": "stream",
     "text": [
      "(227845, 29)\n",
      "(56962, 28)\n"
     ]
    }
   ],
   "source": [
    "# adding 1-1 column\n",
    "train['data']='train'\n",
    "test['data']='test'\n",
    "print(train.shape)\n",
    "print(test.shape)"
   ]
  },
  {
   "cell_type": "code",
   "execution_count": 25,
   "metadata": {
    "colab": {
     "base_uri": "https://localhost:8080/"
    },
    "id": "slzMv8zKE_CB",
    "outputId": "0a7325e8-257a-49db-db7e-f85140acf4cf"
   },
   "outputs": [
    {
     "name": "stdout",
     "output_type": "stream",
     "text": [
      "       id   Group  Per1  Per2  Per3      Per4      Per5      Per6  Per7  Per8  \\\n",
      "0  112751  Grp169  1.07  0.58  0.48  0.766667  1.233333  1.993333  0.34  1.01   \n",
      "\n",
      "   ...      Dem9     Cred1  Cred2     Cred3     Cred4     Cred5     Cred6  \\\n",
      "0  ...  0.726667  0.606667   1.01  0.933333  0.603333  0.686667  0.673333   \n",
      "\n",
      "   Normalised_FNT  Target   data  \n",
      "0         -245.75       0  train  \n",
      "\n",
      "[1 rows x 29 columns]\n",
      "**************************\n",
      "       id   Group  Per1  Per2  Per3  Per4  Per5  Per6  Per7      Per8  ...  \\\n",
      "0  146574  Grp229  -0.3  1.54  0.22 -0.28  0.57  0.26   0.7  1.076667  ...   \n",
      "\n",
      "       Dem8      Dem9     Cred1     Cred2     Cred3     Cred4     Cred5  \\\n",
      "0  0.546667  0.313333  0.703333  0.813333  0.776667  0.796667  0.823333   \n",
      "\n",
      "      Cred6  Normalised_FNT  data  \n",
      "0  0.783333         -249.75  test  \n",
      "\n",
      "[1 rows x 28 columns]\n"
     ]
    }
   ],
   "source": [
    "print(train.head(1))\n",
    "print('**************************')\n",
    "print(test.head(1))"
   ]
  },
  {
   "cell_type": "code",
   "execution_count": 26,
   "metadata": {
    "colab": {
     "base_uri": "https://localhost:8080/"
    },
    "id": "Bw-Zq4kyFch5",
    "outputId": "a91dfdcf-11d4-4439-c3ed-48c574c160d9"
   },
   "outputs": [
    {
     "data": {
      "text/plain": [
       "(284807, 29)"
      ]
     },
     "execution_count": 26,
     "metadata": {},
     "output_type": "execute_result"
    }
   ],
   "source": [
    "# we will concatenate both train and test \n",
    "# we will know from data column which is test and train\n",
    "all_data=pd.concat([train,test],axis=0)\n",
    "all_data.shape\n",
    "# now we are getting 284807"
   ]
  },
  {
   "cell_type": "code",
   "execution_count": 27,
   "metadata": {
    "colab": {
     "base_uri": "https://localhost:8080/"
    },
    "id": "MuGRAuZwFvRI",
    "outputId": "ce6d21a4-ff3f-4d93-8d24-7889d5117287"
   },
   "outputs": [
    {
     "data": {
      "text/plain": [
       "284807"
      ]
     },
     "execution_count": 27,
     "metadata": {},
     "output_type": "execute_result"
    }
   ],
   "source": [
    "all_data['id'].nunique()\n",
    "# we have all unique id's"
   ]
  },
  {
   "cell_type": "code",
   "execution_count": 28,
   "metadata": {
    "colab": {
     "base_uri": "https://localhost:8080/"
    },
    "id": "FH3hxJb2F1OZ",
    "outputId": "786ab526-b2b4-4073-897d-fb02c1c7941a"
   },
   "outputs": [
    {
     "name": "stdout",
     "output_type": "stream",
     "text": [
      "1400\n",
      "*******************************\n",
      "1400\n"
     ]
    }
   ],
   "source": [
    "print(lambda_wts['Group'].nunique())\n",
    "print('*******************************')\n",
    "print(all_data['Group'].nunique())\n",
    "# both are same"
   ]
  },
  {
   "cell_type": "code",
   "execution_count": 29,
   "metadata": {
    "colab": {
     "base_uri": "https://localhost:8080/"
    },
    "id": "y8RVjHgYOhPN",
    "outputId": "7aaeb302-08ef-41ee-9ce4-cc6b9bb5ecf4"
   },
   "outputs": [
    {
     "data": {
      "text/plain": [
       "(284807, 30)"
      ]
     },
     "execution_count": 29,
     "metadata": {},
     "output_type": "execute_result"
    }
   ],
   "source": [
    "#now we will append all thed data\n",
    "\n",
    "all_data=pd.merge(all_data,lambda_wts,on='Group',how='left')\n",
    "all_data.shape  # weight added"
   ]
  },
  {
   "cell_type": "code",
   "execution_count": 30,
   "metadata": {
    "colab": {
     "base_uri": "https://localhost:8080/",
     "height": 299
    },
    "id": "KCWVMfLLO-3B",
    "outputId": "370167dd-782c-4ea0-81ff-961ea36ce25c"
   },
   "outputs": [
    {
     "data": {
      "text/html": [
       "<div>\n",
       "<style scoped>\n",
       "    .dataframe tbody tr th:only-of-type {\n",
       "        vertical-align: middle;\n",
       "    }\n",
       "\n",
       "    .dataframe tbody tr th {\n",
       "        vertical-align: top;\n",
       "    }\n",
       "\n",
       "    .dataframe thead th {\n",
       "        text-align: right;\n",
       "    }\n",
       "</style>\n",
       "<table border=\"1\" class=\"dataframe\">\n",
       "  <thead>\n",
       "    <tr style=\"text-align: right;\">\n",
       "      <th></th>\n",
       "      <th>id</th>\n",
       "      <th>Group</th>\n",
       "      <th>Per1</th>\n",
       "      <th>Per2</th>\n",
       "      <th>Per3</th>\n",
       "      <th>Per4</th>\n",
       "      <th>Per5</th>\n",
       "      <th>Per6</th>\n",
       "      <th>Per7</th>\n",
       "      <th>Per8</th>\n",
       "      <th>...</th>\n",
       "      <th>Cred1</th>\n",
       "      <th>Cred2</th>\n",
       "      <th>Cred3</th>\n",
       "      <th>Cred4</th>\n",
       "      <th>Cred5</th>\n",
       "      <th>Cred6</th>\n",
       "      <th>Normalised_FNT</th>\n",
       "      <th>Target</th>\n",
       "      <th>data</th>\n",
       "      <th>lambda_wt</th>\n",
       "    </tr>\n",
       "  </thead>\n",
       "  <tbody>\n",
       "    <tr>\n",
       "      <th>0</th>\n",
       "      <td>112751</td>\n",
       "      <td>Grp169</td>\n",
       "      <td>1.070000</td>\n",
       "      <td>0.580000</td>\n",
       "      <td>0.480000</td>\n",
       "      <td>0.766667</td>\n",
       "      <td>1.233333</td>\n",
       "      <td>1.993333</td>\n",
       "      <td>0.340000</td>\n",
       "      <td>1.010000</td>\n",
       "      <td>...</td>\n",
       "      <td>0.606667</td>\n",
       "      <td>1.010000</td>\n",
       "      <td>0.933333</td>\n",
       "      <td>0.603333</td>\n",
       "      <td>0.686667</td>\n",
       "      <td>0.673333</td>\n",
       "      <td>-245.7500</td>\n",
       "      <td>0.0</td>\n",
       "      <td>train</td>\n",
       "      <td>-0.13</td>\n",
       "    </tr>\n",
       "    <tr>\n",
       "      <th>1</th>\n",
       "      <td>18495</td>\n",
       "      <td>Grp161</td>\n",
       "      <td>0.473333</td>\n",
       "      <td>1.206667</td>\n",
       "      <td>0.883333</td>\n",
       "      <td>1.430000</td>\n",
       "      <td>0.726667</td>\n",
       "      <td>0.626667</td>\n",
       "      <td>0.810000</td>\n",
       "      <td>0.783333</td>\n",
       "      <td>...</td>\n",
       "      <td>0.680000</td>\n",
       "      <td>0.690000</td>\n",
       "      <td>0.560000</td>\n",
       "      <td>0.670000</td>\n",
       "      <td>0.553333</td>\n",
       "      <td>0.653333</td>\n",
       "      <td>-248.0000</td>\n",
       "      <td>0.0</td>\n",
       "      <td>train</td>\n",
       "      <td>0.66</td>\n",
       "    </tr>\n",
       "    <tr>\n",
       "      <th>2</th>\n",
       "      <td>23915</td>\n",
       "      <td>Grp261</td>\n",
       "      <td>1.130000</td>\n",
       "      <td>0.143333</td>\n",
       "      <td>0.946667</td>\n",
       "      <td>0.123333</td>\n",
       "      <td>0.080000</td>\n",
       "      <td>0.836667</td>\n",
       "      <td>0.056667</td>\n",
       "      <td>0.756667</td>\n",
       "      <td>...</td>\n",
       "      <td>0.600000</td>\n",
       "      <td>0.383333</td>\n",
       "      <td>0.763333</td>\n",
       "      <td>0.670000</td>\n",
       "      <td>0.686667</td>\n",
       "      <td>0.673333</td>\n",
       "      <td>-233.1250</td>\n",
       "      <td>0.0</td>\n",
       "      <td>train</td>\n",
       "      <td>-0.51</td>\n",
       "    </tr>\n",
       "    <tr>\n",
       "      <th>3</th>\n",
       "      <td>50806</td>\n",
       "      <td>Grp198</td>\n",
       "      <td>0.636667</td>\n",
       "      <td>1.090000</td>\n",
       "      <td>0.750000</td>\n",
       "      <td>0.940000</td>\n",
       "      <td>0.743333</td>\n",
       "      <td>0.346667</td>\n",
       "      <td>0.956667</td>\n",
       "      <td>0.633333</td>\n",
       "      <td>...</td>\n",
       "      <td>0.680000</td>\n",
       "      <td>0.846667</td>\n",
       "      <td>0.423333</td>\n",
       "      <td>0.520000</td>\n",
       "      <td>0.846667</td>\n",
       "      <td>0.760000</td>\n",
       "      <td>-249.7775</td>\n",
       "      <td>0.0</td>\n",
       "      <td>train</td>\n",
       "      <td>0.72</td>\n",
       "    </tr>\n",
       "    <tr>\n",
       "      <th>4</th>\n",
       "      <td>184244</td>\n",
       "      <td>Grp228</td>\n",
       "      <td>0.560000</td>\n",
       "      <td>1.013333</td>\n",
       "      <td>0.593333</td>\n",
       "      <td>0.416667</td>\n",
       "      <td>0.773333</td>\n",
       "      <td>0.460000</td>\n",
       "      <td>0.853333</td>\n",
       "      <td>0.796667</td>\n",
       "      <td>...</td>\n",
       "      <td>0.693333</td>\n",
       "      <td>0.526667</td>\n",
       "      <td>0.520000</td>\n",
       "      <td>0.716667</td>\n",
       "      <td>0.706667</td>\n",
       "      <td>0.673333</td>\n",
       "      <td>-247.5775</td>\n",
       "      <td>0.0</td>\n",
       "      <td>train</td>\n",
       "      <td>0.60</td>\n",
       "    </tr>\n",
       "  </tbody>\n",
       "</table>\n",
       "<p>5 rows × 30 columns</p>\n",
       "</div>"
      ],
      "text/plain": [
       "       id   Group      Per1      Per2      Per3      Per4      Per5      Per6  \\\n",
       "0  112751  Grp169  1.070000  0.580000  0.480000  0.766667  1.233333  1.993333   \n",
       "1   18495  Grp161  0.473333  1.206667  0.883333  1.430000  0.726667  0.626667   \n",
       "2   23915  Grp261  1.130000  0.143333  0.946667  0.123333  0.080000  0.836667   \n",
       "3   50806  Grp198  0.636667  1.090000  0.750000  0.940000  0.743333  0.346667   \n",
       "4  184244  Grp228  0.560000  1.013333  0.593333  0.416667  0.773333  0.460000   \n",
       "\n",
       "       Per7      Per8  ...     Cred1     Cred2     Cred3     Cred4     Cred5  \\\n",
       "0  0.340000  1.010000  ...  0.606667  1.010000  0.933333  0.603333  0.686667   \n",
       "1  0.810000  0.783333  ...  0.680000  0.690000  0.560000  0.670000  0.553333   \n",
       "2  0.056667  0.756667  ...  0.600000  0.383333  0.763333  0.670000  0.686667   \n",
       "3  0.956667  0.633333  ...  0.680000  0.846667  0.423333  0.520000  0.846667   \n",
       "4  0.853333  0.796667  ...  0.693333  0.526667  0.520000  0.716667  0.706667   \n",
       "\n",
       "      Cred6  Normalised_FNT  Target   data  lambda_wt  \n",
       "0  0.673333       -245.7500     0.0  train      -0.13  \n",
       "1  0.653333       -248.0000     0.0  train       0.66  \n",
       "2  0.673333       -233.1250     0.0  train      -0.51  \n",
       "3  0.760000       -249.7775     0.0  train       0.72  \n",
       "4  0.673333       -247.5775     0.0  train       0.60  \n",
       "\n",
       "[5 rows x 30 columns]"
      ]
     },
     "execution_count": 30,
     "metadata": {},
     "output_type": "execute_result"
    }
   ],
   "source": [
    "all_data.head()"
   ]
  },
  {
   "cell_type": "code",
   "execution_count": 31,
   "metadata": {
    "colab": {
     "base_uri": "https://localhost:8080/"
    },
    "id": "fWJgBEFjPHv1",
    "outputId": "d2fa97df-540f-49fa-93f6-def11feb7e10"
   },
   "outputs": [
    {
     "data": {
      "text/plain": [
       "(284807, 31)"
      ]
     },
     "execution_count": 31,
     "metadata": {},
     "output_type": "execute_result"
    }
   ],
   "source": [
    "all_data=pd.merge(all_data,geo,on='id',how='left')\n",
    "all_data.shape"
   ]
  },
  {
   "cell_type": "code",
   "execution_count": 32,
   "metadata": {
    "id": "aO_dkQhxPY1b"
   },
   "outputs": [],
   "source": [
    "all_data=pd.merge(all_data,instance,on='id',how='left')"
   ]
  },
  {
   "cell_type": "code",
   "execution_count": 33,
   "metadata": {
    "colab": {
     "base_uri": "https://localhost:8080/"
    },
    "id": "p7aOjqtUPcXb",
    "outputId": "beacf14d-3eb3-4f21-a392-690adcef7b58"
   },
   "outputs": [
    {
     "data": {
      "text/plain": [
       "(284807, 32)"
      ]
     },
     "execution_count": 33,
     "metadata": {},
     "output_type": "execute_result"
    }
   ],
   "source": [
    "all_data.shape"
   ]
  },
  {
   "cell_type": "code",
   "execution_count": 34,
   "metadata": {
    "id": "RG2V6hvsPdIr"
   },
   "outputs": [],
   "source": [
    "all_data=pd.merge(all_data,qset,on='id',how='left')"
   ]
  },
  {
   "cell_type": "code",
   "execution_count": 35,
   "metadata": {
    "colab": {
     "base_uri": "https://localhost:8080/"
    },
    "id": "SDOiU3JRPh76",
    "outputId": "5f13ffcf-d2d7-4406-a972-22a6c6aa4242"
   },
   "outputs": [
    {
     "data": {
      "text/plain": [
       "(284807, 33)"
      ]
     },
     "execution_count": 35,
     "metadata": {},
     "output_type": "execute_result"
    }
   ],
   "source": [
    "all_data.shape"
   ]
  },
  {
   "cell_type": "code",
   "execution_count": 36,
   "metadata": {
    "colab": {
     "base_uri": "https://localhost:8080/",
     "height": 299
    },
    "id": "wuw9K8pGPitl",
    "outputId": "230b79b2-3fb8-445f-d1a3-80954c95cc3d"
   },
   "outputs": [
    {
     "data": {
      "text/html": [
       "<div>\n",
       "<style scoped>\n",
       "    .dataframe tbody tr th:only-of-type {\n",
       "        vertical-align: middle;\n",
       "    }\n",
       "\n",
       "    .dataframe tbody tr th {\n",
       "        vertical-align: top;\n",
       "    }\n",
       "\n",
       "    .dataframe thead th {\n",
       "        text-align: right;\n",
       "    }\n",
       "</style>\n",
       "<table border=\"1\" class=\"dataframe\">\n",
       "  <thead>\n",
       "    <tr style=\"text-align: right;\">\n",
       "      <th></th>\n",
       "      <th>id</th>\n",
       "      <th>Group</th>\n",
       "      <th>Per1</th>\n",
       "      <th>Per2</th>\n",
       "      <th>Per3</th>\n",
       "      <th>Per4</th>\n",
       "      <th>Per5</th>\n",
       "      <th>Per6</th>\n",
       "      <th>Per7</th>\n",
       "      <th>Per8</th>\n",
       "      <th>...</th>\n",
       "      <th>Cred4</th>\n",
       "      <th>Cred5</th>\n",
       "      <th>Cred6</th>\n",
       "      <th>Normalised_FNT</th>\n",
       "      <th>Target</th>\n",
       "      <th>data</th>\n",
       "      <th>lambda_wt</th>\n",
       "      <th>geo_score</th>\n",
       "      <th>instance_scores</th>\n",
       "      <th>qsets_normalized_tat</th>\n",
       "    </tr>\n",
       "  </thead>\n",
       "  <tbody>\n",
       "    <tr>\n",
       "      <th>0</th>\n",
       "      <td>112751</td>\n",
       "      <td>Grp169</td>\n",
       "      <td>1.070000</td>\n",
       "      <td>0.580000</td>\n",
       "      <td>0.480000</td>\n",
       "      <td>0.766667</td>\n",
       "      <td>1.233333</td>\n",
       "      <td>1.993333</td>\n",
       "      <td>0.340000</td>\n",
       "      <td>1.010000</td>\n",
       "      <td>...</td>\n",
       "      <td>0.603333</td>\n",
       "      <td>0.686667</td>\n",
       "      <td>0.673333</td>\n",
       "      <td>-245.7500</td>\n",
       "      <td>0.0</td>\n",
       "      <td>train</td>\n",
       "      <td>-0.13</td>\n",
       "      <td>0.256</td>\n",
       "      <td>-0.06</td>\n",
       "      <td>-0.7000</td>\n",
       "    </tr>\n",
       "    <tr>\n",
       "      <th>1</th>\n",
       "      <td>18495</td>\n",
       "      <td>Grp161</td>\n",
       "      <td>0.473333</td>\n",
       "      <td>1.206667</td>\n",
       "      <td>0.883333</td>\n",
       "      <td>1.430000</td>\n",
       "      <td>0.726667</td>\n",
       "      <td>0.626667</td>\n",
       "      <td>0.810000</td>\n",
       "      <td>0.783333</td>\n",
       "      <td>...</td>\n",
       "      <td>0.670000</td>\n",
       "      <td>0.553333</td>\n",
       "      <td>0.653333</td>\n",
       "      <td>-248.0000</td>\n",
       "      <td>0.0</td>\n",
       "      <td>train</td>\n",
       "      <td>0.66</td>\n",
       "      <td>-0.250</td>\n",
       "      <td>0.52</td>\n",
       "      <td>0.1400</td>\n",
       "    </tr>\n",
       "    <tr>\n",
       "      <th>2</th>\n",
       "      <td>23915</td>\n",
       "      <td>Grp261</td>\n",
       "      <td>1.130000</td>\n",
       "      <td>0.143333</td>\n",
       "      <td>0.946667</td>\n",
       "      <td>0.123333</td>\n",
       "      <td>0.080000</td>\n",
       "      <td>0.836667</td>\n",
       "      <td>0.056667</td>\n",
       "      <td>0.756667</td>\n",
       "      <td>...</td>\n",
       "      <td>0.670000</td>\n",
       "      <td>0.686667</td>\n",
       "      <td>0.673333</td>\n",
       "      <td>-233.1250</td>\n",
       "      <td>0.0</td>\n",
       "      <td>train</td>\n",
       "      <td>-0.51</td>\n",
       "      <td>-0.950</td>\n",
       "      <td>1.56</td>\n",
       "      <td>-0.4300</td>\n",
       "    </tr>\n",
       "    <tr>\n",
       "      <th>3</th>\n",
       "      <td>50806</td>\n",
       "      <td>Grp198</td>\n",
       "      <td>0.636667</td>\n",
       "      <td>1.090000</td>\n",
       "      <td>0.750000</td>\n",
       "      <td>0.940000</td>\n",
       "      <td>0.743333</td>\n",
       "      <td>0.346667</td>\n",
       "      <td>0.956667</td>\n",
       "      <td>0.633333</td>\n",
       "      <td>...</td>\n",
       "      <td>0.520000</td>\n",
       "      <td>0.846667</td>\n",
       "      <td>0.760000</td>\n",
       "      <td>-249.7775</td>\n",
       "      <td>0.0</td>\n",
       "      <td>train</td>\n",
       "      <td>0.72</td>\n",
       "      <td>0.490</td>\n",
       "      <td>0.70</td>\n",
       "      <td>-0.3024</td>\n",
       "    </tr>\n",
       "    <tr>\n",
       "      <th>4</th>\n",
       "      <td>184244</td>\n",
       "      <td>Grp228</td>\n",
       "      <td>0.560000</td>\n",
       "      <td>1.013333</td>\n",
       "      <td>0.593333</td>\n",
       "      <td>0.416667</td>\n",
       "      <td>0.773333</td>\n",
       "      <td>0.460000</td>\n",
       "      <td>0.853333</td>\n",
       "      <td>0.796667</td>\n",
       "      <td>...</td>\n",
       "      <td>0.716667</td>\n",
       "      <td>0.706667</td>\n",
       "      <td>0.673333</td>\n",
       "      <td>-247.5775</td>\n",
       "      <td>0.0</td>\n",
       "      <td>train</td>\n",
       "      <td>0.60</td>\n",
       "      <td>0.850</td>\n",
       "      <td>-0.47</td>\n",
       "      <td>-0.6300</td>\n",
       "    </tr>\n",
       "  </tbody>\n",
       "</table>\n",
       "<p>5 rows × 33 columns</p>\n",
       "</div>"
      ],
      "text/plain": [
       "       id   Group      Per1      Per2      Per3      Per4      Per5      Per6  \\\n",
       "0  112751  Grp169  1.070000  0.580000  0.480000  0.766667  1.233333  1.993333   \n",
       "1   18495  Grp161  0.473333  1.206667  0.883333  1.430000  0.726667  0.626667   \n",
       "2   23915  Grp261  1.130000  0.143333  0.946667  0.123333  0.080000  0.836667   \n",
       "3   50806  Grp198  0.636667  1.090000  0.750000  0.940000  0.743333  0.346667   \n",
       "4  184244  Grp228  0.560000  1.013333  0.593333  0.416667  0.773333  0.460000   \n",
       "\n",
       "       Per7      Per8  ...     Cred4     Cred5     Cred6  Normalised_FNT  \\\n",
       "0  0.340000  1.010000  ...  0.603333  0.686667  0.673333       -245.7500   \n",
       "1  0.810000  0.783333  ...  0.670000  0.553333  0.653333       -248.0000   \n",
       "2  0.056667  0.756667  ...  0.670000  0.686667  0.673333       -233.1250   \n",
       "3  0.956667  0.633333  ...  0.520000  0.846667  0.760000       -249.7775   \n",
       "4  0.853333  0.796667  ...  0.716667  0.706667  0.673333       -247.5775   \n",
       "\n",
       "   Target   data  lambda_wt  geo_score  instance_scores  qsets_normalized_tat  \n",
       "0     0.0  train      -0.13      0.256            -0.06               -0.7000  \n",
       "1     0.0  train       0.66     -0.250             0.52                0.1400  \n",
       "2     0.0  train      -0.51     -0.950             1.56               -0.4300  \n",
       "3     0.0  train       0.72      0.490             0.70               -0.3024  \n",
       "4     0.0  train       0.60      0.850            -0.47               -0.6300  \n",
       "\n",
       "[5 rows x 33 columns]"
      ]
     },
     "execution_count": 36,
     "metadata": {},
     "output_type": "execute_result"
    }
   ],
   "source": [
    "# after appending all data\n",
    "all_data.head()"
   ]
  },
  {
   "cell_type": "code",
   "execution_count": 37,
   "metadata": {
    "id": "uOQPY9NuPnEu"
   },
   "outputs": [],
   "source": [
    "# Split train and test separately\n",
    "train=all_data[all_data['data']=='train']\n",
    "test=all_data[all_data['data']=='test']"
   ]
  },
  {
   "cell_type": "code",
   "execution_count": 38,
   "metadata": {
    "colab": {
     "base_uri": "https://localhost:8080/"
    },
    "id": "0nMpqrzJP4Y4",
    "outputId": "efc7f225-4467-4146-c532-2de3d6b39e14"
   },
   "outputs": [
    {
     "data": {
      "text/plain": [
       "((227845, 33), (56962, 33))"
      ]
     },
     "execution_count": 38,
     "metadata": {},
     "output_type": "execute_result"
    }
   ],
   "source": [
    "train.shape,test.shape  # same as earlier"
   ]
  },
  {
   "cell_type": "code",
   "execution_count": 39,
   "metadata": {
    "colab": {
     "base_uri": "https://localhost:8080/"
    },
    "id": "19noi-F9P6qh",
    "outputId": "d07574f5-5792-4e76-c02d-60246f5a48bf"
   },
   "outputs": [
    {
     "data": {
      "text/plain": [
       "id                          0\n",
       "Group                       0\n",
       "Per1                        0\n",
       "Per2                        0\n",
       "Per3                        0\n",
       "Per4                        0\n",
       "Per5                        0\n",
       "Per6                        0\n",
       "Per7                        0\n",
       "Per8                        0\n",
       "Per9                        0\n",
       "Dem1                        0\n",
       "Dem2                        0\n",
       "Dem3                        0\n",
       "Dem4                        0\n",
       "Dem5                        0\n",
       "Dem6                        0\n",
       "Dem7                        0\n",
       "Dem8                        0\n",
       "Dem9                        0\n",
       "Cred1                       0\n",
       "Cred2                       0\n",
       "Cred3                       0\n",
       "Cred4                       0\n",
       "Cred5                       0\n",
       "Cred6                       0\n",
       "Normalised_FNT              0\n",
       "Target                  56962\n",
       "data                        0\n",
       "lambda_wt                   0\n",
       "geo_score                   0\n",
       "instance_scores             0\n",
       "qsets_normalized_tat        0\n",
       "dtype: int64"
      ]
     },
     "execution_count": 39,
     "metadata": {},
     "output_type": "execute_result"
    }
   ],
   "source": [
    "test.isnull().sum()   # as target is null and we have appended it"
   ]
  },
  {
   "cell_type": "code",
   "execution_count": 40,
   "metadata": {
    "colab": {
     "base_uri": "https://localhost:8080/"
    },
    "id": "8AOYXivMQBuJ",
    "outputId": "6f56f52b-0b36-41b5-93e9-8c19fb63ce19"
   },
   "outputs": [
    {
     "data": {
      "text/plain": [
       "Index(['id', 'Group', 'Per1', 'Per2', 'Per3', 'Per4', 'Per5', 'Per6', 'Per7',\n",
       "       'Per8', 'Per9', 'Dem1', 'Dem2', 'Dem3', 'Dem4', 'Dem5', 'Dem6', 'Dem7',\n",
       "       'Dem8', 'Dem9', 'Cred1', 'Cred2', 'Cred3', 'Cred4', 'Cred5', 'Cred6',\n",
       "       'Normalised_FNT', 'Target', 'data', 'lambda_wt', 'geo_score',\n",
       "       'instance_scores', 'qsets_normalized_tat'],\n",
       "      dtype='object')"
      ]
     },
     "execution_count": 40,
     "metadata": {},
     "output_type": "execute_result"
    }
   ],
   "source": [
    "# splitting into X and Y\n",
    "train.columns"
   ]
  },
  {
   "cell_type": "code",
   "execution_count": 41,
   "metadata": {
    "id": "MtDoIjnPQMjA"
   },
   "outputs": [],
   "source": [
    "x1=train.drop(['id','Group','Target','data'],axis=1)\n",
    "y1=train['Target']\n"
   ]
  },
  {
   "cell_type": "code",
   "execution_count": 42,
   "metadata": {
    "colab": {
     "base_uri": "https://localhost:8080/",
     "height": 299
    },
    "id": "cdcsavblQa9v",
    "outputId": "a9bb24b4-dd9a-4b98-afe1-1b53532fd78e"
   },
   "outputs": [
    {
     "data": {
      "text/html": [
       "<div>\n",
       "<style scoped>\n",
       "    .dataframe tbody tr th:only-of-type {\n",
       "        vertical-align: middle;\n",
       "    }\n",
       "\n",
       "    .dataframe tbody tr th {\n",
       "        vertical-align: top;\n",
       "    }\n",
       "\n",
       "    .dataframe thead th {\n",
       "        text-align: right;\n",
       "    }\n",
       "</style>\n",
       "<table border=\"1\" class=\"dataframe\">\n",
       "  <thead>\n",
       "    <tr style=\"text-align: right;\">\n",
       "      <th></th>\n",
       "      <th>Per1</th>\n",
       "      <th>Per2</th>\n",
       "      <th>Per3</th>\n",
       "      <th>Per4</th>\n",
       "      <th>Per5</th>\n",
       "      <th>Per6</th>\n",
       "      <th>Per7</th>\n",
       "      <th>Per8</th>\n",
       "      <th>Per9</th>\n",
       "      <th>Dem1</th>\n",
       "      <th>...</th>\n",
       "      <th>Cred2</th>\n",
       "      <th>Cred3</th>\n",
       "      <th>Cred4</th>\n",
       "      <th>Cred5</th>\n",
       "      <th>Cred6</th>\n",
       "      <th>Normalised_FNT</th>\n",
       "      <th>lambda_wt</th>\n",
       "      <th>geo_score</th>\n",
       "      <th>instance_scores</th>\n",
       "      <th>qsets_normalized_tat</th>\n",
       "    </tr>\n",
       "  </thead>\n",
       "  <tbody>\n",
       "    <tr>\n",
       "      <th>0</th>\n",
       "      <td>1.070000</td>\n",
       "      <td>0.580000</td>\n",
       "      <td>0.480000</td>\n",
       "      <td>0.766667</td>\n",
       "      <td>1.233333</td>\n",
       "      <td>1.993333</td>\n",
       "      <td>0.340000</td>\n",
       "      <td>1.010000</td>\n",
       "      <td>0.863333</td>\n",
       "      <td>0.460000</td>\n",
       "      <td>...</td>\n",
       "      <td>1.010000</td>\n",
       "      <td>0.933333</td>\n",
       "      <td>0.603333</td>\n",
       "      <td>0.686667</td>\n",
       "      <td>0.673333</td>\n",
       "      <td>-245.7500</td>\n",
       "      <td>-0.13</td>\n",
       "      <td>0.256</td>\n",
       "      <td>-0.06</td>\n",
       "      <td>-0.7000</td>\n",
       "    </tr>\n",
       "    <tr>\n",
       "      <th>1</th>\n",
       "      <td>0.473333</td>\n",
       "      <td>1.206667</td>\n",
       "      <td>0.883333</td>\n",
       "      <td>1.430000</td>\n",
       "      <td>0.726667</td>\n",
       "      <td>0.626667</td>\n",
       "      <td>0.810000</td>\n",
       "      <td>0.783333</td>\n",
       "      <td>0.190000</td>\n",
       "      <td>0.470000</td>\n",
       "      <td>...</td>\n",
       "      <td>0.690000</td>\n",
       "      <td>0.560000</td>\n",
       "      <td>0.670000</td>\n",
       "      <td>0.553333</td>\n",
       "      <td>0.653333</td>\n",
       "      <td>-248.0000</td>\n",
       "      <td>0.66</td>\n",
       "      <td>-0.250</td>\n",
       "      <td>0.52</td>\n",
       "      <td>0.1400</td>\n",
       "    </tr>\n",
       "    <tr>\n",
       "      <th>2</th>\n",
       "      <td>1.130000</td>\n",
       "      <td>0.143333</td>\n",
       "      <td>0.946667</td>\n",
       "      <td>0.123333</td>\n",
       "      <td>0.080000</td>\n",
       "      <td>0.836667</td>\n",
       "      <td>0.056667</td>\n",
       "      <td>0.756667</td>\n",
       "      <td>0.226667</td>\n",
       "      <td>0.660000</td>\n",
       "      <td>...</td>\n",
       "      <td>0.383333</td>\n",
       "      <td>0.763333</td>\n",
       "      <td>0.670000</td>\n",
       "      <td>0.686667</td>\n",
       "      <td>0.673333</td>\n",
       "      <td>-233.1250</td>\n",
       "      <td>-0.51</td>\n",
       "      <td>-0.950</td>\n",
       "      <td>1.56</td>\n",
       "      <td>-0.4300</td>\n",
       "    </tr>\n",
       "    <tr>\n",
       "      <th>3</th>\n",
       "      <td>0.636667</td>\n",
       "      <td>1.090000</td>\n",
       "      <td>0.750000</td>\n",
       "      <td>0.940000</td>\n",
       "      <td>0.743333</td>\n",
       "      <td>0.346667</td>\n",
       "      <td>0.956667</td>\n",
       "      <td>0.633333</td>\n",
       "      <td>0.486667</td>\n",
       "      <td>1.096667</td>\n",
       "      <td>...</td>\n",
       "      <td>0.846667</td>\n",
       "      <td>0.423333</td>\n",
       "      <td>0.520000</td>\n",
       "      <td>0.846667</td>\n",
       "      <td>0.760000</td>\n",
       "      <td>-249.7775</td>\n",
       "      <td>0.72</td>\n",
       "      <td>0.490</td>\n",
       "      <td>0.70</td>\n",
       "      <td>-0.3024</td>\n",
       "    </tr>\n",
       "    <tr>\n",
       "      <th>4</th>\n",
       "      <td>0.560000</td>\n",
       "      <td>1.013333</td>\n",
       "      <td>0.593333</td>\n",
       "      <td>0.416667</td>\n",
       "      <td>0.773333</td>\n",
       "      <td>0.460000</td>\n",
       "      <td>0.853333</td>\n",
       "      <td>0.796667</td>\n",
       "      <td>0.516667</td>\n",
       "      <td>0.756667</td>\n",
       "      <td>...</td>\n",
       "      <td>0.526667</td>\n",
       "      <td>0.520000</td>\n",
       "      <td>0.716667</td>\n",
       "      <td>0.706667</td>\n",
       "      <td>0.673333</td>\n",
       "      <td>-247.5775</td>\n",
       "      <td>0.60</td>\n",
       "      <td>0.850</td>\n",
       "      <td>-0.47</td>\n",
       "      <td>-0.6300</td>\n",
       "    </tr>\n",
       "  </tbody>\n",
       "</table>\n",
       "<p>5 rows × 29 columns</p>\n",
       "</div>"
      ],
      "text/plain": [
       "       Per1      Per2      Per3      Per4      Per5      Per6      Per7  \\\n",
       "0  1.070000  0.580000  0.480000  0.766667  1.233333  1.993333  0.340000   \n",
       "1  0.473333  1.206667  0.883333  1.430000  0.726667  0.626667  0.810000   \n",
       "2  1.130000  0.143333  0.946667  0.123333  0.080000  0.836667  0.056667   \n",
       "3  0.636667  1.090000  0.750000  0.940000  0.743333  0.346667  0.956667   \n",
       "4  0.560000  1.013333  0.593333  0.416667  0.773333  0.460000  0.853333   \n",
       "\n",
       "       Per8      Per9      Dem1  ...     Cred2     Cred3     Cred4     Cred5  \\\n",
       "0  1.010000  0.863333  0.460000  ...  1.010000  0.933333  0.603333  0.686667   \n",
       "1  0.783333  0.190000  0.470000  ...  0.690000  0.560000  0.670000  0.553333   \n",
       "2  0.756667  0.226667  0.660000  ...  0.383333  0.763333  0.670000  0.686667   \n",
       "3  0.633333  0.486667  1.096667  ...  0.846667  0.423333  0.520000  0.846667   \n",
       "4  0.796667  0.516667  0.756667  ...  0.526667  0.520000  0.716667  0.706667   \n",
       "\n",
       "      Cred6  Normalised_FNT  lambda_wt  geo_score  instance_scores  \\\n",
       "0  0.673333       -245.7500      -0.13      0.256            -0.06   \n",
       "1  0.653333       -248.0000       0.66     -0.250             0.52   \n",
       "2  0.673333       -233.1250      -0.51     -0.950             1.56   \n",
       "3  0.760000       -249.7775       0.72      0.490             0.70   \n",
       "4  0.673333       -247.5775       0.60      0.850            -0.47   \n",
       "\n",
       "   qsets_normalized_tat  \n",
       "0               -0.7000  \n",
       "1                0.1400  \n",
       "2               -0.4300  \n",
       "3               -0.3024  \n",
       "4               -0.6300  \n",
       "\n",
       "[5 rows x 29 columns]"
      ]
     },
     "execution_count": 42,
     "metadata": {},
     "output_type": "execute_result"
    }
   ],
   "source": [
    "x1.head()"
   ]
  },
  {
   "cell_type": "code",
   "execution_count": 43,
   "metadata": {
    "colab": {
     "base_uri": "https://localhost:8080/"
    },
    "id": "IAY0scOqQdVT",
    "outputId": "2ec26dfc-b44c-4d89-a723-9ebb3953b9dd"
   },
   "outputs": [
    {
     "data": {
      "text/plain": [
       "0    0.0\n",
       "1    0.0\n",
       "2    0.0\n",
       "3    0.0\n",
       "4    0.0\n",
       "Name: Target, dtype: float64"
      ]
     },
     "execution_count": 43,
     "metadata": {},
     "output_type": "execute_result"
    }
   ],
   "source": [
    "y1.head()"
   ]
  },
  {
   "cell_type": "code",
   "execution_count": 44,
   "metadata": {
    "id": "5OKP32FAQgU0"
   },
   "outputs": [],
   "source": [
    "# for test--test_data means x2\n",
    "test_data=test.drop(['id','Group','Target','data'],axis=1)\n",
    "# y2 no need to write as we dont have Y in test and we will predict it"
   ]
  },
  {
   "cell_type": "code",
   "execution_count": 45,
   "metadata": {
    "colab": {
     "base_uri": "https://localhost:8080/",
     "height": 299
    },
    "id": "HdCUtp0jQxrE",
    "outputId": "bf00c12c-2fbe-4e8e-e3e7-d04cc7ca00e3"
   },
   "outputs": [
    {
     "data": {
      "text/html": [
       "<div>\n",
       "<style scoped>\n",
       "    .dataframe tbody tr th:only-of-type {\n",
       "        vertical-align: middle;\n",
       "    }\n",
       "\n",
       "    .dataframe tbody tr th {\n",
       "        vertical-align: top;\n",
       "    }\n",
       "\n",
       "    .dataframe thead th {\n",
       "        text-align: right;\n",
       "    }\n",
       "</style>\n",
       "<table border=\"1\" class=\"dataframe\">\n",
       "  <thead>\n",
       "    <tr style=\"text-align: right;\">\n",
       "      <th></th>\n",
       "      <th>Per1</th>\n",
       "      <th>Per2</th>\n",
       "      <th>Per3</th>\n",
       "      <th>Per4</th>\n",
       "      <th>Per5</th>\n",
       "      <th>Per6</th>\n",
       "      <th>Per7</th>\n",
       "      <th>Per8</th>\n",
       "      <th>Per9</th>\n",
       "      <th>Dem1</th>\n",
       "      <th>...</th>\n",
       "      <th>Cred2</th>\n",
       "      <th>Cred3</th>\n",
       "      <th>Cred4</th>\n",
       "      <th>Cred5</th>\n",
       "      <th>Cred6</th>\n",
       "      <th>Normalised_FNT</th>\n",
       "      <th>lambda_wt</th>\n",
       "      <th>geo_score</th>\n",
       "      <th>instance_scores</th>\n",
       "      <th>qsets_normalized_tat</th>\n",
       "    </tr>\n",
       "  </thead>\n",
       "  <tbody>\n",
       "    <tr>\n",
       "      <th>227845</th>\n",
       "      <td>-0.300000</td>\n",
       "      <td>1.540000</td>\n",
       "      <td>0.220000</td>\n",
       "      <td>-0.280000</td>\n",
       "      <td>0.570000</td>\n",
       "      <td>0.260000</td>\n",
       "      <td>0.700000</td>\n",
       "      <td>1.076667</td>\n",
       "      <td>0.930000</td>\n",
       "      <td>0.156667</td>\n",
       "      <td>...</td>\n",
       "      <td>0.813333</td>\n",
       "      <td>0.776667</td>\n",
       "      <td>0.796667</td>\n",
       "      <td>0.823333</td>\n",
       "      <td>0.783333</td>\n",
       "      <td>-249.7500</td>\n",
       "      <td>0.76</td>\n",
       "      <td>0.25</td>\n",
       "      <td>-0.04</td>\n",
       "      <td>-0.4262</td>\n",
       "    </tr>\n",
       "    <tr>\n",
       "      <th>227846</th>\n",
       "      <td>0.633333</td>\n",
       "      <td>0.953333</td>\n",
       "      <td>0.810000</td>\n",
       "      <td>0.466667</td>\n",
       "      <td>0.910000</td>\n",
       "      <td>0.253333</td>\n",
       "      <td>1.040000</td>\n",
       "      <td>0.550000</td>\n",
       "      <td>0.543333</td>\n",
       "      <td>0.433333</td>\n",
       "      <td>...</td>\n",
       "      <td>0.703333</td>\n",
       "      <td>0.806667</td>\n",
       "      <td>0.630000</td>\n",
       "      <td>0.673333</td>\n",
       "      <td>0.673333</td>\n",
       "      <td>-249.8125</td>\n",
       "      <td>0.18</td>\n",
       "      <td>0.43</td>\n",
       "      <td>-0.77</td>\n",
       "      <td>-0.6200</td>\n",
       "    </tr>\n",
       "    <tr>\n",
       "      <th>227847</th>\n",
       "      <td>1.043333</td>\n",
       "      <td>0.740000</td>\n",
       "      <td>0.860000</td>\n",
       "      <td>1.006667</td>\n",
       "      <td>0.583333</td>\n",
       "      <td>0.616667</td>\n",
       "      <td>0.630000</td>\n",
       "      <td>0.686667</td>\n",
       "      <td>0.593333</td>\n",
       "      <td>1.250000</td>\n",
       "      <td>...</td>\n",
       "      <td>0.753333</td>\n",
       "      <td>0.870000</td>\n",
       "      <td>0.596667</td>\n",
       "      <td>0.680000</td>\n",
       "      <td>0.670000</td>\n",
       "      <td>-248.1200</td>\n",
       "      <td>0.39</td>\n",
       "      <td>1.32</td>\n",
       "      <td>0.11</td>\n",
       "      <td>-0.4062</td>\n",
       "    </tr>\n",
       "    <tr>\n",
       "      <th>227848</th>\n",
       "      <td>1.283333</td>\n",
       "      <td>0.300000</td>\n",
       "      <td>0.576667</td>\n",
       "      <td>0.636667</td>\n",
       "      <td>0.256667</td>\n",
       "      <td>0.543333</td>\n",
       "      <td>0.356667</td>\n",
       "      <td>0.663333</td>\n",
       "      <td>1.156667</td>\n",
       "      <td>1.186667</td>\n",
       "      <td>...</td>\n",
       "      <td>0.606667</td>\n",
       "      <td>0.456667</td>\n",
       "      <td>0.320000</td>\n",
       "      <td>0.676667</td>\n",
       "      <td>0.660000</td>\n",
       "      <td>-222.9875</td>\n",
       "      <td>1.80</td>\n",
       "      <td>-2.11</td>\n",
       "      <td>0.33</td>\n",
       "      <td>0.3738</td>\n",
       "    </tr>\n",
       "    <tr>\n",
       "      <th>227849</th>\n",
       "      <td>1.186667</td>\n",
       "      <td>0.326667</td>\n",
       "      <td>0.476667</td>\n",
       "      <td>0.866667</td>\n",
       "      <td>0.436667</td>\n",
       "      <td>0.680000</td>\n",
       "      <td>0.476667</td>\n",
       "      <td>0.686667</td>\n",
       "      <td>1.476667</td>\n",
       "      <td>1.213333</td>\n",
       "      <td>...</td>\n",
       "      <td>0.896667</td>\n",
       "      <td>0.566667</td>\n",
       "      <td>0.546667</td>\n",
       "      <td>0.650000</td>\n",
       "      <td>0.663333</td>\n",
       "      <td>-196.2200</td>\n",
       "      <td>1.89</td>\n",
       "      <td>-2.11</td>\n",
       "      <td>-0.37</td>\n",
       "      <td>-0.1300</td>\n",
       "    </tr>\n",
       "  </tbody>\n",
       "</table>\n",
       "<p>5 rows × 29 columns</p>\n",
       "</div>"
      ],
      "text/plain": [
       "            Per1      Per2      Per3      Per4      Per5      Per6      Per7  \\\n",
       "227845 -0.300000  1.540000  0.220000 -0.280000  0.570000  0.260000  0.700000   \n",
       "227846  0.633333  0.953333  0.810000  0.466667  0.910000  0.253333  1.040000   \n",
       "227847  1.043333  0.740000  0.860000  1.006667  0.583333  0.616667  0.630000   \n",
       "227848  1.283333  0.300000  0.576667  0.636667  0.256667  0.543333  0.356667   \n",
       "227849  1.186667  0.326667  0.476667  0.866667  0.436667  0.680000  0.476667   \n",
       "\n",
       "            Per8      Per9      Dem1  ...     Cred2     Cred3     Cred4  \\\n",
       "227845  1.076667  0.930000  0.156667  ...  0.813333  0.776667  0.796667   \n",
       "227846  0.550000  0.543333  0.433333  ...  0.703333  0.806667  0.630000   \n",
       "227847  0.686667  0.593333  1.250000  ...  0.753333  0.870000  0.596667   \n",
       "227848  0.663333  1.156667  1.186667  ...  0.606667  0.456667  0.320000   \n",
       "227849  0.686667  1.476667  1.213333  ...  0.896667  0.566667  0.546667   \n",
       "\n",
       "           Cred5     Cred6  Normalised_FNT  lambda_wt  geo_score  \\\n",
       "227845  0.823333  0.783333       -249.7500       0.76       0.25   \n",
       "227846  0.673333  0.673333       -249.8125       0.18       0.43   \n",
       "227847  0.680000  0.670000       -248.1200       0.39       1.32   \n",
       "227848  0.676667  0.660000       -222.9875       1.80      -2.11   \n",
       "227849  0.650000  0.663333       -196.2200       1.89      -2.11   \n",
       "\n",
       "        instance_scores  qsets_normalized_tat  \n",
       "227845            -0.04               -0.4262  \n",
       "227846            -0.77               -0.6200  \n",
       "227847             0.11               -0.4062  \n",
       "227848             0.33                0.3738  \n",
       "227849            -0.37               -0.1300  \n",
       "\n",
       "[5 rows x 29 columns]"
      ]
     },
     "execution_count": 45,
     "metadata": {},
     "output_type": "execute_result"
    }
   ],
   "source": [
    "test_data.head()"
   ]
  },
  {
   "cell_type": "code",
   "execution_count": 46,
   "metadata": {
    "colab": {
     "base_uri": "https://localhost:8080/"
    },
    "id": "ONgpRl02Q0EV",
    "outputId": "01d075b3-cdee-433b-a3a7-c4353b48b6f6"
   },
   "outputs": [
    {
     "name": "stdout",
     "output_type": "stream",
     "text": [
      "<class 'pandas.core.frame.DataFrame'>\n",
      "Int64Index: 227845 entries, 0 to 227844\n",
      "Data columns (total 29 columns):\n",
      " #   Column                Non-Null Count   Dtype  \n",
      "---  ------                --------------   -----  \n",
      " 0   Per1                  227845 non-null  float64\n",
      " 1   Per2                  227845 non-null  float64\n",
      " 2   Per3                  227845 non-null  float64\n",
      " 3   Per4                  227845 non-null  float64\n",
      " 4   Per5                  227845 non-null  float64\n",
      " 5   Per6                  227845 non-null  float64\n",
      " 6   Per7                  227845 non-null  float64\n",
      " 7   Per8                  227845 non-null  float64\n",
      " 8   Per9                  227845 non-null  float64\n",
      " 9   Dem1                  227845 non-null  float64\n",
      " 10  Dem2                  227845 non-null  float64\n",
      " 11  Dem3                  227845 non-null  float64\n",
      " 12  Dem4                  227845 non-null  float64\n",
      " 13  Dem5                  227845 non-null  float64\n",
      " 14  Dem6                  227845 non-null  float64\n",
      " 15  Dem7                  227845 non-null  float64\n",
      " 16  Dem8                  227845 non-null  float64\n",
      " 17  Dem9                  227845 non-null  float64\n",
      " 18  Cred1                 227845 non-null  float64\n",
      " 19  Cred2                 227845 non-null  float64\n",
      " 20  Cred3                 227845 non-null  float64\n",
      " 21  Cred4                 227845 non-null  float64\n",
      " 22  Cred5                 227845 non-null  float64\n",
      " 23  Cred6                 227845 non-null  float64\n",
      " 24  Normalised_FNT        227845 non-null  float64\n",
      " 25  lambda_wt             227845 non-null  float64\n",
      " 26  geo_score             227845 non-null  float64\n",
      " 27  instance_scores       227845 non-null  float64\n",
      " 28  qsets_normalized_tat  227845 non-null  float64\n",
      "dtypes: float64(29)\n",
      "memory usage: 52.1 MB\n"
     ]
    }
   ],
   "source": [
    "x1.info()\n",
    "# eveything is float so encoding not required\n",
    "# missing already handles\n",
    "# its a classification problem"
   ]
  },
  {
   "cell_type": "code",
   "execution_count": 47,
   "metadata": {
    "id": "277OABPTQ4X6"
   },
   "outputs": [],
   "source": [
    "# doing the normalization of data\n",
    "# Featture Scaling\n",
    "from sklearn.preprocessing import StandardScaler\n",
    "scaler=StandardScaler()\n",
    "scaler_x=scaler.fit_transform(x1)"
   ]
  },
  {
   "cell_type": "code",
   "execution_count": 48,
   "metadata": {
    "id": "YwE_n91ZSxMU"
   },
   "outputs": [],
   "source": [
    "scaler_test=scaler.fit_transform(test_data)"
   ]
  },
  {
   "cell_type": "code",
   "execution_count": 49,
   "metadata": {
    "colab": {
     "base_uri": "https://localhost:8080/"
    },
    "id": "IiXG_xWfS2FE",
    "outputId": "e8576f1f-355e-4aaf-f6d2-79dca2be4d28"
   },
   "outputs": [
    {
     "data": {
      "text/plain": [
       "array([[-1.49603067,  1.57005823, -0.89319048, ...,  0.23899916,\n",
       "        -0.03754051, -0.50593508],\n",
       "       [-0.05554544,  0.52033809,  0.2829443 , ...,  0.41790649,\n",
       "        -0.71456966, -0.73500229],\n",
       "       [ 0.57723914,  0.13862168,  0.38261674, ...,  1.30250387,\n",
       "         0.10157507, -0.48229553],\n",
       "       ...,\n",
       "       [ 0.63897422, -0.41009567,  0.27629947, ..., -0.53626596,\n",
       "         0.60239115, -0.02581588],\n",
       "       [-0.15843724,  0.87819723, -0.59417316, ...,  0.25887775,\n",
       "        -0.85368524,  0.71882985],\n",
       "       [ 1.168867  , -0.98863461, -1.34503887, ..., -0.66945253,\n",
       "         1.45563337,  0.41600725]])"
      ]
     },
     "execution_count": 49,
     "metadata": {},
     "output_type": "execute_result"
    }
   ],
   "source": [
    "scaler_test\n",
    "# this will be the future prediction data"
   ]
  },
  {
   "cell_type": "code",
   "execution_count": 50,
   "metadata": {
    "colab": {
     "base_uri": "https://localhost:8080/"
    },
    "id": "_AGezyrlRO3J",
    "outputId": "dbac4fc4-0fd4-4307-8908-91e51bbec53d"
   },
   "outputs": [
    {
     "data": {
      "text/plain": [
       "array([[ 0.61760338, -0.15994945, -0.36795308, ...,  0.24768007,\n",
       "        -0.05485825, -0.82486609],\n",
       "       [-0.29454707,  0.98296998,  0.42858792, ..., -0.25952338,\n",
       "         0.47652766,  0.16317562],\n",
       "       [ 0.70932801, -0.95634544,  0.5536646 , ..., -0.96118824,\n",
       "         1.42935757, -0.50728126],\n",
       "       ...,\n",
       "       [ 0.60231594,  0.16225656,  0.4746688 , ...,  1.05960654,\n",
       "        -0.11899103,  0.0102644 ],\n",
       "       [-0.35569682,  0.63036718,  0.98155852, ..., -3.3067536 ,\n",
       "        -0.60456781,  0.44994296],\n",
       "       [ 0.52078294, -0.20858432,  0.5536646 , ..., -0.369785  ,\n",
       "        -0.20144746,  0.64543407]])"
      ]
     },
     "execution_count": 50,
     "metadata": {},
     "output_type": "execute_result"
    }
   ],
   "source": [
    "scaler_x"
   ]
  },
  {
   "cell_type": "code",
   "execution_count": 51,
   "metadata": {
    "colab": {
     "base_uri": "https://localhost:8080/"
    },
    "id": "e5lWxXPATAHy",
    "outputId": "ae170e77-160e-42ff-ef57-b6fdf33c8ba5"
   },
   "outputs": [
    {
     "data": {
      "text/plain": [
       "(56962, 29)"
      ]
     },
     "execution_count": 51,
     "metadata": {},
     "output_type": "execute_result"
    }
   ],
   "source": [
    "scaler_test.shape"
   ]
  },
  {
   "cell_type": "code",
   "execution_count": 52,
   "metadata": {
    "colab": {
     "base_uri": "https://localhost:8080/"
    },
    "id": "oc5hdbX2RP_H",
    "outputId": "768e30d7-fa65-49d4-8afb-10db47461cfb"
   },
   "outputs": [
    {
     "data": {
      "text/plain": [
       "0.0    227451\n",
       "1.0       394\n",
       "Name: Target, dtype: int64"
      ]
     },
     "execution_count": 52,
     "metadata": {},
     "output_type": "execute_result"
    }
   ],
   "source": [
    "y1.value_counts()\n",
    "# highly imbalanced data\n",
    "# we will not balance and we will see precision adn recall scores not the accuracy scores\n",
    "# we should not always try to balance the data as in this case we are saying that every third transaction\n",
    "# is fraud if we do balancing of data. SO we will not do it and rely on precisiona nd recall scores"
   ]
  },
  {
   "cell_type": "code",
   "execution_count": 53,
   "metadata": {
    "colab": {
     "base_uri": "https://localhost:8080/"
    },
    "id": "ljMQkSFuRU88",
    "outputId": "6ab86e76-4f5d-48d9-a29d-e593fd90a246"
   },
   "outputs": [
    {
     "data": {
      "text/plain": [
       "0.001729245759178389"
      ]
     },
     "execution_count": 53,
     "metadata": {},
     "output_type": "execute_result"
    }
   ],
   "source": [
    "# how many frauds were beyond the scope\n",
    "outlier_fraction=394/(227451+394)\n",
    "outlier_fraction\n",
    "# its very less"
   ]
  },
  {
   "cell_type": "markdown",
   "metadata": {
    "id": "jT_a6dPtR1z9"
   },
   "source": [
    "# Model Building"
   ]
  },
  {
   "cell_type": "code",
   "execution_count": 54,
   "metadata": {
    "id": "g6KCESVYRuyY"
   },
   "outputs": [],
   "source": [
    "# Split the data into traiig and test\n",
    "from sklearn.model_selection import train_test_split\n",
    "x_train,x_test,y_train,y_test=train_test_split(scaler_x,y1,test_size=0.3,random_state=101)"
   ]
  },
  {
   "cell_type": "code",
   "execution_count": 55,
   "metadata": {
    "id": "rlzJ08pFRzSs"
   },
   "outputs": [],
   "source": [
    "# build the model\n",
    "# We will use stacking method so that we can build all models at once\n",
    "# stacking classifier\n",
    "# also as we dont have visibility the=aths why no need for EDA as we do tknow the actual features"
   ]
  },
  {
   "cell_type": "markdown",
   "metadata": {
    "id": "ERzoghbeTzo0"
   },
   "source": [
    "# Stacking Classifier"
   ]
  },
  {
   "cell_type": "code",
   "execution_count": 56,
   "metadata": {
    "id": "ysAFePRkRzVX"
   },
   "outputs": [],
   "source": [
    " # It does all models at one go\n",
    " # in real time we should use voting and stacking as its a ensemble tecniques\n",
    " # what we do is combine all models and generate a stacking model\n",
    " # stacking in used little more then voting technique\n",
    "  "
   ]
  },
  {
   "cell_type": "code",
   "execution_count": 57,
   "metadata": {
    "colab": {
     "base_uri": "https://localhost:8080/"
    },
    "id": "e1lC6wHaRzX9",
    "outputId": "d9d1c94e-ed6a-4624-a6b1-84469375b7cd"
   },
   "outputs": [
    {
     "name": "stdout",
     "output_type": "stream",
     "text": [
      "Collecting mlxtend==0.21.0\n",
      "  Using cached mlxtend-0.21.0-py2.py3-none-any.whl (1.3 MB)\n",
      "Requirement already satisfied: scipy>=1.2.1 in c:\\users\\priya\\anaconda3\\lib\\site-packages (from mlxtend==0.21.0) (1.10.0)\n",
      "Requirement already satisfied: matplotlib>=3.0.0 in c:\\users\\priya\\anaconda3\\lib\\site-packages (from mlxtend==0.21.0) (3.7.0)\n",
      "Requirement already satisfied: joblib>=0.13.2 in c:\\users\\priya\\anaconda3\\lib\\site-packages (from mlxtend==0.21.0) (1.1.1)\n",
      "Requirement already satisfied: setuptools in c:\\users\\priya\\anaconda3\\lib\\site-packages (from mlxtend==0.21.0) (65.6.3)\n",
      "Requirement already satisfied: scikit-learn>=1.0.2 in c:\\users\\priya\\anaconda3\\lib\\site-packages (from mlxtend==0.21.0) (1.2.1)\n",
      "Requirement already satisfied: pandas>=0.24.2 in c:\\users\\priya\\anaconda3\\lib\\site-packages (from mlxtend==0.21.0) (1.5.3)\n",
      "Requirement already satisfied: numpy>=1.16.2 in c:\\users\\priya\\anaconda3\\lib\\site-packages (from mlxtend==0.21.0) (1.23.5)\n",
      "Requirement already satisfied: fonttools>=4.22.0 in c:\\users\\priya\\anaconda3\\lib\\site-packages (from matplotlib>=3.0.0->mlxtend==0.21.0) (4.25.0)\n",
      "Requirement already satisfied: python-dateutil>=2.7 in c:\\users\\priya\\appdata\\roaming\\python\\python310\\site-packages (from matplotlib>=3.0.0->mlxtend==0.21.0) (2.8.2)\n",
      "Requirement already satisfied: contourpy>=1.0.1 in c:\\users\\priya\\anaconda3\\lib\\site-packages (from matplotlib>=3.0.0->mlxtend==0.21.0) (1.0.5)\n",
      "Requirement already satisfied: cycler>=0.10 in c:\\users\\priya\\anaconda3\\lib\\site-packages (from matplotlib>=3.0.0->mlxtend==0.21.0) (0.11.0)\n",
      "Requirement already satisfied: packaging>=20.0 in c:\\users\\priya\\appdata\\roaming\\python\\python310\\site-packages (from matplotlib>=3.0.0->mlxtend==0.21.0) (22.0)\n",
      "Requirement already satisfied: pillow>=6.2.0 in c:\\users\\priya\\anaconda3\\lib\\site-packages (from matplotlib>=3.0.0->mlxtend==0.21.0) (9.4.0)\n",
      "Requirement already satisfied: kiwisolver>=1.0.1 in c:\\users\\priya\\anaconda3\\lib\\site-packages (from matplotlib>=3.0.0->mlxtend==0.21.0) (1.4.4)\n",
      "Requirement already satisfied: pyparsing>=2.3.1 in c:\\users\\priya\\anaconda3\\lib\\site-packages (from matplotlib>=3.0.0->mlxtend==0.21.0) (3.0.9)\n",
      "Requirement already satisfied: pytz>=2020.1 in c:\\users\\priya\\anaconda3\\lib\\site-packages (from pandas>=0.24.2->mlxtend==0.21.0) (2022.7)\n",
      "Requirement already satisfied: threadpoolctl>=2.0.0 in c:\\users\\priya\\anaconda3\\lib\\site-packages (from scikit-learn>=1.0.2->mlxtend==0.21.0) (2.2.0)\n",
      "Requirement already satisfied: six>=1.5 in c:\\users\\priya\\appdata\\roaming\\python\\python310\\site-packages (from python-dateutil>=2.7->matplotlib>=3.0.0->mlxtend==0.21.0) (1.16.0)\n",
      "Installing collected packages: mlxtend\n",
      "Successfully installed mlxtend-0.21.0\n"
     ]
    }
   ],
   "source": [
    "!pip install mlxtend==0.21.0"
   ]
  },
  {
   "cell_type": "code",
   "execution_count": 58,
   "metadata": {
    "id": "NTSbRX7HRzZ8"
   },
   "outputs": [],
   "source": [
    "from mlxtend.classifier import StackingClassifier\n",
    "from sklearn.linear_model import LogisticRegression\n",
    "from sklearn.tree import DecisionTreeClassifier\n",
    "from sklearn.ensemble import RandomForestClassifier\n",
    "from sklearn.neighbors import KNeighborsClassifier\n",
    "from sklearn.naive_bayes import GaussianNB\n",
    "from sklearn.svm import SVC\n",
    "\n",
    "from sklearn.model_selection import cross_val_score"
   ]
  },
  {
   "cell_type": "code",
   "execution_count": 59,
   "metadata": {
    "id": "cOwTzWUURzb1"
   },
   "outputs": [],
   "source": [
    "clf1=LogisticRegression()\n",
    "clf2=DecisionTreeClassifier()\n",
    "clf3=RandomForestClassifier()\n",
    "clf4=KNeighborsClassifier()\n",
    "clf5=GaussianNB()\n",
    "clf6=SVC()      # we can add parameters as well if we want . we are doing default parameters"
   ]
  },
  {
   "cell_type": "code",
   "execution_count": 60,
   "metadata": {
    "colab": {
     "base_uri": "https://localhost:8080/"
    },
    "id": "fmdPPbzARzeA",
    "outputId": "9c6c4dfa-46ab-45ce-9532-4f19b1be6337"
   },
   "outputs": [
    {
     "name": "stdout",
     "output_type": "stream",
     "text": [
      "5-fold cross validation : \n",
      "\n",
      "Accuracy : 1.00 (+/-0.00)[DT]\n",
      "Accuracy : 1.00 (+/-0.00)[RF]\n",
      "Accuracy : 1.00 (+/-0.00)[KNN]\n",
      "Accuracy : 0.98 (+/-0.00)[NaiveBayes]\n",
      "Accuracy : 1.00 (+/-0.00)[SVM]\n",
      "Accuracy : 1.00 (+/-0.00)[Stacking]\n"
     ]
    }
   ],
   "source": [
    "sclf=StackingClassifier(classifiers=[clf2,clf3,clf4,clf5,clf6],meta_classifier=clf1)\n",
    "# we will not give logitis as we are comparing with first also that is logistic regression\n",
    "print('5-fold cross validation : \\n')\n",
    "\n",
    "for clf, label in zip([clf2,clf3,clf4,clf5,clf6,sclf],['DT','RF','KNN','NaiveBayes','SVM','Stacking']):\n",
    "  scores=cross_val_score(clf,x_train,y_train,cv=5,scoring='accuracy')\n",
    "  print(\"Accuracy : %0.2f (+/-%0.2f)[%s]\" % (scores.mean(),scores.std(),label))\n",
    "  # scores_test=cross_val_score(clf,x_test,y_test,cv=5,scoring='accuracy')\n",
    "  # print(\"Accuracy : %0.2f (+/-%0.2f)[%s]\" % (scores_test.mean(),scores_test.std(),label))\n",
    "  # if we want to test test data as well\n"
   ]
  },
  {
   "cell_type": "code",
   "execution_count": 61,
   "metadata": {
    "id": "pwH-3JWHu7MW"
   },
   "outputs": [],
   "source": [
    "from sklearn.metrics import classification_report,accuracy_score,confusion_matrix"
   ]
  },
  {
   "cell_type": "code",
   "execution_count": 62,
   "metadata": {
    "colab": {
     "base_uri": "https://localhost:8080/"
    },
    "id": "Uub-Hdv1f3kI",
    "outputId": "45f4bde8-e342-43b4-899b-89678c3adc0f"
   },
   "outputs": [
    {
     "name": "stdout",
     "output_type": "stream",
     "text": [
      "1.0\n",
      "              precision    recall  f1-score   support\n",
      "\n",
      "         0.0       1.00      1.00      1.00    159200\n",
      "         1.0       1.00      1.00      1.00       291\n",
      "\n",
      "    accuracy                           1.00    159491\n",
      "   macro avg       1.00      1.00      1.00    159491\n",
      "weighted avg       1.00      1.00      1.00    159491\n",
      "\n",
      "[[159200      0]\n",
      " [     0    291]]\n"
     ]
    }
   ],
   "source": [
    "sclf.fit(x_train,y_train)\n",
    "y_pred_train=sclf.predict(x_train)\n",
    "y_pred_test=sclf.predict(x_test)\n",
    "\n",
    "print(accuracy_score(y_train,y_pred_train))\n",
    "print(classification_report(y_train,y_pred_train))\n",
    "print(confusion_matrix(y_train,y_pred_train))\n"
   ]
  },
  {
   "cell_type": "code",
   "execution_count": null,
   "metadata": {
    "id": "Ww5m78b9g9Uv"
   },
   "outputs": [],
   "source": []
  },
  {
   "cell_type": "code",
   "execution_count": 63,
   "metadata": {
    "id": "gfFJfAoQgR2M"
   },
   "outputs": [],
   "source": [
    "final_predict=sclf.predict(test_data)  # to predit the production data"
   ]
  },
  {
   "cell_type": "code",
   "execution_count": 64,
   "metadata": {
    "colab": {
     "base_uri": "https://localhost:8080/"
    },
    "id": "BysINKQohARL",
    "outputId": "45046d27-f5be-4a89-a62e-0b7877e684ee"
   },
   "outputs": [
    {
     "data": {
      "text/plain": [
       "array([0., 0., 0., ..., 0., 0., 0.])"
      ]
     },
     "execution_count": 64,
     "metadata": {},
     "output_type": "execute_result"
    }
   ],
   "source": [
    "final_predict"
   ]
  },
  {
   "cell_type": "code",
   "execution_count": 65,
   "metadata": {
    "id": "HgOkwUDXRzga"
   },
   "outputs": [],
   "source": []
  },
  {
   "cell_type": "markdown",
   "metadata": {
    "id": "BFWes9Zzb486"
   },
   "source": [
    "# Anamoly Detection Techniques: Isolation Forest, local outlier factor,OneclassSVM"
   ]
  },
  {
   "cell_type": "code",
   "execution_count": 66,
   "metadata": {
    "id": "3QsPW0ZkRziW"
   },
   "outputs": [],
   "source": [
    "from sklearn.ensemble import IsolationForest  # based on rf\n",
    " # isloationforest is the best one but black box\n",
    "from sklearn.neighbors import LocalOutlierFactor  # based on knn\n",
    "from sklearn.svm import OneClassSVM  # based on svm\n",
    "\n",
    "from sklearn.metrics import classification_report,accuracy_score,confusion_matrix"
   ]
  },
  {
   "cell_type": "code",
   "execution_count": 68,
   "metadata": {
    "colab": {
     "base_uri": "https://localhost:8080/",
     "height": 201
    },
    "id": "I0dCTEA6Rzka",
    "outputId": "34bd9459-7743-4f7e-f838-208c6428dcbc"
   },
   "outputs": [],
   "source": [
    "classification={'IsolationForest':IsolationForest(contamination=outlier_fraction),\n",
    "                'LocalOutlierFactor':LocalOutlierFactor(contamination=outlier_fraction),\n",
    "                'OneClassSVM':OneClassSVM()}  # rest we will keep default"
   ]
  },
  {
   "cell_type": "code",
   "execution_count": 73,
   "metadata": {
    "id": "p4zBx_gvRzms"
   },
   "outputs": [
    {
     "name": "stdout",
     "output_type": "stream",
     "text": [
      "IsolationForest : 602\n",
      "0.9973578529263315\n",
      "              precision    recall  f1-score   support\n",
      "\n",
      "         0.0       1.00      1.00      1.00    227451\n",
      "         1.0       0.24      0.24      0.24       394\n",
      "\n",
      "    accuracy                           1.00    227845\n",
      "   macro avg       0.62      0.62      0.62    227845\n",
      "weighted avg       1.00      1.00      1.00    227845\n",
      "\n",
      "[[227150    301]\n",
      " [   301     93]]\n",
      "LocalOutlierFactor : 788\n",
      "0.9965415084816432\n",
      "              precision    recall  f1-score   support\n",
      "\n",
      "         0.0       1.00      1.00      1.00    227451\n",
      "         1.0       0.00      0.00      0.00       394\n",
      "\n",
      "    accuracy                           1.00    227845\n",
      "   macro avg       0.50      0.50      0.50    227845\n",
      "weighted avg       1.00      1.00      1.00    227845\n",
      "\n",
      "[[227057    394]\n",
      " [   394      0]]\n",
      "OneClassSVM : 113558\n",
      "0.5015997717746714\n",
      "              precision    recall  f1-score   support\n",
      "\n",
      "         0.0       1.00      0.50      0.67    227451\n",
      "         1.0       0.00      0.96      0.01       394\n",
      "\n",
      "    accuracy                           0.50    227845\n",
      "   macro avg       0.50      0.73      0.34    227845\n",
      "weighted avg       1.00      0.50      0.67    227845\n",
      "\n",
      "[[113907 113544]\n",
      " [    14    380]]\n"
     ]
    }
   ],
   "source": [
    "from sklearn.metrics import classification_report\n",
    "n_outlier=394    # as we have 394 frauds\n",
    "\n",
    "for i, (clf_name,clf) in enumerate(classification.items()):\n",
    "    if clf_name=='LocalOutlierFactor':\n",
    "        y_pred=clf.fit_predict(scaler_x)\n",
    "        score_predict=clf.negative_outlier_factor_\n",
    "    elif clf_name=='OneClassSVM':\n",
    "        clf.fit(scaler_x)\n",
    "        y_pred=clf.predict(scaler_x)\n",
    "    else:\n",
    "        clf.fit(scaler_x)\n",
    "        score_prediction=clf.decision_function(scaler_x)\n",
    "        y_pred=clf.predict(scaler_x)\n",
    "    y_pred[y_pred==1]=0   # not fraud\n",
    "    y_pred[y_pred==-1]=1   # fraud\n",
    "    n_error=(y_pred!=y1).sum()\n",
    "\n",
    "    print(\"{} : {}\".format(clf_name,n_error))\n",
    "    print(accuracy_score(y1,y_pred))\n",
    "    print(classification_report(y1,y_pred))\n",
    "    print(confusion_matrix(y1,y_pred))\n",
    "    \n",
    "# as per this there are 602 frauds predicted"
   ]
  },
  {
   "cell_type": "code",
   "execution_count": null,
   "metadata": {
    "id": "E2WcGLcyRzpD"
   },
   "outputs": [],
   "source": []
  },
  {
   "cell_type": "code",
   "execution_count": null,
   "metadata": {
    "id": "jVT8io58Rzq3"
   },
   "outputs": [],
   "source": []
  },
  {
   "cell_type": "code",
   "execution_count": null,
   "metadata": {
    "id": "LBHEEW20Rzsw"
   },
   "outputs": [],
   "source": []
  },
  {
   "cell_type": "code",
   "execution_count": null,
   "metadata": {
    "id": "wwOMuhG9RzvE"
   },
   "outputs": [],
   "source": []
  },
  {
   "cell_type": "code",
   "execution_count": null,
   "metadata": {
    "id": "8MFkTkCwRzxB"
   },
   "outputs": [],
   "source": []
  },
  {
   "cell_type": "code",
   "execution_count": null,
   "metadata": {
    "id": "vxq9cketRz10"
   },
   "outputs": [],
   "source": []
  }
 ],
 "metadata": {
  "accelerator": "GPU",
  "colab": {
   "gpuType": "T4",
   "provenance": []
  },
  "gpuClass": "standard",
  "kernelspec": {
   "display_name": "Python 3 (ipykernel)",
   "language": "python",
   "name": "python3"
  },
  "language_info": {
   "codemirror_mode": {
    "name": "ipython",
    "version": 3
   },
   "file_extension": ".py",
   "mimetype": "text/x-python",
   "name": "python",
   "nbconvert_exporter": "python",
   "pygments_lexer": "ipython3",
   "version": "3.10.9"
  }
 },
 "nbformat": 4,
 "nbformat_minor": 1
}
